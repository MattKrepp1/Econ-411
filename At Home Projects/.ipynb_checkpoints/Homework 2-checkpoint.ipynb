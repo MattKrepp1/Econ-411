{
 "cells": [
  {
   "cell_type": "code",
   "execution_count": null,
   "id": "0280c966-ebe0-46ea-afcc-d380732cf0ce",
   "metadata": {
    "tags": []
   },
   "outputs": [],
   "source": [
    "list1 = []\n",
    "for i in range (3,303,3):\n",
    "    print(i)\n",
    "    list1.append(i)\n",
    "print(list1)"
   ]
  },
  {
   "cell_type": "code",
   "execution_count": null,
   "id": "fce25544-578b-49e4-b1a0-02a4b00329ea",
   "metadata": {
    "tags": []
   },
   "outputs": [],
   "source": [
    "for val in list1:\n",
    "    list2.append(str(val))\n",
    "print(list2)"
   ]
  },
  {
   "cell_type": "code",
   "execution_count": null,
   "id": "3930866a-fe76-47a4-9191-47cbc8c674bb",
   "metadata": {},
   "outputs": [],
   "source": [
    "print(list2)\n",
    "list2.append(i)"
   ]
  },
  {
   "cell_type": "code",
   "execution_count": null,
   "id": "af7b151d-f4fb-453e-a8fd-0e218f970548",
   "metadata": {
    "tags": []
   },
   "outputs": [],
   "source": [
    "list1.pop()\n",
    "x = list1.pop()\n",
    "list1.append(x)"
   ]
  },
  {
   "cell_type": "code",
   "execution_count": null,
   "id": "773b5cf6-6afc-4797-a196-d0d0833b2f47",
   "metadata": {},
   "outputs": [],
   "source": [
    "len(list1)/2"
   ]
  },
  {
   "cell_type": "code",
   "execution_count": null,
   "id": "82f06b17-c6bb-4c4e-b265-c8894c78fbd0",
   "metadata": {
    "tags": []
   },
   "outputs": [],
   "source": [
    "# 50 = midpoint of list 1\n",
    "list2[50:100]"
   ]
  },
  {
   "cell_type": "code",
   "execution_count": null,
   "id": "41dc61a7-8085-4aed-9e50-d0ad12b2532b",
   "metadata": {
    "tags": []
   },
   "outputs": [],
   "source": [
    "list2[0:-1:2]"
   ]
  },
  {
   "cell_type": "markdown",
   "id": "2c9002f3-0402-41d3-9a8f-53de662d1c50",
   "metadata": {},
   "source": [
    "Tuples are static and unchanging, whereas you can edit and update a list"
   ]
  }
 ],
 "metadata": {
  "kernelspec": {
   "display_name": "Python 3 (ipykernel)",
   "language": "python",
   "name": "python3"
  },
  "language_info": {
   "codemirror_mode": {
    "name": "ipython",
    "version": 3
   },
   "file_extension": ".py",
   "mimetype": "text/x-python",
   "name": "python",
   "nbconvert_exporter": "python",
   "pygments_lexer": "ipython3",
   "version": "3.9.13"
  }
 },
 "nbformat": 4,
 "nbformat_minor": 5
}
