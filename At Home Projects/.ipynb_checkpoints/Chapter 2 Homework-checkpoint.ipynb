{
 "cells": [
  {
   "cell_type": "code",
   "execution_count": 35,
   "id": "0280c966-ebe0-46ea-afcc-d380732cf0ce",
   "metadata": {
    "tags": []
   },
   "outputs": [
    {
     "name": "stdout",
     "output_type": "stream",
     "text": [
      "300\n"
     ]
    }
   ],
   "source": [
    "list1 = list(range(3,303,3))\n",
    "print(i)"
   ]
  },
  {
   "cell_type": "code",
   "execution_count": 40,
   "id": "fce25544-578b-49e4-b1a0-02a4b00329ea",
   "metadata": {
    "tags": []
   },
   "outputs": [
    {
     "data": {
      "text/plain": [
       "['3',\n",
       " '6',\n",
       " '9',\n",
       " '12',\n",
       " '15',\n",
       " '18',\n",
       " '21',\n",
       " '24',\n",
       " '27',\n",
       " '30',\n",
       " '33',\n",
       " '36',\n",
       " '39',\n",
       " '42',\n",
       " '45',\n",
       " '48',\n",
       " '51',\n",
       " '54',\n",
       " '57',\n",
       " '60',\n",
       " '63',\n",
       " '66',\n",
       " '69',\n",
       " '72',\n",
       " '75',\n",
       " '78',\n",
       " '81',\n",
       " '84',\n",
       " '87',\n",
       " '90',\n",
       " '93',\n",
       " '96',\n",
       " '99',\n",
       " '102',\n",
       " '105',\n",
       " '108',\n",
       " '111',\n",
       " '114',\n",
       " '117',\n",
       " '120',\n",
       " '123',\n",
       " '126',\n",
       " '129',\n",
       " '132',\n",
       " '135',\n",
       " '138',\n",
       " '141',\n",
       " '144',\n",
       " '147',\n",
       " '150',\n",
       " '153',\n",
       " '156',\n",
       " '159',\n",
       " '162',\n",
       " '165',\n",
       " '168',\n",
       " '171',\n",
       " '174',\n",
       " '177',\n",
       " '180',\n",
       " '183',\n",
       " '186',\n",
       " '189',\n",
       " '192',\n",
       " '195',\n",
       " '198',\n",
       " '201',\n",
       " '204',\n",
       " '207',\n",
       " '210',\n",
       " '213',\n",
       " '216',\n",
       " '219',\n",
       " '222',\n",
       " '225',\n",
       " '228',\n",
       " '231',\n",
       " '234',\n",
       " '237',\n",
       " '240',\n",
       " '243',\n",
       " '246',\n",
       " '249',\n",
       " '252',\n",
       " '255',\n",
       " '258',\n",
       " '261',\n",
       " '264',\n",
       " '267',\n",
       " '270',\n",
       " '273',\n",
       " '276',\n",
       " '279',\n",
       " '282',\n",
       " '285',\n",
       " '288',\n",
       " '291',\n",
       " '294',\n",
       " '297',\n",
       " '300']"
      ]
     },
     "execution_count": 40,
     "metadata": {},
     "output_type": "execute_result"
    }
   ],
   "source": [
    "list2 = []\n",
    "for val in list1:\n",
    "    list2.append(str(val))\n",
    "list2"
   ]
  },
  {
   "cell_type": "code",
   "execution_count": 39,
   "id": "c8563246-e41b-496e-89c2-c8a87e0b2aad",
   "metadata": {},
   "outputs": [
    {
     "data": {
      "text/plain": [
       "[1, 2, 3, 4, 5, 1, 2, 3, 4, 5, 1, 2, 3, 4, 5, 1, 2, 3, 4, 5, 1, 2, 3, 4, 5]"
      ]
     },
     "execution_count": 39,
     "metadata": {},
     "output_type": "execute_result"
    }
   ],
   "source": [
    "[1,2,3,4,5] * 5"
   ]
  },
  {
   "cell_type": "code",
   "execution_count": null,
   "id": "3930866a-fe76-47a4-9191-47cbc8c674bb",
   "metadata": {},
   "outputs": [],
   "source": []
  },
  {
   "cell_type": "code",
   "execution_count": null,
   "id": "af7b151d-f4fb-453e-a8fd-0e218f970548",
   "metadata": {
    "tags": []
   },
   "outputs": [],
   "source": []
  },
  {
   "cell_type": "code",
   "execution_count": 25,
   "id": "773b5cf6-6afc-4797-a196-d0d0833b2f47",
   "metadata": {},
   "outputs": [
    {
     "ename": "TypeError",
     "evalue": "object of type 'int' has no len()",
     "output_type": "error",
     "traceback": [
      "\u001b[0;31m---------------------------------------------------------------------------\u001b[0m",
      "\u001b[0;31mTypeError\u001b[0m                                 Traceback (most recent call last)",
      "\u001b[0;32m/var/folders/hz/vggy99z9791d4jlzyvlw3r9w0000gn/T/ipykernel_86187/2961788339.py\u001b[0m in \u001b[0;36m<module>\u001b[0;34m\u001b[0m\n\u001b[0;32m----> 1\u001b[0;31m \u001b[0mlen\u001b[0m\u001b[0;34m(\u001b[0m\u001b[0mlist1\u001b[0m\u001b[0;34m)\u001b[0m\u001b[0;34m\u001b[0m\u001b[0;34m\u001b[0m\u001b[0m\n\u001b[0m",
      "\u001b[0;31mTypeError\u001b[0m: object of type 'int' has no len()"
     ]
    }
   ],
   "source": [
    "len(list1)"
   ]
  },
  {
   "cell_type": "code",
   "execution_count": null,
   "id": "41dc61a7-8085-4aed-9e50-d0ad12b2532b",
   "metadata": {},
   "outputs": [],
   "source": []
  },
  {
   "cell_type": "markdown",
   "id": "2c9002f3-0402-41d3-9a8f-53de662d1c50",
   "metadata": {},
   "source": [
    "Tuples are static and unchanging, whereas you can edit and update a list"
   ]
  }
 ],
 "metadata": {
  "kernelspec": {
   "display_name": "Python 3 (ipykernel)",
   "language": "python",
   "name": "python3"
  },
  "language_info": {
   "codemirror_mode": {
    "name": "ipython",
    "version": 3
   },
   "file_extension": ".py",
   "mimetype": "text/x-python",
   "name": "python",
   "nbconvert_exporter": "python",
   "pygments_lexer": "ipython3",
   "version": "3.9.13"
  }
 },
 "nbformat": 4,
 "nbformat_minor": 5
}
