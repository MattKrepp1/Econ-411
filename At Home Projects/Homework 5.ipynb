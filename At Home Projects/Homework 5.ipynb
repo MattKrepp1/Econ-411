{
 "cells": [
  {
   "cell_type": "code",
   "execution_count": 1,
   "id": "dae2da24-7598-4f0b-a26c-5eec8c77d39f",
   "metadata": {},
   "outputs": [],
   "source": [
    "import random\n",
    "import os\n",
    "import pandas as pd"
   ]
  },
  {
   "cell_type": "code",
   "execution_count": 2,
   "id": "df9ee56f-02c8-478d-84d7-b8e55a423558",
   "metadata": {
    "tags": []
   },
   "outputs": [
    {
     "name": "stdout",
     "output_type": "stream",
     "text": [
      "[10, 76, 85, 84, 95, 57, 43, 25, 77, 7, 83, 40, 69, 39, 59, 1, 99, 1, 46, 96, 70, 6, 58, 15, 11, 33, 100, 79, 28, 30, 50, 39, 86, 64, 53, 80, 26, 23, 12, 24, 50, 99, 95, 79, 68, 36, 2, 58, 17, 0, 23, 55, 24, 59, 38, 80, 38, 27, 48, 31, 11, 62, 61, 77, 78, 56, 76, 8, 80, 21, 75, 92, 15, 9, 28, 37, 22, 39, 46, 43, 18, 31, 44, 57, 30, 58, 26, 60, 10, 20, 78, 34, 24, 81, 41, 45, 65, 47, 73, 78, 71, 9, 91, 33, 33, 51, 78, 68, 87, 61, 31, 47, 24, 42, 81, 76, 43, 24, 71, 4, 81, 86, 17, 100, 32, 75, 75, 28, 0, 14, 79, 71, 94, 48, 94, 49, 99, 24, 60, 56, 75, 97, 11, 60, 38, 43, 27, 9, 23, 91, 45, 28, 15, 12, 48, 35, 94, 55, 6, 21, 41, 49, 15, 50, 21, 97, 91, 59, 22, 26, 71, 25, 60, 77, 0, 21, 15, 1, 3, 4, 45, 64, 76, 83, 16, 6, 24, 69, 31, 44, 79, 18, 8, 30, 36, 42, 9, 60, 8, 48, 29, 22, 81, 78, 85, 64, 67, 36, 33, 5, 90, 51, 10, 43, 96, 9, 33, 13, 40, 88, 41, 31, 18, 22, 17, 58, 30, 71, 26, 3, 44, 24, 74, 80, 71, 67, 12, 56, 43, 56, 43, 27, 18, 68, 12, 18, 4, 1, 46, 67, 17, 60, 12, 29, 73, 57, 15, 53, 44, 17, 37, 58, 74, 43, 86, 43, 39, 51, 71, 98, 28, 87, 14, 49, 77, 22, 36, 1, 65, 69, 30, 6, 6, 79, 85, 73, 66, 41, 62, 100, 94, 11, 100, 14, 85, 21, 21, 29, 44, 47, 87, 64, 21, 25, 84, 70, 6, 85, 78, 60, 4, 17, 82, 33, 77, 81, 11, 57, 62, 55, 10, 53, 16, 1, 12, 88, 4, 25, 95, 63, 61, 96, 23, 61, 91, 84, 26, 13, 26, 42, 36, 77, 3, 30, 92, 18, 56, 0, 68, 84, 13, 15, 43, 70, 97, 37, 92, 7, 70, 78, 35, 44, 83, 61, 69, 24, 42, 27, 33, 83, 68, 95, 97, 72, 91, 72, 26, 30, 48, 75, 32, 4, 31, 27, 4, 31, 21, 51, 24, 5, 85, 11, 7, 9, 83, 19, 33, 93, 51, 61, 79, 75, 41, 90, 60, 62, 77, 79, 29, 22, 20, 30, 36, 51, 0, 50, 79, 49, 98, 35, 32, 27, 75, 21, 62, 29, 95, 24, 57, 4, 77, 75, 64, 71, 67, 22, 66, 28, 47, 69, 28, 56, 60, 12, 41, 23, 40, 2, 12, 94, 34, 24, 23, 31, 48, 62, 10, 8, 64, 96, 90, 76, 19, 36, 9, 35, 52, 39, 96, 60, 27, 2, 32, 70, 76, 37, 17, 24, 42, 100, 29, 5, 92, 99, 38, 3, 46, 1, 22, 7, 56, 8, 69, 4, 2, 69, 50, 25, 56, 89, 15, 54, 29, 17, 79, 12, 49, 44, 18, 81, 41, 44, 88, 39, 6, 20, 57, 65, 70, 27, 20, 8, 95, 85, 39, 84, 22, 35, 43, 78, 57, 3, 37, 48, 72, 92, 11, 18, 15, 33, 24, 17, 100, 48, 14, 90, 35, 75, 31, 49, 28, 90, 8, 28, 89, 27, 45, 39, 28, 80, 42, 83, 17, 37, 78, 33, 77, 48, 66, 84, 31, 71, 45, 71, 41, 33, 36, 38, 97, 15, 72, 75, 50, 35, 77, 51, 66, 66, 88, 67, 4, 82, 64, 50, 17, 82, 12, 36, 77, 60, 60, 43, 33, 96, 45, 57, 97, 66, 60, 23, 92, 60, 43, 13, 66, 45, 23, 89, 15, 50, 68, 10, 78, 13, 92, 36, 24, 36, 59, 31, 10, 73, 90, 91, 45, 33, 56, 29, 68, 90, 65, 86, 4, 62, 88, 79, 76, 95, 11, 46, 49, 11, 84, 54, 4, 27, 39, 12, 10, 76, 46, 46, 63, 23, 41, 10, 67, 73, 19, 59, 19, 96, 13, 76, 84, 68, 52, 31, 22, 79, 75, 82, 100, 65, 13, 15, 33, 48, 56, 21, 84, 26, 61, 100, 35, 85, 36, 88, 8, 12, 44, 95, 9, 80, 20, 40, 50, 21, 73, 10, 19, 31, 5, 18, 36, 63, 89, 57, 28, 22, 66, 42, 1, 56, 93, 51, 61, 46, 76, 99, 15, 49, 39, 38, 95, 42, 11, 64, 70, 1, 66, 76, 40, 62, 4, 57, 12, 76, 87, 76, 54, 59, 51, 71, 51, 48, 12, 90, 72, 67, 34, 26, 89, 12, 2, 88, 68, 77, 85, 22, 95, 83, 81, 43, 10, 29, 95, 4, 12, 80, 47, 11, 16, 1, 46, 95, 84, 12, 58, 23, 55, 95, 56, 11, 21, 74, 16, 35, 16, 47, 18, 94, 61, 27, 75, 100, 9, 22, 73, 17, 15, 92, 63, 80, 93, 50, 16, 46, 85, 57, 68, 40, 97, 17, 11, 5, 53, 42, 81, 15, 40, 54, 45, 65, 23, 27, 36, 18, 6, 18, 53, 35, 8, 32, 31, 11, 75, 8, 55, 48, 8, 17, 82, 26, 32, 62, 72, 3, 88, 77, 36, 24, 33, 63, 15, 98, 48, 82, 71, 38, 7, 37, 32, 75, 64, 53, 16, 64, 80, 20, 16, 67, 41, 72, 31, 55, 70, 22, 31, 34, 24, 17, 73, 47, 84, 97, 38, 51, 32, 2, 54, 85, 27, 94, 5, 26, 21, 99, 96, 45, 78, 92, 18, 23, 9, 12, 7, 75, 78, 78, 40, 35, 70, 42, 28, 74, 20, 70, 45, 36, 5, 81, 44, 18, 72, 95, 2, 11, 95, 41, 41, 10, 74, 66, 43, 9, 47, 90, 57, 56, 21, 10, 73, 48, 20, 16, 98, 54, 8, 63, 93, 25, 18, 8, 44, 93, 18, 39, 26, 48, 5, 31, 32, 84, 53, 39, 12, 63, 45, 91, 0, 23, 46, 22, 36, 47, 42, 56, 41, 84, 64, 67, 95, 73, 86, 54, 9, 84, 26, 19]\n"
     ]
    }
   ],
   "source": [
    "X1 = []\n",
    "for i in range (1000):\n",
    "    X1.append(random.randrange(0,101))\n",
    "    \n",
    "print(X1)"
   ]
  },
  {
   "cell_type": "code",
   "execution_count": 4,
   "id": "ebe78278-a5a4-4eb8-bc08-6115746f674b",
   "metadata": {},
   "outputs": [
    {
     "data": {
      "text/plain": [
       "802.0580740740754"
      ]
     },
     "execution_count": 4,
     "metadata": {},
     "output_type": "execute_result"
    }
   ],
   "source": [
    "def total(list):\n",
    "    total_ = 0\n",
    "    # in original he used the index of the list \n",
    "    # n = len(list)\n",
    "    # for i in range(n)\n",
    "    for val in list:\n",
    "        total_ += val\n",
    "    return total_\n",
    "\n",
    "def mean(lst):\n",
    "    n = len(lst)\n",
    "    mean_ = total(lst) / n\n",
    "    return mean_\n",
    "\n",
    "def variance(lst, sample = True):\n",
    "    list_mean = mean(lst)\n",
    "    n = len(lst)\n",
    "    DoF = n - 1\n",
    "    sum_sq_diff = 0\n",
    "    \n",
    "    for val in lst:\n",
    "        diff = val - list_mean\n",
    "        sum_sq_diff += (diff) ** 2\n",
    "        ## print(val, list_mean, diff ** 2, sum_sq_diff)\n",
    "    if sample == False:\n",
    "        variance_ = sum_sq_diff / n\n",
    "    else:\n",
    "        variance_ = sum_sq_diff / DoF\n",
    "    return variance_\n",
    "\n",
    "variance(X1)"
   ]
  },
  {
   "cell_type": "code",
   "execution_count": null,
   "id": "3e4d437c-7c36-4a86-9544-939d590d5a8a",
   "metadata": {},
   "outputs": [],
   "source": [
    "X2 = [random.randint(0,101) for i in range(1000)]\n",
    "X3 = [random.randint(0,101) for i in range(1000)]\n",
    "X4 = [random.randint(0,101) for i in range(1000)]\n",
    "X5 = [random.randint(0,101) for i in range(1000)]\n",
    "X6 = [random.randint(0,101) for i in range(1000)]\n",
    "X7 = [random.randint(0,101) for i in range(1000)]\n",
    "X8 = [random.randint(0,101) for i in range(1000)]\n",
    "X9 = [random.randint(0,101) for i in range(1000)]\n",
    "X9 = [random.randint(0,101) for i in range(1000)]"
   ]
  },
  {
   "cell_type": "code",
   "execution_count": null,
   "id": "7c259a93-7a0f-4b65-b4b1-5968ed0ded0c",
   "metadata": {
    "tags": []
   },
   "outputs": [],
   "source": [
    "dct = [X2,X3,X4,X5,X6,X7,X8,X9]\n",
    "dct"
   ]
  },
  {
   "cell_type": "code",
   "execution_count": null,
   "id": "9805a5d7-a278-4fda-b186-496ca510d4d8",
   "metadata": {
    "tags": []
   },
   "outputs": [],
   "source": [
    "dct[X2][\"list\"] = X2\n",
    "dct[X3][\"list\"] = X3\n",
    "dct[X4][\"list\"] = X4\n",
    "dct[X5][\"list\"] = X5\n",
    "dct[X6][\"list\"] = X6\n",
    "dct[X7][\"list\"] = X7\n",
    "dct[X8][\"list\"] = X8\n",
    "dct[X9][\"list\"] = X9"
   ]
  },
  {
   "cell_type": "code",
   "execution_count": null,
   "id": "7b3623d3-7ef7-49ec-84e4-d326b36248ab",
   "metadata": {},
   "outputs": [],
   "source": [
    "print(variance(X2), variance(X3), variance(X4), variance(X5), variance(X6), variance(X7), variance(X8), variance(X9))"
   ]
  },
  {
   "cell_type": "code",
   "execution_count": null,
   "id": "7ac43789-fa6e-4e40-b8cb-28e90b2ae02f",
   "metadata": {},
   "outputs": [],
   "source": [
    "dct[X2][\"Variance\"] = variance(X2)\n",
    "dct[X3][\"Variance\"] = variance(X3)\n",
    "dct[X4][\"Variance\"] = variance(X4)\n",
    "dct[X5][\"Variance\"] = variance(X5)\n",
    "dct[X6][\"Variance\"] = variance(X6)\n",
    "dct[X7][\"Variance\"] = variance(X7)\n",
    "dct[X8][\"Variance\"] = variance(X8)\n",
    "dct[X9][\"Variance\"] = variance(X9)"
   ]
  },
  {
   "cell_type": "code",
   "execution_count": null,
   "id": "070ee485-c900-431a-ac75-88fff3f406a2",
   "metadata": {},
   "outputs": [],
   "source": [
    "print(min(lst), max(lst))"
   ]
  },
  {
   "cell_type": "markdown",
   "id": "1c8b2c4e-9e5f-4366-95a8-f9211adb6a2b",
   "metadata": {},
   "source": [
    "It is much easier and quicker to call a function than to rewrite the whole formula. It makes doing computations much simpler and faster"
   ]
  },
  {
   "cell_type": "code",
   "execution_count": null,
   "id": "90a37d60-cd78-48ae-a3ae-df6b864584ad",
   "metadata": {},
   "outputs": [],
   "source": []
  }
 ],
 "metadata": {
  "kernelspec": {
   "display_name": "Python 3 (ipykernel)",
   "language": "python",
   "name": "python3"
  },
  "language_info": {
   "codemirror_mode": {
    "name": "ipython",
    "version": 3
   },
   "file_extension": ".py",
   "mimetype": "text/x-python",
   "name": "python",
   "nbconvert_exporter": "python",
   "pygments_lexer": "ipython3",
   "version": "3.9.13"
  }
 },
 "nbformat": 4,
 "nbformat_minor": 5
}
