{
 "cells": [
  {
   "cell_type": "markdown",
   "id": "963e1cad-22c4-4e72-8e35-c867725b2b28",
   "metadata": {},
   "source": [
    "## Intoduction to numpy, pandas, and matplotlib"
   ]
  },
  {
   "cell_type": "code",
   "execution_count": 1,
   "id": "b8ace557-ac18-4b36-8f55-671b69f7dc3b",
   "metadata": {},
   "outputs": [],
   "source": [
    "import numpy as np\n",
    "import pandas as pd\n",
    "import matplotlib.pyplot as plt"
   ]
  },
  {
   "cell_type": "code",
   "execution_count": 2,
   "id": "92442a70-be63-4aec-b1a4-f26f3c673661",
   "metadata": {},
   "outputs": [
    {
     "data": {
      "text/plain": [
       "(<module 'numpy' from '/Users/mattkrepp/opt/anaconda3/lib/python3.9/site-packages/numpy/__init__.py'>,\n",
       " <module 'pandas' from '/Users/mattkrepp/opt/anaconda3/lib/python3.9/site-packages/pandas/__init__.py'>,\n",
       " <module 'matplotlib.pyplot' from '/Users/mattkrepp/opt/anaconda3/lib/python3.9/site-packages/matplotlib/pyplot.py'>)"
      ]
     },
     "execution_count": 2,
     "metadata": {},
     "output_type": "execute_result"
    }
   ],
   "source": [
    "np, pd, plt"
   ]
  },
  {
   "cell_type": "code",
   "execution_count": 3,
   "id": "f9dd07e7-1aeb-449e-9617-bedeeca68e2c",
   "metadata": {
    "collapsed": true,
    "jupyter": {
     "outputs_hidden": true
    },
    "tags": []
   },
   "outputs": [
    {
     "data": {
      "text/plain": [
       "['ALLOW_THREADS',\n",
       " 'AxisError',\n",
       " 'BUFSIZE',\n",
       " 'Bytes0',\n",
       " 'CLIP',\n",
       " 'ComplexWarning',\n",
       " 'DataSource',\n",
       " 'Datetime64',\n",
       " 'ERR_CALL',\n",
       " 'ERR_DEFAULT',\n",
       " 'ERR_IGNORE',\n",
       " 'ERR_LOG',\n",
       " 'ERR_PRINT',\n",
       " 'ERR_RAISE',\n",
       " 'ERR_WARN',\n",
       " 'FLOATING_POINT_SUPPORT',\n",
       " 'FPE_DIVIDEBYZERO',\n",
       " 'FPE_INVALID',\n",
       " 'FPE_OVERFLOW',\n",
       " 'FPE_UNDERFLOW',\n",
       " 'False_',\n",
       " 'Inf',\n",
       " 'Infinity',\n",
       " 'MAXDIMS',\n",
       " 'MAY_SHARE_BOUNDS',\n",
       " 'MAY_SHARE_EXACT',\n",
       " 'MachAr',\n",
       " 'ModuleDeprecationWarning',\n",
       " 'NAN',\n",
       " 'NINF',\n",
       " 'NZERO',\n",
       " 'NaN',\n",
       " 'PINF',\n",
       " 'PZERO',\n",
       " 'RAISE',\n",
       " 'RankWarning',\n",
       " 'SHIFT_DIVIDEBYZERO',\n",
       " 'SHIFT_INVALID',\n",
       " 'SHIFT_OVERFLOW',\n",
       " 'SHIFT_UNDERFLOW',\n",
       " 'ScalarType',\n",
       " 'Str0',\n",
       " 'Tester',\n",
       " 'TooHardError',\n",
       " 'True_',\n",
       " 'UFUNC_BUFSIZE_DEFAULT',\n",
       " 'UFUNC_PYVALS_NAME',\n",
       " 'Uint64',\n",
       " 'VisibleDeprecationWarning',\n",
       " 'WRAP',\n",
       " '_NoValue',\n",
       " '_UFUNC_API',\n",
       " '__NUMPY_SETUP__',\n",
       " '__all__',\n",
       " '__builtins__',\n",
       " '__cached__',\n",
       " '__config__',\n",
       " '__deprecated_attrs__',\n",
       " '__dir__',\n",
       " '__doc__',\n",
       " '__expired_functions__',\n",
       " '__file__',\n",
       " '__getattr__',\n",
       " '__git_version__',\n",
       " '__loader__',\n",
       " '__mkl_version__',\n",
       " '__name__',\n",
       " '__package__',\n",
       " '__path__',\n",
       " '__spec__',\n",
       " '__version__',\n",
       " '_add_newdoc_ufunc',\n",
       " '_distributor_init',\n",
       " '_financial_names',\n",
       " '_globals',\n",
       " '_mat',\n",
       " '_pytesttester',\n",
       " '_version',\n",
       " 'abs',\n",
       " 'absolute',\n",
       " 'add',\n",
       " 'add_docstring',\n",
       " 'add_newdoc',\n",
       " 'add_newdoc_ufunc',\n",
       " 'alen',\n",
       " 'all',\n",
       " 'allclose',\n",
       " 'alltrue',\n",
       " 'amax',\n",
       " 'amin',\n",
       " 'angle',\n",
       " 'any',\n",
       " 'append',\n",
       " 'apply_along_axis',\n",
       " 'apply_over_axes',\n",
       " 'arange',\n",
       " 'arccos',\n",
       " 'arccosh',\n",
       " 'arcsin',\n",
       " 'arcsinh',\n",
       " 'arctan',\n",
       " 'arctan2',\n",
       " 'arctanh',\n",
       " 'argmax',\n",
       " 'argmin',\n",
       " 'argpartition',\n",
       " 'argsort',\n",
       " 'argwhere',\n",
       " 'around',\n",
       " 'array',\n",
       " 'array2string',\n",
       " 'array_equal',\n",
       " 'array_equiv',\n",
       " 'array_repr',\n",
       " 'array_split',\n",
       " 'array_str',\n",
       " 'asanyarray',\n",
       " 'asarray',\n",
       " 'asarray_chkfinite',\n",
       " 'ascontiguousarray',\n",
       " 'asfarray',\n",
       " 'asfortranarray',\n",
       " 'asmatrix',\n",
       " 'asscalar',\n",
       " 'atleast_1d',\n",
       " 'atleast_2d',\n",
       " 'atleast_3d',\n",
       " 'average',\n",
       " 'bartlett',\n",
       " 'base_repr',\n",
       " 'binary_repr',\n",
       " 'bincount',\n",
       " 'bitwise_and',\n",
       " 'bitwise_not',\n",
       " 'bitwise_or',\n",
       " 'bitwise_xor',\n",
       " 'blackman',\n",
       " 'block',\n",
       " 'bmat',\n",
       " 'bool8',\n",
       " 'bool_',\n",
       " 'broadcast',\n",
       " 'broadcast_arrays',\n",
       " 'broadcast_shapes',\n",
       " 'broadcast_to',\n",
       " 'busday_count',\n",
       " 'busday_offset',\n",
       " 'busdaycalendar',\n",
       " 'byte',\n",
       " 'byte_bounds',\n",
       " 'bytes0',\n",
       " 'bytes_',\n",
       " 'c_',\n",
       " 'can_cast',\n",
       " 'cast',\n",
       " 'cbrt',\n",
       " 'cdouble',\n",
       " 'ceil',\n",
       " 'cfloat',\n",
       " 'char',\n",
       " 'character',\n",
       " 'chararray',\n",
       " 'choose',\n",
       " 'clip',\n",
       " 'clongdouble',\n",
       " 'clongfloat',\n",
       " 'column_stack',\n",
       " 'common_type',\n",
       " 'compare_chararrays',\n",
       " 'compat',\n",
       " 'complex128',\n",
       " 'complex256',\n",
       " 'complex64',\n",
       " 'complex_',\n",
       " 'complexfloating',\n",
       " 'compress',\n",
       " 'concatenate',\n",
       " 'conj',\n",
       " 'conjugate',\n",
       " 'convolve',\n",
       " 'copy',\n",
       " 'copysign',\n",
       " 'copyto',\n",
       " 'core',\n",
       " 'corrcoef',\n",
       " 'correlate',\n",
       " 'cos',\n",
       " 'cosh',\n",
       " 'count_nonzero',\n",
       " 'cov',\n",
       " 'cross',\n",
       " 'csingle',\n",
       " 'ctypeslib',\n",
       " 'cumprod',\n",
       " 'cumproduct',\n",
       " 'cumsum',\n",
       " 'datetime64',\n",
       " 'datetime_as_string',\n",
       " 'datetime_data',\n",
       " 'deg2rad',\n",
       " 'degrees',\n",
       " 'delete',\n",
       " 'deprecate',\n",
       " 'deprecate_with_doc',\n",
       " 'diag',\n",
       " 'diag_indices',\n",
       " 'diag_indices_from',\n",
       " 'diagflat',\n",
       " 'diagonal',\n",
       " 'diff',\n",
       " 'digitize',\n",
       " 'disp',\n",
       " 'divide',\n",
       " 'divmod',\n",
       " 'dot',\n",
       " 'double',\n",
       " 'dsplit',\n",
       " 'dstack',\n",
       " 'dtype',\n",
       " 'e',\n",
       " 'ediff1d',\n",
       " 'einsum',\n",
       " 'einsum_path',\n",
       " 'emath',\n",
       " 'empty',\n",
       " 'empty_like',\n",
       " 'equal',\n",
       " 'error_message',\n",
       " 'errstate',\n",
       " 'euler_gamma',\n",
       " 'exp',\n",
       " 'exp2',\n",
       " 'expand_dims',\n",
       " 'expm1',\n",
       " 'extract',\n",
       " 'eye',\n",
       " 'fabs',\n",
       " 'fastCopyAndTranspose',\n",
       " 'fft',\n",
       " 'fill_diagonal',\n",
       " 'find_common_type',\n",
       " 'finfo',\n",
       " 'fix',\n",
       " 'flatiter',\n",
       " 'flatnonzero',\n",
       " 'flexible',\n",
       " 'flip',\n",
       " 'fliplr',\n",
       " 'flipud',\n",
       " 'float128',\n",
       " 'float16',\n",
       " 'float32',\n",
       " 'float64',\n",
       " 'float_',\n",
       " 'float_power',\n",
       " 'floating',\n",
       " 'floor',\n",
       " 'floor_divide',\n",
       " 'fmax',\n",
       " 'fmin',\n",
       " 'fmod',\n",
       " 'format_float_positional',\n",
       " 'format_float_scientific',\n",
       " 'format_parser',\n",
       " 'frexp',\n",
       " 'frombuffer',\n",
       " 'fromfile',\n",
       " 'fromfunction',\n",
       " 'fromiter',\n",
       " 'frompyfunc',\n",
       " 'fromregex',\n",
       " 'fromstring',\n",
       " 'full',\n",
       " 'full_like',\n",
       " 'gcd',\n",
       " 'generic',\n",
       " 'genfromtxt',\n",
       " 'geomspace',\n",
       " 'get_array_wrap',\n",
       " 'get_include',\n",
       " 'get_printoptions',\n",
       " 'getbufsize',\n",
       " 'geterr',\n",
       " 'geterrcall',\n",
       " 'geterrobj',\n",
       " 'gradient',\n",
       " 'greater',\n",
       " 'greater_equal',\n",
       " 'half',\n",
       " 'hamming',\n",
       " 'hanning',\n",
       " 'heaviside',\n",
       " 'histogram',\n",
       " 'histogram2d',\n",
       " 'histogram_bin_edges',\n",
       " 'histogramdd',\n",
       " 'hsplit',\n",
       " 'hstack',\n",
       " 'hypot',\n",
       " 'i0',\n",
       " 'identity',\n",
       " 'iinfo',\n",
       " 'imag',\n",
       " 'in1d',\n",
       " 'index_exp',\n",
       " 'indices',\n",
       " 'inexact',\n",
       " 'inf',\n",
       " 'info',\n",
       " 'infty',\n",
       " 'inner',\n",
       " 'insert',\n",
       " 'int0',\n",
       " 'int16',\n",
       " 'int32',\n",
       " 'int64',\n",
       " 'int8',\n",
       " 'int_',\n",
       " 'intc',\n",
       " 'integer',\n",
       " 'interp',\n",
       " 'intersect1d',\n",
       " 'intp',\n",
       " 'invert',\n",
       " 'is_busday',\n",
       " 'isclose',\n",
       " 'iscomplex',\n",
       " 'iscomplexobj',\n",
       " 'isfinite',\n",
       " 'isfortran',\n",
       " 'isin',\n",
       " 'isinf',\n",
       " 'isnan',\n",
       " 'isnat',\n",
       " 'isneginf',\n",
       " 'isposinf',\n",
       " 'isreal',\n",
       " 'isrealobj',\n",
       " 'isscalar',\n",
       " 'issctype',\n",
       " 'issubclass_',\n",
       " 'issubdtype',\n",
       " 'issubsctype',\n",
       " 'iterable',\n",
       " 'ix_',\n",
       " 'kaiser',\n",
       " 'kron',\n",
       " 'lcm',\n",
       " 'ldexp',\n",
       " 'left_shift',\n",
       " 'less',\n",
       " 'less_equal',\n",
       " 'lexsort',\n",
       " 'lib',\n",
       " 'linalg',\n",
       " 'linspace',\n",
       " 'little_endian',\n",
       " 'load',\n",
       " 'loads',\n",
       " 'loadtxt',\n",
       " 'log',\n",
       " 'log10',\n",
       " 'log1p',\n",
       " 'log2',\n",
       " 'logaddexp',\n",
       " 'logaddexp2',\n",
       " 'logical_and',\n",
       " 'logical_not',\n",
       " 'logical_or',\n",
       " 'logical_xor',\n",
       " 'logspace',\n",
       " 'longcomplex',\n",
       " 'longdouble',\n",
       " 'longfloat',\n",
       " 'longlong',\n",
       " 'lookfor',\n",
       " 'ma',\n",
       " 'mafromtxt',\n",
       " 'mask_indices',\n",
       " 'mat',\n",
       " 'math',\n",
       " 'matmul',\n",
       " 'matrix',\n",
       " 'matrixlib',\n",
       " 'max',\n",
       " 'maximum',\n",
       " 'maximum_sctype',\n",
       " 'may_share_memory',\n",
       " 'mean',\n",
       " 'median',\n",
       " 'memmap',\n",
       " 'meshgrid',\n",
       " 'mgrid',\n",
       " 'min',\n",
       " 'min_scalar_type',\n",
       " 'minimum',\n",
       " 'mintypecode',\n",
       " 'mkl',\n",
       " 'mod',\n",
       " 'modf',\n",
       " 'moveaxis',\n",
       " 'msort',\n",
       " 'multiply',\n",
       " 'nan',\n",
       " 'nan_to_num',\n",
       " 'nanargmax',\n",
       " 'nanargmin',\n",
       " 'nancumprod',\n",
       " 'nancumsum',\n",
       " 'nanmax',\n",
       " 'nanmean',\n",
       " 'nanmedian',\n",
       " 'nanmin',\n",
       " 'nanpercentile',\n",
       " 'nanprod',\n",
       " 'nanquantile',\n",
       " 'nanstd',\n",
       " 'nansum',\n",
       " 'nanvar',\n",
       " 'nbytes',\n",
       " 'ndarray',\n",
       " 'ndenumerate',\n",
       " 'ndfromtxt',\n",
       " 'ndim',\n",
       " 'ndindex',\n",
       " 'nditer',\n",
       " 'negative',\n",
       " 'nested_iters',\n",
       " 'newaxis',\n",
       " 'nextafter',\n",
       " 'nonzero',\n",
       " 'not_equal',\n",
       " 'numarray',\n",
       " 'number',\n",
       " 'obj2sctype',\n",
       " 'object0',\n",
       " 'object_',\n",
       " 'ogrid',\n",
       " 'oldnumeric',\n",
       " 'ones',\n",
       " 'ones_like',\n",
       " 'os',\n",
       " 'outer',\n",
       " 'packbits',\n",
       " 'pad',\n",
       " 'partition',\n",
       " 'percentile',\n",
       " 'pi',\n",
       " 'piecewise',\n",
       " 'place',\n",
       " 'poly',\n",
       " 'poly1d',\n",
       " 'polyadd',\n",
       " 'polyder',\n",
       " 'polydiv',\n",
       " 'polyfit',\n",
       " 'polyint',\n",
       " 'polymul',\n",
       " 'polynomial',\n",
       " 'polysub',\n",
       " 'polyval',\n",
       " 'positive',\n",
       " 'power',\n",
       " 'printoptions',\n",
       " 'prod',\n",
       " 'product',\n",
       " 'promote_types',\n",
       " 'ptp',\n",
       " 'put',\n",
       " 'put_along_axis',\n",
       " 'putmask',\n",
       " 'quantile',\n",
       " 'r_',\n",
       " 'rad2deg',\n",
       " 'radians',\n",
       " 'random',\n",
       " 'ravel',\n",
       " 'ravel_multi_index',\n",
       " 'real',\n",
       " 'real_if_close',\n",
       " 'rec',\n",
       " 'recarray',\n",
       " 'recfromcsv',\n",
       " 'recfromtxt',\n",
       " 'reciprocal',\n",
       " 'record',\n",
       " 'remainder',\n",
       " 'repeat',\n",
       " 'require',\n",
       " 'reshape',\n",
       " 'resize',\n",
       " 'result_type',\n",
       " 'right_shift',\n",
       " 'rint',\n",
       " 'roll',\n",
       " 'rollaxis',\n",
       " 'roots',\n",
       " 'rot90',\n",
       " 'round',\n",
       " 'round_',\n",
       " 'row_stack',\n",
       " 's_',\n",
       " 'safe_eval',\n",
       " 'save',\n",
       " 'savetxt',\n",
       " 'savez',\n",
       " 'savez_compressed',\n",
       " 'sctype2char',\n",
       " 'sctypeDict',\n",
       " 'sctypes',\n",
       " 'searchsorted',\n",
       " 'select',\n",
       " 'set_numeric_ops',\n",
       " 'set_printoptions',\n",
       " 'set_string_function',\n",
       " 'setbufsize',\n",
       " 'setdiff1d',\n",
       " 'seterr',\n",
       " 'seterrcall',\n",
       " 'seterrobj',\n",
       " 'setxor1d',\n",
       " 'shape',\n",
       " 'shares_memory',\n",
       " 'short',\n",
       " 'show_config',\n",
       " 'sign',\n",
       " 'signbit',\n",
       " 'signedinteger',\n",
       " 'sin',\n",
       " 'sinc',\n",
       " 'single',\n",
       " 'singlecomplex',\n",
       " 'sinh',\n",
       " 'size',\n",
       " 'sometrue',\n",
       " 'sort',\n",
       " 'sort_complex',\n",
       " 'source',\n",
       " 'spacing',\n",
       " 'split',\n",
       " 'sqrt',\n",
       " 'square',\n",
       " 'squeeze',\n",
       " 'stack',\n",
       " 'std',\n",
       " 'str0',\n",
       " 'str_',\n",
       " 'string_',\n",
       " 'subtract',\n",
       " 'sum',\n",
       " 'swapaxes',\n",
       " 'sys',\n",
       " 'take',\n",
       " 'take_along_axis',\n",
       " 'tan',\n",
       " 'tanh',\n",
       " 'tensordot',\n",
       " 'test',\n",
       " 'testing',\n",
       " 'tile',\n",
       " 'timedelta64',\n",
       " 'trace',\n",
       " 'tracemalloc_domain',\n",
       " 'transpose',\n",
       " 'trapz',\n",
       " 'tri',\n",
       " 'tril',\n",
       " 'tril_indices',\n",
       " 'tril_indices_from',\n",
       " 'trim_zeros',\n",
       " 'triu',\n",
       " 'triu_indices',\n",
       " 'triu_indices_from',\n",
       " 'true_divide',\n",
       " 'trunc',\n",
       " 'typecodes',\n",
       " 'typename',\n",
       " 'ubyte',\n",
       " 'ufunc',\n",
       " 'uint',\n",
       " 'uint0',\n",
       " 'uint16',\n",
       " 'uint32',\n",
       " 'uint64',\n",
       " 'uint8',\n",
       " 'uintc',\n",
       " 'uintp',\n",
       " 'ulonglong',\n",
       " 'unicode_',\n",
       " 'union1d',\n",
       " 'unique',\n",
       " 'unpackbits',\n",
       " 'unravel_index',\n",
       " 'unsignedinteger',\n",
       " 'unwrap',\n",
       " 'use_hugepage',\n",
       " 'ushort',\n",
       " 'vander',\n",
       " 'var',\n",
       " 'vdot',\n",
       " 'vectorize',\n",
       " 'version',\n",
       " 'void',\n",
       " 'void0',\n",
       " 'vsplit',\n",
       " 'vstack',\n",
       " 'w',\n",
       " 'warnings',\n",
       " 'where',\n",
       " 'who',\n",
       " 'zeros',\n",
       " 'zeros_like']"
      ]
     },
     "execution_count": 3,
     "metadata": {},
     "output_type": "execute_result"
    }
   ],
   "source": [
    "dir(np)"
   ]
  },
  {
   "cell_type": "markdown",
   "id": "208ec25d-3ce9-422a-90b4-33d6dbb8e4b8",
   "metadata": {},
   "source": [
    "## numpy Datatypes\n",
    "### float32 and float64"
   ]
  },
  {
   "cell_type": "code",
   "execution_count": 4,
   "id": "46749697-a851-4748-90ab-04484b9fb00c",
   "metadata": {},
   "outputs": [
    {
     "data": {
      "text/plain": [
       "(1.7014118e+38, numpy.float32)"
      ]
     },
     "execution_count": 4,
     "metadata": {},
     "output_type": "execute_result"
    }
   ],
   "source": [
    "x = np.float32(2 ** 127)\n",
    "x, type(x)"
   ]
  },
  {
   "cell_type": "code",
   "execution_count": 5,
   "id": "bbdaddbd-0614-42d1-add1-67016227711d",
   "metadata": {},
   "outputs": [
    {
     "data": {
      "text/plain": [
       "(inf, numpy.float32)"
      ]
     },
     "execution_count": 5,
     "metadata": {},
     "output_type": "execute_result"
    }
   ],
   "source": [
    "x = np.float32(2 ** 128)\n",
    "x, type(x)"
   ]
  },
  {
   "cell_type": "code",
   "execution_count": 6,
   "id": "d1735665-14bd-4766-8872-418a0dda5713",
   "metadata": {},
   "outputs": [
    {
     "data": {
      "text/plain": [
       "(8.98846567431158e+307, numpy.float64)"
      ]
     },
     "execution_count": 6,
     "metadata": {},
     "output_type": "execute_result"
    }
   ],
   "source": [
    "x = np.float64(2 ** 1023)\n",
    "x, type(x)"
   ]
  },
  {
   "cell_type": "code",
   "execution_count": 7,
   "id": "72fda829-d404-419b-b8eb-f7bb2f77f612",
   "metadata": {
    "tags": []
   },
   "outputs": [
    {
     "ename": "OverflowError",
     "evalue": "int too large to convert to float",
     "output_type": "error",
     "traceback": [
      "\u001b[0;31m---------------------------------------------------------------------------\u001b[0m",
      "\u001b[0;31mOverflowError\u001b[0m                             Traceback (most recent call last)",
      "\u001b[0;32m/var/folders/hz/vggy99z9791d4jlzyvlw3r9w0000gn/T/ipykernel_67752/977713768.py\u001b[0m in \u001b[0;36m<module>\u001b[0;34m\u001b[0m\n\u001b[0;32m----> 1\u001b[0;31m \u001b[0mx\u001b[0m \u001b[0;34m=\u001b[0m \u001b[0mnp\u001b[0m\u001b[0;34m.\u001b[0m\u001b[0mfloat64\u001b[0m\u001b[0;34m(\u001b[0m\u001b[0;36m2\u001b[0m \u001b[0;34m**\u001b[0m \u001b[0;36m1024\u001b[0m\u001b[0;34m)\u001b[0m\u001b[0;34m\u001b[0m\u001b[0;34m\u001b[0m\u001b[0m\n\u001b[0m\u001b[1;32m      2\u001b[0m \u001b[0mx\u001b[0m\u001b[0;34m,\u001b[0m \u001b[0mtype\u001b[0m\u001b[0;34m(\u001b[0m\u001b[0mx\u001b[0m\u001b[0;34m)\u001b[0m\u001b[0;34m\u001b[0m\u001b[0;34m\u001b[0m\u001b[0m\n",
      "\u001b[0;31mOverflowError\u001b[0m: int too large to convert to float"
     ]
    }
   ],
   "source": [
    "x = np.float64(2 ** 1024)\n",
    "x, type(x)"
   ]
  },
  {
   "cell_type": "markdown",
   "id": "c90dfd9b-6826-4701-90e9-38f8a0752a66",
   "metadata": {},
   "source": [
    "## Arrays have a fixed datatype"
   ]
  },
  {
   "cell_type": "code",
   "execution_count": null,
   "id": "d586fa80-0c58-4bff-860d-5e54d5bbd1eb",
   "metadata": {},
   "outputs": [],
   "source": [
    "list = [1.,2.,3.,4.,5.]\n",
    "array = np.array(list)\n",
    "array, type(array), array.dtype"
   ]
  },
  {
   "cell_type": "code",
   "execution_count": null,
   "id": "768eb311-b103-424d-a906-5d24768bcfda",
   "metadata": {},
   "outputs": [],
   "source": [
    "# np.arange creates array similar to how one would use a for loop // generator to create a list\n",
    "start = 0\n",
    "end = 100\n",
    "interval = 10\n",
    "range_array = np.arange(start,end + 1, interval)\n",
    "range_array"
   ]
  },
  {
   "cell_type": "code",
   "execution_count": null,
   "id": "e75b84b6-4f41-4bc7-80b3-8e095f33f2a7",
   "metadata": {},
   "outputs": [],
   "source": [
    "range_list = [i for i in range(start, end + 1, interval)]\n",
    "range_list"
   ]
  },
  {
   "cell_type": "markdown",
   "id": "185dcba7-a00f-4eb3-a9b9-ea4a0b5c60f0",
   "metadata": {},
   "source": [
    "## Two Dimensional Lists and Arrays"
   ]
  },
  {
   "cell_type": "markdown",
   "id": "eb08b4df-87d0-43fb-b1eb-4df73790de37",
   "metadata": {},
   "source": [
    "### Create Two Dimensional List"
   ]
  },
  {
   "cell_type": "code",
   "execution_count": null,
   "id": "4de24b46-461b-4fe0-9c1d-7aa15f4fb1cb",
   "metadata": {},
   "outputs": [],
   "source": [
    "list_of_lists = [[1,2,3],[4,5,6],[7,8,9]]\n",
    "list_of_lists"
   ]
  },
  {
   "cell_type": "markdown",
   "id": "7fe0277e-c93a-4932-a2b5-69409381da29",
   "metadata": {},
   "source": [
    "### Transform that Two Dimensional List into Two Dimensional Array"
   ]
  },
  {
   "cell_type": "code",
   "execution_count": null,
   "id": "28a2d684-387b-4c1b-b2e2-a810e299fe07",
   "metadata": {},
   "outputs": [],
   "source": [
    "two_dim_array = np.array(list_of_lists)\n",
    "two_dim_array"
   ]
  },
  {
   "cell_type": "code",
   "execution_count": null,
   "id": "abb6451e-9726-4808-8a48-627634239dd5",
   "metadata": {},
   "outputs": [],
   "source": [
    "two_dim_array[0]"
   ]
  },
  {
   "cell_type": "code",
   "execution_count": null,
   "id": "8d440c4b-e880-476d-9d8c-d19137cf2d78",
   "metadata": {},
   "outputs": [],
   "source": [
    "two_dim_array[0][0]"
   ]
  },
  {
   "cell_type": "markdown",
   "id": "b4a600ba-c0e5-48a9-bbf4-86f384ac3cc7",
   "metadata": {},
   "source": [
    "### Call the 1st Element of the 0th row"
   ]
  },
  {
   "cell_type": "code",
   "execution_count": null,
   "id": "95d11eec-1708-4e1b-9fb8-5948fc94d058",
   "metadata": {},
   "outputs": [],
   "source": [
    "two_dim_array[0][1]"
   ]
  },
  {
   "cell_type": "markdown",
   "id": "ba26dcb9-760d-4f94-bb0f-e6b9100d99cb",
   "metadata": {},
   "source": [
    "### Use for loop to call the first index in the two_dim_array as i, calling two_dim_array will yield ith row"
   ]
  },
  {
   "cell_type": "code",
   "execution_count": null,
   "id": "97db9265-8376-4230-86fb-495411168fe7",
   "metadata": {},
   "outputs": [],
   "source": [
    "for i in range(len(two_dim_array)):\n",
    "    print(i)\n",
    "    print(two_dim_array[i])"
   ]
  },
  {
   "cell_type": "markdown",
   "id": "d19234dd-547e-4bb5-b95e-4376715f1cf5",
   "metadata": {},
   "source": [
    "### Passing the row to a second for loop will cycle through the second row index as j. Calling row j will yield the jth value from the row"
   ]
  },
  {
   "cell_type": "code",
   "execution_count": null,
   "id": "05b15cad-9302-44b5-ba57-19936dcc63fd",
   "metadata": {},
   "outputs": [],
   "source": [
    "print(\"i j:\")\n",
    "for i in range(len(two_dim_array)):\n",
    "    row = two_dim_array[i]\n",
    "    for j in range(len(two_dim_array[i])):\n",
    "        print(i,j)\n",
    "        print(\"val:\", row[j])"
   ]
  },
  {
   "cell_type": "code",
   "execution_count": null,
   "id": "7282a85b-b2c4-4907-8c5f-78217edc8b79",
   "metadata": {},
   "outputs": [],
   "source": [
    "for row in two_dim_array:\n",
    "    print(row)\n",
    "    for val in row:\n",
    "        print(val)"
   ]
  },
  {
   "cell_type": "markdown",
   "id": "b9754d86-937d-4ce7-8423-dc6c933c9ce7",
   "metadata": {},
   "source": [
    "## np.zeros(), np.ones(), np.empty(), np.zeros_like(), np.ones_like(), np.empty_like()"
   ]
  },
  {
   "cell_type": "code",
   "execution_count": null,
   "id": "50e5f7bb-aea9-4a92-93f7-65192721c0b9",
   "metadata": {},
   "outputs": [],
   "source": [
    "np.zeros((10,10))"
   ]
  },
  {
   "cell_type": "code",
   "execution_count": null,
   "id": "9e563d7b-be91-4a4e-b7cd-a6eceac86598",
   "metadata": {},
   "outputs": [],
   "source": [
    "np.empty((10,10))"
   ]
  },
  {
   "cell_type": "code",
   "execution_count": null,
   "id": "79dab7ed-ed5a-4234-b1af-d848126ff5d5",
   "metadata": {},
   "outputs": [],
   "source": [
    "np.ones((10,10))"
   ]
  },
  {
   "cell_type": "code",
   "execution_count": null,
   "id": "af1bab68-42cd-4d52-9ab7-a76090d53b27",
   "metadata": {},
   "outputs": [],
   "source": [
    "l = list_of_lists\n",
    "np.zeros_like(l)"
   ]
  },
  {
   "cell_type": "code",
   "execution_count": null,
   "id": "af0df801-d6d9-47f0-8bf5-cd652d6f2ae2",
   "metadata": {},
   "outputs": [],
   "source": [
    "l = list_of_lists\n",
    "np.ones_like(l)"
   ]
  },
  {
   "cell_type": "code",
   "execution_count": null,
   "id": "c61e33a1-965c-460a-a324-70d12da52ffc",
   "metadata": {},
   "outputs": [],
   "source": [
    "np.empty_like(l)"
   ]
  },
  {
   "cell_type": "markdown",
   "id": "025dc5ff-fb1e-4749-93df-bf91d1b2620e",
   "metadata": {},
   "source": [
    "## Log Values"
   ]
  },
  {
   "cell_type": "code",
   "execution_count": null,
   "id": "862116ad-b065-43a9-96c9-9a4b98bf1b94",
   "metadata": {},
   "outputs": [],
   "source": [
    "# np.log() uses log base e\n",
    "np.log(1)"
   ]
  },
  {
   "cell_type": "code",
   "execution_count": null,
   "id": "f053b8de-0b9c-49f7-be04-e61f239ddd14",
   "metadata": {},
   "outputs": [],
   "source": [
    "np.log(np.e)"
   ]
  },
  {
   "cell_type": "code",
   "execution_count": null,
   "id": "4b37f4ff-74b7-4bcc-a7a8-373ba457ef08",
   "metadata": {},
   "outputs": [],
   "source": [
    "np.log(two_dim_array)"
   ]
  },
  {
   "cell_type": "code",
   "execution_count": null,
   "id": "6e8e1bdf-a6d6-48f8-b317-278ba2b44841",
   "metadata": {},
   "outputs": [],
   "source": [
    "pi = np.pi\n",
    "e = np.e\n",
    "lne = np.log(e)\n",
    "infinity = np.inf\n",
    "null_val = np.nan\n",
    "pi, e, lne, infinity, null_val"
   ]
  },
  {
   "cell_type": "markdown",
   "id": "4efb779a-33ac-44cd-9c9b-f0bd648e5f53",
   "metadata": {},
   "source": [
    "## Pandas"
   ]
  },
  {
   "cell_type": "code",
   "execution_count": null,
   "id": "350dc6f4-834d-4683-a05e-cf18ae85920a",
   "metadata": {},
   "outputs": [],
   "source": [
    "data_dict = {\"0 to 9\":np.arange(10),\n",
    "            \"ones\":np.ones(10),\n",
    "            \"zeros\":np.zeros(10)}\n",
    "data_dict"
   ]
  },
  {
   "cell_type": "code",
   "execution_count": null,
   "id": "627f796c-caf1-41b2-a328-28b804cf3f55",
   "metadata": {},
   "outputs": [],
   "source": [
    "df = pd.DataFrame(data_dict)\n",
    "df"
   ]
  },
  {
   "cell_type": "code",
   "execution_count": null,
   "id": "e7345622-978c-49b4-9286-79c417212e13",
   "metadata": {},
   "outputs": [],
   "source": [
    "df[\"0 to 9\"], type(df[\"0 to 9\"])"
   ]
  },
  {
   "cell_type": "markdown",
   "id": "b8591394-7344-403a-83c9-7426bdcbafaf",
   "metadata": {},
   "source": [
    "### A Dataframe consists of one or more series"
   ]
  },
  {
   "cell_type": "code",
   "execution_count": null,
   "id": "a8985432-001b-4ec1-b0b6-21f01e356d09",
   "metadata": {},
   "outputs": [],
   "source": [
    "## calling a list of keys will return a dataframe\n",
    "df[[\"0 to 9\"]]"
   ]
  },
  {
   "cell_type": "markdown",
   "id": "fc4e7bcc-424e-45a7-8e90-354030c7bc93",
   "metadata": {},
   "source": [
    "### Calling by Row"
   ]
  },
  {
   "cell_type": "code",
   "execution_count": null,
   "id": "d1473f1c-67cc-451c-a69f-0e71e506f953",
   "metadata": {},
   "outputs": [],
   "source": [
    "df.iloc[0]"
   ]
  },
  {
   "cell_type": "code",
   "execution_count": null,
   "id": "5184d1b0-3f4e-4297-bf4d-538c8d7d859d",
   "metadata": {},
   "outputs": [],
   "source": [
    "df.loc[[0,1,2,3]]"
   ]
  },
  {
   "cell_type": "code",
   "execution_count": null,
   "id": "03af9dc0-bc4e-436c-bc63-6f84ee8c93ec",
   "metadata": {},
   "outputs": [],
   "source": [
    "# this is often needed for pandas to save certain values for you\n",
    "df.loc[:3, \"0 to 9\"]"
   ]
  },
  {
   "cell_type": "code",
   "execution_count": null,
   "id": "62e84b8e-566e-4e03-bb5c-73e554c9078f",
   "metadata": {},
   "outputs": [],
   "source": [
    "# Row indices are keys. Using df.loc() allows you to call each row by name"
   ]
  },
  {
   "cell_type": "code",
   "execution_count": null,
   "id": "05c6bb00-91db-4074-a3e8-cbc389c646c8",
   "metadata": {},
   "outputs": [],
   "source": [
    "df.T"
   ]
  },
  {
   "cell_type": "code",
   "execution_count": null,
   "id": "5769cd2c-2954-4482-82cd-fccc696f0528",
   "metadata": {},
   "outputs": [],
   "source": [
    "df.T.loc[\"0 to 9\"]"
   ]
  },
  {
   "cell_type": "code",
   "execution_count": null,
   "id": "145249e4-e62a-48dd-bc3d-04b7106de349",
   "metadata": {},
   "outputs": [],
   "source": [
    "df.T.iloc[0]"
   ]
  },
  {
   "cell_type": "markdown",
   "id": "0eb96b36-511e-450a-9de6-dca374ff61d9",
   "metadata": {},
   "source": [
    "## Boolean Series and Arrays"
   ]
  },
  {
   "cell_type": "code",
   "execution_count": null,
   "id": "3edc0f51-7bd3-4cb9-92f3-1f2396d3cbb1",
   "metadata": {},
   "outputs": [],
   "source": [
    "greater_than_3 = df[\"0 to 9\"] > 3\n",
    "greater_than_3"
   ]
  },
  {
   "cell_type": "code",
   "execution_count": null,
   "id": "9a9f46f6-8a6e-4456-bfce-88cc3b00d49e",
   "metadata": {},
   "outputs": [],
   "source": [
    "df[greater_than_3]"
   ]
  },
  {
   "cell_type": "code",
   "execution_count": null,
   "id": "8e655323-8e5b-4b1a-ac43-cb9cd429c2bc",
   "metadata": {},
   "outputs": [],
   "source": [
    "df[df[\"0 to 9\"] > 3]"
   ]
  },
  {
   "cell_type": "code",
   "execution_count": null,
   "id": "7e476f55-b782-4e07-b06c-d15fe28f0c6f",
   "metadata": {
    "tags": []
   },
   "outputs": [],
   "source": [
    "# Create artificial data\n",
    "\n",
    "macro_dict = {\"GDP\": {},\n",
    "              \"Money\": {},\n",
    "              \"Real GDP\": {},\n",
    "              \"Price Level\": {}}\n",
    "for key in macro_dict.keys():\n",
    "    for i in range (1990, 2021):\n",
    "        macro_dict[key][i] = np.random.random() * 10000\n",
    "\n",
    "macro_dict"
   ]
  },
  {
   "cell_type": "code",
   "execution_count": null,
   "id": "10a856cc-1610-4565-9a87-fdd5e756af97",
   "metadata": {
    "tags": []
   },
   "outputs": [],
   "source": [
    "macro_DF = pd.DataFrame(macro_dict)\n",
    "macro_DF"
   ]
  },
  {
   "cell_type": "code",
   "execution_count": null,
   "id": "56342b51-386f-43a7-8da6-5d95c55224dc",
   "metadata": {},
   "outputs": [],
   "source": [
    "macro_DF[[\"GDP\"]]"
   ]
  },
  {
   "cell_type": "code",
   "execution_count": null,
   "id": "1a942022-fd66-47bf-8fb3-3bd0ccf0e8a0",
   "metadata": {},
   "outputs": [],
   "source": [
    "macro_DF[\"Velocity\"] = macro_DF[\"Price Level\"].mul(macro_DF[\"Real GDP\"].div(macro_DF[\"Money\"]))\n",
    "macro_DF"
   ]
  },
  {
   "cell_type": "markdown",
   "id": "98c6a586-27c1-420e-b09d-d7069f76bed3",
   "metadata": {},
   "source": [
    "## matplotlib"
   ]
  },
  {
   "cell_type": "code",
   "execution_count": null,
   "id": "65b53a39-ac4e-452c-a87b-28bec5cdf1f1",
   "metadata": {},
   "outputs": [],
   "source": [
    "import matplotlib.pyplot as plt\n",
    "macro_DF.plot()"
   ]
  },
  {
   "cell_type": "code",
   "execution_count": null,
   "id": "444b8c19-8d53-4dbb-8d8a-67b47f3749c1",
   "metadata": {},
   "outputs": [],
   "source": [
    "#plot using method for matplotlib from the pandas Dataframe\n",
    "fig, ax = plt.subplots(figsize = (20,12))\n",
    "macro_DF.plot(linewidth = 5, alpha = .7, legend = False, ax = ax) #color = \"cb\"\n",
    "ax.legend(fontsize = 20)"
   ]
  },
  {
   "cell_type": "code",
   "execution_count": null,
   "id": "a8644d3d-ab5a-4675-99aa-316ae3e92165",
   "metadata": {},
   "outputs": [],
   "source": [
    "fig, ax = plt.subplots(figsize = (10,6))\n",
    "for key in macro_DF:\n",
    "    macro_DF[key].plot.line()\n",
    "    ax.set_title(key, fontsize = 20)"
   ]
  },
  {
   "cell_type": "code",
   "execution_count": null,
   "id": "35b4995e-ffcb-4c94-ac4c-d7c286412149",
   "metadata": {},
   "outputs": [],
   "source": [
    "# our goal is to create a multiplot visualization with a seperate plot area for each variable\n",
    "num_vars = len(macro_DF.keys())\n",
    "fig, ax = plt.subplots(1, num_vars, figsize = (20,6))\n",
    "\n",
    "for i in range (num_vars):\n",
    "    key = list(macro_DF.keys())[i]\n",
    "    macro_DF[key].plot.line(ax = ax[i])\n",
    "    ax[i].set_title(key, fontsize = 20)"
   ]
  },
  {
   "cell_type": "code",
   "execution_count": null,
   "id": "b5b2b996-96f5-45e4-a0bd-2917fee4f36a",
   "metadata": {},
   "outputs": [],
   "source": [
    "# plot using method for matplotlib from the pandas DataFrame\n",
    "num_vars = len(macro_DF.keys())\n",
    "\n",
    "# create a plot with a subplot for each variable (total 5)\n",
    "########\n",
    "\n",
    "# to plot each variable on each plot, cycle through index of the keys\n",
    "for i in range(num_vars):\n",
    "    \n",
    "    ax = axs[i]\n",
    "    \n",
    "    key = list(macro_DF.keys())[i]\n",
    "    alpha = .1 + .15 * i \n",
    "    color = \"C\" + str(i)\n",
    "    macro_DF[key].plot.line(color = color, alpha = alpha, ax = ax)\n",
    "    ax[i].set_title(key, fontsize = 20)"
   ]
  },
  {
   "cell_type": "code",
   "execution_count": null,
   "id": "eecb0db8-d751-470f-bed3-24b3a46b19bd",
   "metadata": {},
   "outputs": [],
   "source": [
    "for key in macro_DF:\n",
    "    fig, ax = plt.subplots(figsize = (10,6))\n",
    "    macro_DF[key].plot.line()\n",
    "    ax.set_title(key, fontsize = 20)"
   ]
  },
  {
   "cell_type": "code",
   "execution_count": null,
   "id": "cb728013-2dba-4214-a272-15ae94cb5039",
   "metadata": {},
   "outputs": [],
   "source": []
  },
  {
   "cell_type": "code",
   "execution_count": null,
   "id": "6a2d68dd-bd00-4cfa-b7c5-9dbe49c9c6ee",
   "metadata": {},
   "outputs": [],
   "source": []
  },
  {
   "cell_type": "code",
   "execution_count": null,
   "id": "012e66a3-f100-4d43-979e-80ab430603ce",
   "metadata": {},
   "outputs": [],
   "source": []
  },
  {
   "cell_type": "code",
   "execution_count": null,
   "id": "e576dab0-d8c4-45e1-a950-c479472e822d",
   "metadata": {},
   "outputs": [],
   "source": []
  },
  {
   "cell_type": "code",
   "execution_count": null,
   "id": "0ca3a3ae-8421-48b1-af1b-12314d819a3d",
   "metadata": {},
   "outputs": [],
   "source": []
  },
  {
   "cell_type": "code",
   "execution_count": null,
   "id": "c613e736-ab52-48dc-8f6a-f0bfe1e8e5f5",
   "metadata": {},
   "outputs": [],
   "source": []
  },
  {
   "cell_type": "code",
   "execution_count": null,
   "id": "b4e4425b-3d68-459d-8b0b-57ed441c2f85",
   "metadata": {},
   "outputs": [],
   "source": []
  },
  {
   "cell_type": "code",
   "execution_count": null,
   "id": "d13fb8c9-2b55-4e13-a120-b810172b2da4",
   "metadata": {},
   "outputs": [],
   "source": []
  },
  {
   "cell_type": "code",
   "execution_count": null,
   "id": "aa7749f1-4288-4239-a60c-3a1195e6e493",
   "metadata": {},
   "outputs": [],
   "source": []
  }
 ],
 "metadata": {
  "kernelspec": {
   "display_name": "Python 3 (ipykernel)",
   "language": "python",
   "name": "python3"
  },
  "language_info": {
   "codemirror_mode": {
    "name": "ipython",
    "version": 3
   },
   "file_extension": ".py",
   "mimetype": "text/x-python",
   "name": "python",
   "nbconvert_exporter": "python",
   "pygments_lexer": "ipython3",
   "version": "3.9.13"
  }
 },
 "nbformat": 4,
 "nbformat_minor": 5
}
