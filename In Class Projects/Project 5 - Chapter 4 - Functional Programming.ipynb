{
 "cells": [
  {
   "cell_type": "markdown",
   "id": "a816a03d-5978-42c3-83f0-92647babd71c",
   "metadata": {},
   "source": [
    "# Chapter 4: Functional Programming: Rudimentary Statistics and Analysis"
   ]
  },
  {
   "cell_type": "markdown",
   "id": "dfa53cd9-cf3a-4ee1-b7d5-45adf3e11053",
   "metadata": {},
   "source": [
    "New Concepts\tDescription\n",
    "return obj (from function)\tFunctions may return an object to be saved if a variable is defined by the function i.e., var1 = function(obj1, obj2, . . .)\n"
   ]
  },
  {
   "cell_type": "code",
   "execution_count": 1,
   "id": "e34ba073-93c4-4108-b304-496615b1b3da",
   "metadata": {},
   "outputs": [
    {
     "ename": "SyntaxError",
     "evalue": "invalid syntax (1710453078.py, line 1)",
     "output_type": "error",
     "traceback": [
      "\u001b[0;36m  File \u001b[0;32m\"/var/folders/hz/vggy99z9791d4jlzyvlw3r9w0000gn/T/ipykernel_57803/1710453078.py\"\u001b[0;36m, line \u001b[0;32m1\u001b[0m\n\u001b[0;31m    def function_name(object1, object2, ..., objectn):\u001b[0m\n\u001b[0m                                        ^\u001b[0m\n\u001b[0;31mSyntaxError\u001b[0m\u001b[0;31m:\u001b[0m invalid syntax\n"
     ]
    }
   ],
   "source": [
    "def function_name(object1, object2, ..., objectn):\n",
    "    <operations>"
   ]
  },
  {
   "cell_type": "markdown",
   "id": "8f4ea788-5039-47d8-bfe7-033d4ab2b69e",
   "metadata": {},
   "source": [
    "## Total\n",
    "\\sum_{i=0}^{n-1} x_{i}"
   ]
  },
  {
   "cell_type": "code",
   "execution_count": null,
   "id": "b77f71ab-cbbf-400a-b80e-9fb9364dbc07",
   "metadata": {},
   "outputs": [],
   "source": [
    "n = 0\n",
    "total = 0\n",
    "values = [i for i in range(10)]\n",
    "\n",
    "print(\"total\\t\", \"value\")\n",
    "for value in values:\n",
    "    total += value\n",
    "    print(total, \"\\t\", value)\n",
    "    \n",
    "print(\"final total:\", total)"
   ]
  },
  {
   "cell_type": "code",
   "execution_count": null,
   "id": "8deede1b-7634-4920-bfe6-c1bc0cc33ac3",
   "metadata": {
    "tags": []
   },
   "outputs": [],
   "source": [
    "# Bad Practice to copy and paste old code\n",
    "total = 0\n",
    "values = [i for i in range(0,1000,2)]\n",
    "print(\"total\\t\", \"value\")\n",
    "for value in values:\n",
    "    total += value\n",
    "    print(total, \"\\t\", value)"
   ]
  },
  {
   "cell_type": "code",
   "execution_count": null,
   "id": "0580e146-74fa-4ba4-a413-da3d56384e1c",
   "metadata": {},
   "outputs": [],
   "source": [
    "def total(list):\n",
    "    total_ = 0\n",
    "    # in original he used the index of the list \n",
    "    # n = len(list)\n",
    "    # for i in range(n)\n",
    "    for val in list:\n",
    "        total_ += val\n",
    "    return total_\n",
    "total(values)"
   ]
  },
  {
   "cell_type": "code",
   "execution_count": null,
   "id": "a4363f56-28bd-4e72-8e89-d50070072b08",
   "metadata": {},
   "outputs": [],
   "source": [
    "total([i for i in range(-1000, 10000, 53)])"
   ]
  },
  {
   "cell_type": "code",
   "execution_count": null,
   "id": "4805e9e0-3918-410e-a06f-af39574dc350",
   "metadata": {},
   "outputs": [],
   "source": [
    "import random\n",
    "X1 = [3, 6, 9, 12, 15, 18, 21, 24, 27, 30]\n",
    "X2 = [random.randint(0,100) for i in range(10)]\n",
    "total(X1), total(X2)"
   ]
  },
  {
   "cell_type": "markdown",
   "id": "efa900a3-885c-447f-b30a-609d1279f1fc",
   "metadata": {},
   "source": [
    "### Mean"
   ]
  },
  {
   "cell_type": "markdown",
   "id": "29aba0ec-2833-4d32-8036-a72bd05cbb6a",
   "metadata": {},
   "source": [
    "Let X1, X2, ..., Xn represent n values from a random variable. For a given dataset, useful descriptive statistics of central tendency include mean, median, and mode, which we built as functions in a previous chapter.\n",
    "We define the mean of a set of numbers:\n",
    "    <math xmlns=\"http://www.w3.org/1998/Math/MathML\">\n",
    "  <mrow data-mjx-texclass=\"ORD\">\n",
    "    <mover>\n",
    "      <mi>X</mi>\n",
    "      <mo stretchy=\"false\">&#xAF;</mo>\n",
    "    </mover>\n",
    "  </mrow>\n",
    "  <mo>=</mo>\n",
    "  <mfrac>\n",
    "    <mrow>\n",
    "      <munderover>\n",
    "        <mo data-mjx-texclass=\"OP\">&#x2211;</mo>\n",
    "        <mrow data-mjx-texclass=\"ORD\">\n",
    "          <mi>i</mi>\n",
    "          <mo>=</mo>\n",
    "          <mn>0</mn>\n",
    "        </mrow>\n",
    "        <mrow data-mjx-texclass=\"ORD\">\n",
    "          <mi>n</mi>\n",
    "          <mo>&#x2212;</mo>\n",
    "          <mn>1</mn>\n",
    "        </mrow>\n",
    "      </munderover>\n",
    "      <msub>\n",
    "        <mi>X</mi>\n",
    "        <mrow data-mjx-texclass=\"ORD\">\n",
    "          <mi>i</mi>\n",
    "        </mrow>\n",
    "      </msub>\n",
    "    </mrow>\n",
    "    <mi>n</mi>\n",
    "  </mfrac>\n",
    "</math>"
   ]
  },
  {
   "cell_type": "code",
   "execution_count": null,
   "id": "0f33f5ef-5a08-4b3d-8089-faf457db4b99",
   "metadata": {},
   "outputs": [],
   "source": [
    "def mean(list):\n",
    "    n = len(list)\n",
    "    mean_ = total(list) / n\n",
    "    return mean_\n",
    "mean(X1), mean(X2)"
   ]
  },
  {
   "cell_type": "markdown",
   "id": "bb03fca9-fd16-4f05-b50e-73c07f917376",
   "metadata": {},
   "source": [
    "Now lets build the rest of the summary statistical fuctions\n",
    "\n",
    "1. median\n",
    "2. mode\n",
    "3. variance\n",
    "4. standard variation\n",
    "5. standard error\n",
    "6. covariance\n",
    "7. correlation"
   ]
  },
  {
   "cell_type": "markdown",
   "id": "2f82e9fe-7722-4db7-84c3-43e0f93d3202",
   "metadata": {},
   "source": [
    "### Median"
   ]
  },
  {
   "cell_type": "code",
   "execution_count": null,
   "id": "73f20f66-928c-4750-a1a9-17fc8a912735",
   "metadata": {},
   "outputs": [],
   "source": [
    "def median(list):\n",
    "    n = len(list)\n",
    "    list = sorted(list)\n",
    "    \n",
    "    \n",
    "    ## two cases: \n",
    "    ## lists of odds lengths\n",
    "    ## i % j checks for remainder after dividing i by j\n",
    "    if n % 2!= 0:\n",
    "        middle_index = int((n - 1) / 2)\n",
    "        median_ = list[middle_index]\n",
    "    \n",
    "    ## list of even lengths\n",
    "    else:\n",
    "        upper_middle_index = int(n / 2)\n",
    "        lower_middle_index = upper_middle_index - 1\n",
    "        # pass slice with two middle values to mean()\n",
    "        median_ = mean(list[lower_middle_index: upper_middle_index + 1])\n",
    "    return median_\n",
    "\n",
    "print(X1)\n",
    "median(X1)"
   ]
  },
  {
   "cell_type": "code",
   "execution_count": null,
   "id": "6b74e9de-ba66-4efa-bcb2-20750eec95bf",
   "metadata": {},
   "outputs": [],
   "source": [
    "# this shows what would happen with an odd list\n",
    "median(X1[:-1])"
   ]
  },
  {
   "cell_type": "code",
   "execution_count": null,
   "id": "386c2534-4945-4a05-bffa-569229a37c32",
   "metadata": {},
   "outputs": [],
   "source": [
    "sorted(X2)"
   ]
  },
  {
   "cell_type": "markdown",
   "id": "3455a437-8573-4bb8-867b-4154c8076ef8",
   "metadata": {},
   "source": [
    "### Mode"
   ]
  },
  {
   "cell_type": "code",
   "execution_count": null,
   "id": "26568184-497e-484c-8f61-b4ea9af9c349",
   "metadata": {},
   "outputs": [],
   "source": [
    "def mode(list):\n",
    "    count_dct = {}\n",
    "# create entries with 0\n",
    "    for key in list:\n",
    "        count_dct[key] = 0\n",
    "# add up each occurance\n",
    "    for key in list:\n",
    "        count_dct[key] += 1\n",
    "# calculate max count up front\n",
    "    max_count = max(count_dct.values())\n",
    "    mode_ = []\n",
    "# now we can compare each count to the max count\n",
    "    for key, count in count_dct.items():\n",
    "        if count == max_count:\n",
    "            mode_.append(key)\n",
    "            \n",
    "    \n",
    "    return mode_\n",
    "\n",
    "\n",
    "list = [1,1,1,1,1,2,3,4,5,5,5,5,5,1000,1000]\n",
    "mode(list)"
   ]
  },
  {
   "cell_type": "markdown",
   "id": "43ee5da7-912b-4bc6-b75c-f134a7fdd375",
   "metadata": {},
   "source": [
    "## Variance\n",
    "\n",
    "<math xmlns=\"http://www.w3.org/1998/Math/MathML\" display=\"block\">\n",
    "  <msup>\n",
    "    <mi>&#x3C3;</mi>\n",
    "    <mn>2</mn>\n",
    "  </msup>\n",
    "  <mo>=</mo>\n",
    "  <mfrac>\n",
    "    <mrow>\n",
    "      <munderover>\n",
    "        <mo data-mjx-texclass=\"OP\">&#x2211;</mo>\n",
    "        <mrow data-mjx-texclass=\"ORD\">\n",
    "          <mi>i</mi>\n",
    "          <mo>=</mo>\n",
    "          <mn>1</mn>\n",
    "        </mrow>\n",
    "        <mi>n</mi>\n",
    "      </munderover>\n",
    "      <mo stretchy=\"false\">(</mo>\n",
    "      <msub>\n",
    "        <mi>X</mi>\n",
    "        <mi>i</mi>\n",
    "      </msub>\n",
    "      <mo>&#x2212;</mo>\n",
    "      <mrow data-mjx-texclass=\"ORD\">\n",
    "        <mover>\n",
    "          <mi>X</mi>\n",
    "          <mo stretchy=\"false\">&#xAF;</mo>\n",
    "        </mover>\n",
    "      </mrow>\n",
    "      <msup>\n",
    "        <mo stretchy=\"false\">)</mo>\n",
    "        <mn>2</mn>\n",
    "      </msup>\n",
    "    </mrow>\n",
    "    <mi>n</mi>\n",
    "  </mfrac>\n",
    "</math>\n",
    "\n",
    "When we are dealing with a sample, which is a subset of a population of observations, then we divide by \n",
    "n−1, the Degrees of Freedom, to unbias the calculation.\n",
    "\n",
    "<math xmlns=\"http://www.w3.org/1998/Math/MathML\" display=\"block\">\n",
    "  <mi>D</mi>\n",
    "  <mi>o</mi>\n",
    "  <mi>F</mi>\n",
    "  <mo>=</mo>\n",
    "  <mi>n</mi>\n",
    "  <mo>&#x2212;</mo>\n",
    "  <mn>1</mn>\n",
    "</math>\n",
    "\n",
    "\n",
    "\n",
    "<math xmlns=\"http://www.w3.org/1998/Math/MathML\" display=\"block\">\n",
    "  <msup>\n",
    "    <mi>S</mi>\n",
    "    <mn>2</mn>\n",
    "  </msup>\n",
    "  <mo>=</mo>\n",
    "  <mfrac>\n",
    "    <mrow>\n",
    "      <munderover>\n",
    "        <mo data-mjx-texclass=\"OP\">&#x2211;</mo>\n",
    "        <mrow data-mjx-texclass=\"ORD\">\n",
    "          <mi>i</mi>\n",
    "          <mo>=</mo>\n",
    "          <mn>1</mn>\n",
    "        </mrow>\n",
    "        <mi>n</mi>\n",
    "      </munderover>\n",
    "      <mo stretchy=\"false\">(</mo>\n",
    "      <msub>\n",
    "        <mi>X</mi>\n",
    "        <mi>i</mi>\n",
    "      </msub>\n",
    "      <mo>&#x2212;</mo>\n",
    "      <mrow data-mjx-texclass=\"ORD\">\n",
    "        <mover>\n",
    "          <mi>X</mi>\n",
    "          <mo stretchy=\"false\">&#xAF;</mo>\n",
    "        </mover>\n",
    "      </mrow>\n",
    "      <msup>\n",
    "        <mo stretchy=\"false\">)</mo>\n",
    "        <mn>2</mn>\n",
    "      </msup>\n",
    "    </mrow>\n",
    "    <mrow>\n",
    "      <mi>n</mi>\n",
    "      <mo>&#x2212;</mo>\n",
    "      <mn>1</mn>\n",
    "    </mrow>\n",
    "  </mfrac>\n",
    "</math>"
   ]
  },
  {
   "cell_type": "code",
   "execution_count": null,
   "id": "d3c6ec32-08ca-4a94-af77-bb09db5e0fc3",
   "metadata": {},
   "outputs": [],
   "source": [
    "def variance(list, sample = True):\n",
    "    list_mean = mean(list)\n",
    "    n = len(list)\n",
    "    DoF = n - 1\n",
    "    sum_sq_diff = 0\n",
    "    \n",
    "    for val in list:\n",
    "        diff = val - list_mean\n",
    "        sum_sq_diff += (diff) ** 2\n",
    "        ## print(val, list_mean, diff ** 2, sum_sq_diff)\n",
    "    if sample == False:\n",
    "        variance_ = sum_sq_diff / n\n",
    "    else:\n",
    "        variance_ = sum_sq_diff / DoF\n",
    "    return variance_\n",
    "\n",
    "variance(X1, sample = True), variance(X1, sample = False)"
   ]
  },
  {
   "cell_type": "code",
   "execution_count": null,
   "id": "111f9ba4-0ecf-46dd-87cf-26fca109d25a",
   "metadata": {},
   "outputs": [],
   "source": [
    "variance(X2, sample = True), variance(X2, sample = False)"
   ]
  },
  {
   "cell_type": "code",
   "execution_count": null,
   "id": "5529ff7e-5e1a-417c-bc4a-599d0eda0964",
   "metadata": {},
   "outputs": [],
   "source": [
    "def SD(list, sample = True):\n",
    "    SD_ = variance(list, sample) ** (1/2)\n",
    "    return SD_\n",
    "SD(X1, sample = True), SD(X1, sample = False)"
   ]
  },
  {
   "cell_type": "code",
   "execution_count": null,
   "id": "c4bd2d3f-1f16-4506-94db-6228da69d129",
   "metadata": {},
   "outputs": [],
   "source": [
    "SD(X2, sample = True), SD(X2, sample = False)"
   ]
  },
  {
   "cell_type": "markdown",
   "id": "c177ea33-6be5-4bf0-9178-4ecd5eb0846c",
   "metadata": {},
   "source": [
    "### Standard Error"
   ]
  },
  {
   "cell_type": "code",
   "execution_count": null,
   "id": "f1537ffa-596d-4121-8916-ea33a5e992dc",
   "metadata": {},
   "outputs": [],
   "source": [
    "def STE(list, sample = True):\n",
    "    n = len(list)\n",
    "    se = SD(list, sample) / n ** (1/2)\n",
    "    \n",
    "    return se"
   ]
  },
  {
   "cell_type": "code",
   "execution_count": null,
   "id": "c68b54b3-d902-48a9-8987-585c8e88b85d",
   "metadata": {},
   "outputs": [],
   "source": [
    "SD(X1, sample = True), STE(X1, sample = True)"
   ]
  },
  {
   "cell_type": "code",
   "execution_count": null,
   "id": "c0193700-e913-47d8-ada3-6e5986234870",
   "metadata": {},
   "outputs": [],
   "source": [
    "SD(X2, sample = True), STE(X2, sample = True)"
   ]
  },
  {
   "cell_type": "markdown",
   "id": "81a93c1e-8d7c-41e2-99cf-67b900279ec3",
   "metadata": {},
   "source": [
    "### Covariance"
   ]
  },
  {
   "cell_type": "code",
   "execution_count": null,
   "id": "6d9ec915-4220-4d25-97bb-e59eaaf5a4c4",
   "metadata": {},
   "outputs": [],
   "source": [
    "def covariance(list1, list2, sample = True):\n",
    "    mean1 = mean(list1)\n",
    "    mean2 = mean(list2)\n",
    "    \n",
    "    cov = 0\n",
    "    n1 = len(list1)\n",
    "    n2 = len(list2)\n",
    "    if n1 == n2:\n",
    "        n = n1\n",
    "        # sum the product of the differences\n",
    "        for i in range(n):\n",
    "            cov += (list1[i] - mean1) * (list2[i] - mean2)\n",
    "        if sample == False:\n",
    "            cov = cov / n\n",
    "        else:\n",
    "            cov = cov / (n - 1)\n",
    "    else:\n",
    "        print(\"List Lengths are not equal\")\n",
    "        print(\"List 1\", n1)\n",
    "        print(\"List 2\", n2)\n",
    "    \n",
    "    return cov\n",
    "covariance(X1, X2, sample = True)"
   ]
  },
  {
   "cell_type": "code",
   "execution_count": null,
   "id": "ee3f621f-1989-4552-8f4a-0f890afde59e",
   "metadata": {},
   "outputs": [],
   "source": [
    "covariance(X1[:-1], X2)"
   ]
  },
  {
   "cell_type": "markdown",
   "id": "3531c14f-e9eb-430e-9cbe-fe24dada8230",
   "metadata": {},
   "source": [
    "<math xmlns=\"http://www.w3.org/1998/Math/MathML\">\n",
    "  <mi>c</mi>\n",
    "  <mi>o</mi>\n",
    "  <mi>r</mi>\n",
    "  <mi>r</mi>\n",
    "  <mo stretchy=\"false\">(</mo>\n",
    "  <mi>x</mi>\n",
    "  <mo>,</mo>\n",
    "  <mi>y</mi>\n",
    "  <mo stretchy=\"false\">)</mo>\n",
    "  <mo>=</mo>\n",
    "  <mfrac>\n",
    "    <mrow>\n",
    "      <mi>c</mi>\n",
    "      <mi>o</mi>\n",
    "      <mi>v</mi>\n",
    "      <mo stretchy=\"false\">(</mo>\n",
    "      <mi>x</mi>\n",
    "      <mo>,</mo>\n",
    "      <mi>y</mi>\n",
    "      <mo stretchy=\"false\">)</mo>\n",
    "    </mrow>\n",
    "    <mrow>\n",
    "      <msub>\n",
    "        <mi>&#x3C3;</mi>\n",
    "        <mi>x</mi>\n",
    "      </msub>\n",
    "      <msub>\n",
    "        <mi>&#x3C3;</mi>\n",
    "        <mi>y</mi>\n",
    "      </msub>\n",
    "    </mrow>\n",
    "  </mfrac>\n",
    "</math>"
   ]
  },
  {
   "cell_type": "code",
   "execution_count": null,
   "id": "5cf0523c-f76c-47d8-84ed-3fb258e0b081",
   "metadata": {},
   "outputs": [],
   "source": [
    "def correlation(list1, list2):\n",
    "    cov = covariance(list1, list2)\n",
    "    SD1 = SD(list1)\n",
    "    SD2 = SD(list2)\n",
    "    corr = cov / (SD1 * SD2)\n",
    "    \n",
    "    return corr\n",
    "correlation(X1, X2)"
   ]
  },
  {
   "cell_type": "code",
   "execution_count": null,
   "id": "2d2631b6-90df-4dcd-b439-c51d8476b9e1",
   "metadata": {},
   "outputs": [],
   "source": [
    "X3 = [x * -0.5 for x in X1]\n",
    "correlation(X1, X3)"
   ]
  },
  {
   "cell_type": "code",
   "execution_count": null,
   "id": "15b5a2a7-e574-4cdf-a78c-a9b6d505ae92",
   "metadata": {},
   "outputs": [],
   "source": [
    "print(X1, X2)"
   ]
  },
  {
   "cell_type": "markdown",
   "id": "cfc6b9b3-9802-48c6-88a8-c294d1987073",
   "metadata": {},
   "source": [
    "<math xmlns=\"http://www.w3.org/1998/Math/MathML\">\n",
    "  <mi>s</mi>\n",
    "  <mi>k</mi>\n",
    "  <mi>e</mi>\n",
    "  <msub>\n",
    "    <mi>w</mi>\n",
    "    <mrow data-mjx-texclass=\"ORD\">\n",
    "      <mi>p</mi>\n",
    "      <mi>o</mi>\n",
    "      <mi>p</mi>\n",
    "    </mrow>\n",
    "  </msub>\n",
    "  <mo stretchy=\"false\">(</mo>\n",
    "  <mi>x</mi>\n",
    "  <mo>,</mo>\n",
    "  <mi>y</mi>\n",
    "  <mo stretchy=\"false\">)</mo>\n",
    "  <mo>=</mo>\n",
    "  <mfrac>\n",
    "    <mrow>\n",
    "      <munderover>\n",
    "        <mo data-mjx-texclass=\"OP\">&#x2211;</mo>\n",
    "        <mrow data-mjx-texclass=\"ORD\">\n",
    "          <mi>i</mi>\n",
    "          <mo>=</mo>\n",
    "          <mn>0</mn>\n",
    "        </mrow>\n",
    "        <mrow data-mjx-texclass=\"ORD\">\n",
    "          <mi>n</mi>\n",
    "          <mo>&#x2212;</mo>\n",
    "          <mn>1</mn>\n",
    "        </mrow>\n",
    "      </munderover>\n",
    "      <mrow data-mjx-texclass=\"ORD\">\n",
    "        <mo stretchy=\"false\">(</mo>\n",
    "        <msub>\n",
    "          <mi>x</mi>\n",
    "          <mrow data-mjx-texclass=\"ORD\">\n",
    "            <mi>i</mi>\n",
    "          </mrow>\n",
    "        </msub>\n",
    "        <mo>&#x2212;</mo>\n",
    "        <msub>\n",
    "          <mi>x</mi>\n",
    "          <mrow data-mjx-texclass=\"ORD\">\n",
    "            <mi>m</mi>\n",
    "            <mi>e</mi>\n",
    "            <mi>a</mi>\n",
    "            <mi>n</mi>\n",
    "          </mrow>\n",
    "        </msub>\n",
    "        <msup>\n",
    "          <mo stretchy=\"false\">)</mo>\n",
    "          <mn>3</mn>\n",
    "        </msup>\n",
    "      </mrow>\n",
    "    </mrow>\n",
    "    <mrow>\n",
    "      <mi>n</mi>\n",
    "      <msup>\n",
    "        <mi>&#x3C3;</mi>\n",
    "        <mn>3</mn>\n",
    "      </msup>\n",
    "    </mrow>\n",
    "  </mfrac>\n",
    "</math>\n",
    "\n",
    "\n",
    ".\n",
    "\n",
    "\n",
    "\n",
    "<math xmlns=\"http://www.w3.org/1998/Math/MathML\">\n",
    "  <mi>s</mi>\n",
    "  <mi>k</mi>\n",
    "  <mi>e</mi>\n",
    "  <msub>\n",
    "    <mi>w</mi>\n",
    "    <mrow data-mjx-texclass=\"ORD\">\n",
    "      <mi>s</mi>\n",
    "      <mi>a</mi>\n",
    "      <mi>m</mi>\n",
    "      <mi>p</mi>\n",
    "      <mi>l</mi>\n",
    "      <mi>e</mi>\n",
    "    </mrow>\n",
    "  </msub>\n",
    "  <mo stretchy=\"false\">(</mo>\n",
    "  <mi>x</mi>\n",
    "  <mo>,</mo>\n",
    "  <mi>y</mi>\n",
    "  <mo stretchy=\"false\">)</mo>\n",
    "  <mo>=</mo>\n",
    "  <mfrac>\n",
    "    <mrow>\n",
    "      <munderover>\n",
    "        <mo data-mjx-texclass=\"OP\">&#x2211;</mo>\n",
    "        <mrow data-mjx-texclass=\"ORD\">\n",
    "          <mi>i</mi>\n",
    "          <mo>=</mo>\n",
    "          <mn>0</mn>\n",
    "        </mrow>\n",
    "        <mrow data-mjx-texclass=\"ORD\">\n",
    "          <mi>n</mi>\n",
    "          <mo>&#x2212;</mo>\n",
    "          <mn>1</mn>\n",
    "        </mrow>\n",
    "      </munderover>\n",
    "      <mrow data-mjx-texclass=\"ORD\">\n",
    "        <mo stretchy=\"false\">(</mo>\n",
    "        <msub>\n",
    "          <mi>x</mi>\n",
    "          <mrow data-mjx-texclass=\"ORD\">\n",
    "            <mi>i</mi>\n",
    "          </mrow>\n",
    "        </msub>\n",
    "        <mo>&#x2212;</mo>\n",
    "        <msub>\n",
    "          <mi>x</mi>\n",
    "          <mrow data-mjx-texclass=\"ORD\">\n",
    "            <mi>m</mi>\n",
    "            <mi>e</mi>\n",
    "            <mi>a</mi>\n",
    "            <mi>n</mi>\n",
    "          </mrow>\n",
    "        </msub>\n",
    "        <msup>\n",
    "          <mo stretchy=\"false\">)</mo>\n",
    "          <mn>3</mn>\n",
    "        </msup>\n",
    "      </mrow>\n",
    "    </mrow>\n",
    "    <mrow>\n",
    "      <mo stretchy=\"false\">(</mo>\n",
    "      <mi>n</mi>\n",
    "      <mo>&#x2212;</mo>\n",
    "      <mn>1</mn>\n",
    "      <mo stretchy=\"false\">)</mo>\n",
    "      <mo stretchy=\"false\">(</mo>\n",
    "      <mi>n</mi>\n",
    "      <mo>&#x2212;</mo>\n",
    "      <mn>2</mn>\n",
    "      <mo stretchy=\"false\">)</mo>\n",
    "      <msup>\n",
    "        <mi>&#x3C3;</mi>\n",
    "        <mn>3</mn>\n",
    "      </msup>\n",
    "    </mrow>\n",
    "  </mfrac>\n",
    "</math>"
   ]
  },
  {
   "cell_type": "code",
   "execution_count": null,
   "id": "39a868d9-aa9b-4b88-97ad-bf567ebe7b53",
   "metadata": {},
   "outputs": [],
   "source": [
    "def skewness(list, sample = True):\n",
    "    mean_ = mean(list)\n",
    "    SD_ = SD(list, sample)\n",
    "    skew = 0\n",
    "    n = len(list)\n",
    "    for val in list:\n",
    "        skew += (val - mean_) ** 3\n",
    "    skew = skew / (n * SD_ ** 3) if not sample else\\\n",
    "        n * skew / ((n - 1) / (n - 2) * SD_ ** 3)\n",
    "    return skew\n",
    "\n",
    "skewness(X1)"
   ]
  },
  {
   "cell_type": "code",
   "execution_count": null,
   "id": "6d6b7b22-640e-4c77-b5ff-feb0845c4150",
   "metadata": {},
   "outputs": [],
   "source": [
    "skewness(X2)"
   ]
  },
  {
   "cell_type": "markdown",
   "id": "64857d54-e4f0-4c84-8def-33afb303254d",
   "metadata": {},
   "source": [
    "<math xmlns=\"http://www.w3.org/1998/Math/MathML\">\n",
    "  <mi>k</mi>\n",
    "  <mi>u</mi>\n",
    "  <mi>r</mi>\n",
    "  <msub>\n",
    "    <mi>t</mi>\n",
    "    <mrow data-mjx-texclass=\"ORD\">\n",
    "      <mi>p</mi>\n",
    "      <mi>o</mi>\n",
    "      <mi>p</mi>\n",
    "    </mrow>\n",
    "  </msub>\n",
    "  <mo>=</mo>\n",
    "  <mfrac>\n",
    "    <mrow>\n",
    "      <munderover>\n",
    "        <mo data-mjx-texclass=\"OP\">&#x2211;</mo>\n",
    "        <mrow data-mjx-texclass=\"ORD\">\n",
    "          <mi>i</mi>\n",
    "          <mo>=</mo>\n",
    "          <mn>0</mn>\n",
    "        </mrow>\n",
    "        <mrow data-mjx-texclass=\"ORD\">\n",
    "          <mi>n</mi>\n",
    "          <mo>&#x2212;</mo>\n",
    "          <mn>1</mn>\n",
    "        </mrow>\n",
    "      </munderover>\n",
    "      <mo stretchy=\"false\">(</mo>\n",
    "      <msub>\n",
    "        <mi>x</mi>\n",
    "        <mrow data-mjx-texclass=\"ORD\">\n",
    "          <mi>i</mi>\n",
    "        </mrow>\n",
    "      </msub>\n",
    "      <mo>&#x2212;</mo>\n",
    "      <msub>\n",
    "        <mi>x</mi>\n",
    "        <mrow data-mjx-texclass=\"ORD\">\n",
    "          <mi>m</mi>\n",
    "          <mi>e</mi>\n",
    "          <mi>a</mi>\n",
    "          <mi>n</mi>\n",
    "        </mrow>\n",
    "      </msub>\n",
    "      <msup>\n",
    "        <mo stretchy=\"false\">)</mo>\n",
    "        <mn>4</mn>\n",
    "      </msup>\n",
    "    </mrow>\n",
    "    <mrow>\n",
    "      <mi>n</mi>\n",
    "      <msup>\n",
    "        <mi>&#x3C3;</mi>\n",
    "        <mn>4</mn>\n",
    "      </msup>\n",
    "    </mrow>\n",
    "  </mfrac>\n",
    "</math>\n",
    "\n",
    "\n",
    "\n",
    ".\n",
    "\n",
    "\n",
    "\n",
    "<math xmlns=\"http://www.w3.org/1998/Math/MathML\">\n",
    "  <mi>k</mi>\n",
    "  <mi>u</mi>\n",
    "  <mi>r</mi>\n",
    "  <msub>\n",
    "    <mi>t</mi>\n",
    "    <mrow data-mjx-texclass=\"ORD\">\n",
    "      <mi>s</mi>\n",
    "      <mi>a</mi>\n",
    "      <mi>m</mi>\n",
    "      <mi>p</mi>\n",
    "      <mi>l</mi>\n",
    "      <mi>e</mi>\n",
    "    </mrow>\n",
    "  </msub>\n",
    "  <mo>=</mo>\n",
    "  <mfrac>\n",
    "    <mrow>\n",
    "      <mi>n</mi>\n",
    "      <mo stretchy=\"false\">(</mo>\n",
    "      <mi>n</mi>\n",
    "      <mo>+</mo>\n",
    "      <mn>1</mn>\n",
    "      <mo stretchy=\"false\">)</mo>\n",
    "      <munderover>\n",
    "        <mo data-mjx-texclass=\"OP\">&#x2211;</mo>\n",
    "        <mrow data-mjx-texclass=\"ORD\">\n",
    "          <mi>i</mi>\n",
    "          <mo>=</mo>\n",
    "          <mn>0</mn>\n",
    "        </mrow>\n",
    "        <mrow data-mjx-texclass=\"ORD\">\n",
    "          <mi>n</mi>\n",
    "          <mo>&#x2212;</mo>\n",
    "          <mn>1</mn>\n",
    "        </mrow>\n",
    "      </munderover>\n",
    "      <mo stretchy=\"false\">(</mo>\n",
    "      <msub>\n",
    "        <mi>x</mi>\n",
    "        <mrow data-mjx-texclass=\"ORD\">\n",
    "          <mi>i</mi>\n",
    "        </mrow>\n",
    "      </msub>\n",
    "      <mo>&#x2212;</mo>\n",
    "      <msub>\n",
    "        <mi>x</mi>\n",
    "        <mrow data-mjx-texclass=\"ORD\">\n",
    "          <mi>m</mi>\n",
    "          <mi>e</mi>\n",
    "          <mi>a</mi>\n",
    "          <mi>n</mi>\n",
    "        </mrow>\n",
    "      </msub>\n",
    "      <msup>\n",
    "        <mo stretchy=\"false\">)</mo>\n",
    "        <mn>4</mn>\n",
    "      </msup>\n",
    "    </mrow>\n",
    "    <mrow>\n",
    "      <mo stretchy=\"false\">(</mo>\n",
    "      <mi>n</mi>\n",
    "      <mo>&#x2212;</mo>\n",
    "      <mn>1</mn>\n",
    "      <mo stretchy=\"false\">)</mo>\n",
    "      <mo stretchy=\"false\">(</mo>\n",
    "      <mi>n</mi>\n",
    "      <mo>&#x2212;</mo>\n",
    "      <mn>2</mn>\n",
    "      <mo stretchy=\"false\">)</mo>\n",
    "      <mo stretchy=\"false\">(</mo>\n",
    "      <mi>n</mi>\n",
    "      <mo>&#x2212;</mo>\n",
    "      <mn>3</mn>\n",
    "      <mo stretchy=\"false\">)</mo>\n",
    "      <msup>\n",
    "        <mi>&#x3C3;</mi>\n",
    "        <mn>4</mn>\n",
    "      </msup>\n",
    "    </mrow>\n",
    "  </mfrac>\n",
    "  <mo>&#x2212;</mo>\n",
    "  <mfrac>\n",
    "    <mrow>\n",
    "      <mn>3</mn>\n",
    "      <mo stretchy=\"false\">(</mo>\n",
    "      <mi>n</mi>\n",
    "      <mo>&#x2212;</mo>\n",
    "      <mn>1</mn>\n",
    "      <msup>\n",
    "        <mo stretchy=\"false\">)</mo>\n",
    "        <mn>2</mn>\n",
    "      </msup>\n",
    "    </mrow>\n",
    "    <mrow>\n",
    "      <mo stretchy=\"false\">(</mo>\n",
    "      <mi>n</mi>\n",
    "      <mo>&#x2212;</mo>\n",
    "      <mn>2</mn>\n",
    "      <mo stretchy=\"false\">)</mo>\n",
    "      <mo stretchy=\"false\">(</mo>\n",
    "      <mi>n</mi>\n",
    "      <mo>&#x2212;</mo>\n",
    "      <mn>3</mn>\n",
    "      <mo stretchy=\"false\">)</mo>\n",
    "    </mrow>\n",
    "  </mfrac>\n",
    "</math>"
   ]
  },
  {
   "cell_type": "code",
   "execution_count": null,
   "id": "8c9f6161-b1b8-40f3-85be-517c2b1ace99",
   "metadata": {},
   "outputs": [],
   "source": [
    "def kurtosis(list, sample = True):\n",
    "    mean_ = mean(list)\n",
    "    kurt = 0 \n",
    "    SD_ = SD(list, sample)\n",
    "    n = len(list)\n",
    "    for val in list:\n",
    "        kurt += (val - mean_) ** 4\n",
    "    kurt = kurt / (n * SD_ ** 4) if sample == False else n * (n + 1) * kurt / \\\n",
    "        ((n - 1) * (n - 2) * (n - 3) * (SD_ ** 4) - (3 *(n - 1) ** 2))\n",
    "    \n",
    "    return kurt\n",
    "\n",
    "kurtosis(X1, sample = False)"
   ]
  },
  {
   "cell_type": "code",
   "execution_count": null,
   "id": "a00460fd-3142-4f68-94ff-102d2c112104",
   "metadata": {},
   "outputs": [],
   "source": [
    "kurtosis(X2, sample = False)"
   ]
  },
  {
   "cell_type": "markdown",
   "id": "9ce80e4f-1776-4153-a0e0-b104105c48df",
   "metadata": {},
   "source": [
    "### Gather Statistics"
   ]
  },
  {
   "cell_type": "code",
   "execution_count": null,
   "id": "683aec05-9a50-4d9b-ba29-b3aad6fdf8b3",
   "metadata": {},
   "outputs": [],
   "source": [
    "import pandas as pd\n",
    "def gather_statistics(df, sample = False, round_dig = 2):\n",
    "    dct = {key:{} for key in df}\n",
    "    for key, val in df.items():\n",
    "        val.dropna(inplace = True)\n",
    "        dct[key][\"mean\"] = round(mean(val), round_dig)\n",
    "        dct[key][\"median\"] = round(median(val), round_dig)\n",
    "        dct[key][\"variance\"] = round(variance(val), round_dig)\n",
    "        dct[key][\"S.D.\"] = round(SD(val, sample), round_dig)\n",
    "        dct[key][\"skewness\"] = round(skewness(val, sample), round_dig)\n",
    "        dct[key][\"kurtosis\"] = round(kurtosis(val, sample), round_dig)\n",
    "    stats_df = pd.DataFrame(dct)\n",
    "    return(stats_df)\n",
    "data = pd.DataFrame([X1,X2], index = [\"List1\", \"List2\"]).T\n",
    "gather_statistics(data, sample = False, round_dig = 2)"
   ]
  },
  {
   "cell_type": "markdown",
   "id": "7a18f297-0b8f-4d79-a011-4a84dc2f57d5",
   "metadata": {},
   "source": [
    "## Fraser Economic Freedom of the World "
   ]
  },
  {
   "cell_type": "code",
   "execution_count": null,
   "id": "c2b62b9a-bec4-49f4-af13-1af489e2985e",
   "metadata": {},
   "outputs": [],
   "source": [
    "filename = \"fraser.xlsx\"\n",
    "data = pd.read_excel(filename, header = [4],\n",
    "                    index_col = [3,1])\n",
    "data"
   ]
  },
  {
   "cell_type": "code",
   "execution_count": null,
   "id": "54739dfc-911e-4456-a499-83f4fb2fb8d4",
   "metadata": {},
   "outputs": [],
   "source": [
    "file = pd.ExcelFile(filename)\n",
    "file.sheet_names  #see the sheet names\n",
    "\n",
    "for sheet_name in file.sheet_names:\n",
    "    print(sheet_name)\n",
    "    print(pd.read_excel(filename, header = [4],\n",
    "                        index_col = [3,1],\n",
    "                        sheet_name = sheet_name))"
   ]
  },
  {
   "cell_type": "code",
   "execution_count": null,
   "id": "a639cb4b-f7ba-49e5-910c-051170f10c36",
   "metadata": {
    "tags": []
   },
   "outputs": [],
   "source": [
    "dir(data)"
   ]
  },
  {
   "cell_type": "code",
   "execution_count": null,
   "id": "780ac784-2329-463d-b743-9ee8f75e2ae1",
   "metadata": {},
   "outputs": [],
   "source": [
    "# get the target sheet name from the list of sheet names\n",
    "sheet_name = file.sheet_names[1]\n",
    "data = pd.read_excel(filename, \n",
    "                     sheet_name = \"EFW Panel Data 2022 Report\",\n",
    "                    index_col = [2,0])\n",
    "rename = {\"Panel Data Summary Index\":\"Summary\",\n",
    "          \"Area 1\":\"Size of Government\",\n",
    "          \"Area 2\":\"Legal System and Property Rights\",\n",
    "          \"Area 3\":\"Sound Money\",\n",
    "          \"Area 4\":\"Freedom to Trade Internationally\",\n",
    "          \"Area 5\":\"Regulation\"}\n",
    "data.rename(columns = rename, inplace = True)\n",
    "data"
   ]
  },
  {
   "cell_type": "markdown",
   "id": "d758e2bd-ecce-4058-8390-17bb6a073f11",
   "metadata": {},
   "source": [
    "### Segue on boolean series, calling subsets of data"
   ]
  },
  {
   "cell_type": "code",
   "execution_count": null,
   "id": "67f81a31-f90e-4c2a-bb48-dac2cb92b681",
   "metadata": {},
   "outputs": [],
   "source": [
    "income_levels = data.keys()[2]\n",
    "# access the unique values in the column by calling .unique()\n",
    "data[income_levels].unique()"
   ]
  },
  {
   "cell_type": "code",
   "execution_count": null,
   "id": "75501472-67a6-4995-888d-506b21b5f605",
   "metadata": {},
   "outputs": [],
   "source": [
    "# selects all rows with \"H\" Income Classification\n",
    "data[data[income_levels] == \"H\"]"
   ]
  },
  {
   "cell_type": "code",
   "execution_count": null,
   "id": "d63744bd-6d54-4c77-89e7-481ba2a41cb9",
   "metadata": {},
   "outputs": [],
   "source": [
    "# selects all rows with \"UM\" Income Classification\n",
    "um_income_bool = data[income_levels] == \"UM\"\n",
    "data[um_income_bool]"
   ]
  },
  {
   "cell_type": "code",
   "execution_count": null,
   "id": "411a7685-eebc-4d36-9073-437d4090a587",
   "metadata": {},
   "outputs": [],
   "source": [
    "# pretty much the same as above but cleaner code\n",
    "# selects a second group to add to the table\n",
    "high_income_bool = data[income_levels] == \"H\"\n",
    "um_income_bool = data[income_levels] == \"UM\"\n",
    "data[high_income_bool | um_income_bool]"
   ]
  },
  {
   "cell_type": "code",
   "execution_count": null,
   "id": "0d9f7238-4b26-441f-9dd5-da19d4d0d15e",
   "metadata": {},
   "outputs": [],
   "source": [
    "# selects everything besides \"UM\"\n",
    "um_income_bool = data[income_levels] == \"UM\"\n",
    "data[um_income_bool == False]"
   ]
  },
  {
   "cell_type": "code",
   "execution_count": null,
   "id": "77081c9b-c98a-41be-a7e3-7c89a8536c6f",
   "metadata": {},
   "outputs": [],
   "source": [
    "data = data[data.keys()[4:-1]]\n",
    "data"
   ]
  },
  {
   "cell_type": "code",
   "execution_count": null,
   "id": "25479207-bd11-45d3-941f-4aa4a1e2b62b",
   "metadata": {},
   "outputs": [],
   "source": [
    "# drops null rows\n",
    "data.dropna(axis = 0)"
   ]
  },
  {
   "cell_type": "code",
   "execution_count": null,
   "id": "12364fb6-b58e-42db-9994-c9154dd737f7",
   "metadata": {},
   "outputs": [],
   "source": [
    "# drops columns that are all null values\n",
    "data.dropna(axis = 1, how = \"all\")"
   ]
  },
  {
   "cell_type": "code",
   "execution_count": null,
   "id": "f61e764d-204d-408a-b8ce-bd9a4cd8064f",
   "metadata": {},
   "outputs": [],
   "source": [
    "# drops columns that contain a null value\n",
    "data.dropna(axis = 1, how = \"any\")"
   ]
  },
  {
   "cell_type": "code",
   "execution_count": null,
   "id": "dc2e27e8-e32d-46a5-92df-089df3c5a5e6",
   "metadata": {},
   "outputs": [],
   "source": [
    "data_for_stats = data.dropna(how=\"any\")\n",
    "data"
   ]
  },
  {
   "cell_type": "code",
   "execution_count": null,
   "id": "663a6d79-78c0-4314-afc5-2c25f272617b",
   "metadata": {},
   "outputs": [],
   "source": [
    "stats_DF = gather_statistics(data_for_stats, sample = False)\n",
    "stats_DF"
   ]
  },
  {
   "cell_type": "code",
   "execution_count": null,
   "id": "a4de3709-7fe5-403e-8d40-9679a0ce8208",
   "metadata": {},
   "outputs": [],
   "source": [
    "cov_DF = data_for_stats.cov().round(2)\n",
    "cov_DF"
   ]
  },
  {
   "cell_type": "code",
   "execution_count": null,
   "id": "1332a1d5-0e96-4e8c-9f3b-d9c5aa7f103f",
   "metadata": {},
   "outputs": [],
   "source": [
    "corr_DF = data_for_stats.corr().round(2)\n",
    "corr_DF"
   ]
  },
  {
   "cell_type": "code",
   "execution_count": null,
   "id": "28645f29-37ef-4118-9a86-7aff312381bc",
   "metadata": {},
   "outputs": [],
   "source": [
    "# alphabetize columns\n",
    "data_for_stats.corr().round(2).sort_index(axis = 1).sort_index(axis = 0)"
   ]
  },
  {
   "cell_type": "code",
   "execution_count": null,
   "id": "8db5c2cb-aef6-43e5-a282-7eaf34b89485",
   "metadata": {},
   "outputs": [],
   "source": [
    "import numpy as np\n",
    "import matplotlib.pyplot as plt\n",
    "from matplotlib.backends.backend_pdf import PdfPages\n",
    "import os\n",
    "\n",
    "def corr_matrix_heatmap(data, dim = 20, pp = None):\n",
    "    fig, ax = plt.subplots(figsize = (dim,dim))\n",
    "    im = ax.imshow(data, norm = plt.cm.colors.Normalize(-1,1), cmap = \"seismic\")\n",
    "    labels = data.keys()\n",
    "    num_vars = len(labels)\n",
    "    tick_labels = [label.replace(\" \",\"\\n\") for label in labels]\n",
    "    tick_font_size = 120 / num_vars\n",
    "    val_font_size = 200 / num_vars\n",
    "    plt.rcParams.update({'font.size': tick_font_size})\n",
    "    x_ticks = np.arange(num_vars)\n",
    "    plt.xticks(x_ticks, tick_labels, fontsize = tick_font_size, rotation = 90)\n",
    "    y_ticks = np.arange(num_vars)\n",
    "    plt.yticks(y_ticks, tick_labels, fontsize = tick_font_size)\n",
    "    # put all of the options chosen above to use and create the correlation figure\n",
    "    for i in range (len(labels)):\n",
    "        for j in range (len(labels)):\n",
    "            text = ax.text(i,j,str(round(data.values[i][j], 2)),\n",
    "                          fontsize = val_font_size, ha = \"center\",\n",
    "                          va = \"center\", color = \"w\")\n",
    "    title_font = {\"fontname\":\"Times New Roman\"}\n",
    "    plt.title(\"Correlation\", fontsize = 50, **title_font)\n",
    "    \n",
    "    \n",
    "    cbar = fig.colorbar(im)\n",
    "    plt.show()\n",
    "    if pp != None:\n",
    "        pp.savefig(fig, bb_inches = \"tight\")\n",
    "    plt.close()\n",
    "    \n",
    "try:\n",
    "    os.mkdir(folder)\n",
    "except:\n",
    "    print(folder, \"already exists\")\n",
    "    \n",
    "# create pdf   \n",
    "pp = PdfPages(folder + \"/Economic Freedom Plots.pdf\")    \n",
    "    \n",
    "    \n",
    "corr_data = data.corr()\n",
    "corr_matrix_heatmap(corr_data, pp = pp)"
   ]
  },
  {
   "cell_type": "markdown",
   "id": "ec47a6f3-dc3a-4390-bb3f-634d4855bced",
   "metadata": {},
   "source": [
    "### building scatter plots with time as horizontal axis"
   ]
  },
  {
   "cell_type": "code",
   "execution_count": null,
   "id": "b66137cb-dc87-4ceb-b031-7e50898d1a67",
   "metadata": {},
   "outputs": [],
   "source": [
    "mean_data = data.groupby(\"Year\").mean()\n",
    "mean_data"
   ]
  },
  {
   "cell_type": "code",
   "execution_count": null,
   "id": "f4214dba-0067-49ad-bbfd-76680a0fc040",
   "metadata": {},
   "outputs": [],
   "source": [
    "plt.rcParams.update({'font.size': 20})\n",
    "\n",
    "def plot_ts_scatter(data, pp = None):\n",
    "    time = data.index.get_level_values(\"Year\")\n",
    "    for key, val in data.items():\n",
    "        fig, ax = plt.subplots(figsize = (10,6))\n",
    "        ax.scatter(time, val, alpha = .2, color = \"k\", s = 50)\n",
    "        ax.set_title(key, fontsize = 27)\n",
    "        mean_data[key].plot(ax = ax, linewidth = 10, color = \"C0\", alpha = .8)\n",
    "        plt.show()\n",
    "        plt.savefig(folder + \"/\" + key + \".jpeg\")\n",
    "        if pp != None:\n",
    "            pp.savefig(fig, bbox_inches = \"tight\")\n",
    "        plt.close()\n",
    "        \n",
    "plot_ts_scatter(data,pp)"
   ]
  },
  {
   "cell_type": "code",
   "execution_count": null,
   "id": "cf6aa919-f4ae-44fa-9ea3-1d27accc8856",
   "metadata": {},
   "outputs": [],
   "source": [
    "\n",
    "#create a pdf\n",
    "def color_dim_scatter(data, pp):\n",
    "    for key1 in data:\n",
    "        for key2 in data:\n",
    "            # don't plot the same variable on x and y\n",
    "            if key1 != key2:\n",
    "                for key3 in data:\n",
    "                    # don't plot the same variable for c,x, and y\n",
    "                    if key1 != key3 and key2 != key3:\n",
    "                        fix, ax = plt.subplots(figsize = (10,8))\n",
    "                        data.plot.scatter(x = key1,\n",
    "                                          y = key2,\n",
    "                                          c = key3,\n",
    "                                          colormap = \"viridis\",\n",
    "                                          s = 10,\n",
    "                                          alpha = .7,\n",
    "                                          ax = ax)\n",
    "                    # remove the ticklines\n",
    "                        plt.setp(ax.get_xticklines(), visible = False)\n",
    "                        plt.setp(ax.get_yticklines(), visible = False)\n",
    "                    \n",
    "                    #show figure\n",
    "                        plt.show()\n",
    "                    \n",
    "                    #save the figure we showed\n",
    "                        pp.savefig(fig, bbox_inches = \"tight\")\n",
    "                    \n",
    "                    #close the figure\n",
    "                        plt.close\n",
    "\n",
    "color_dim_scatter(data[[\"Size of Government\",\"Legal System and Property Rights\", \"Sound Money\"]], pp)\n",
    "# close the pdf so that it can be opened\n",
    "pp.close()\n",
    "        "
   ]
  },
  {
   "cell_type": "code",
   "execution_count": null,
   "id": "b477535c-d908-4b61-a21a-624f5e4af505",
   "metadata": {},
   "outputs": [],
   "source": [
    "folder"
   ]
  },
  {
   "cell_type": "code",
   "execution_count": null,
   "id": "092dead1-23ee-4fed-8327-25be219d496e",
   "metadata": {},
   "outputs": [],
   "source": [
    "def formatted_scatter_matrix(data, pp = None, dim = 15):\n",
    "    figsize = (dim, dim)\n",
    "    num_vars = len(data.keys())\n",
    "    font_size = 90 / num_vars\n",
    "    fig, ax = plt.subplots(figsize = figsize)\n",
    "    pd.plotting.scatter_matrix(data,\n",
    "                               alpha = .1,\n",
    "                               ax = ax,\n",
    "                               # s means size\n",
    "                               s = 300 / num_vars)\n",
    "    plt.rcParams.update({'font.size': font_size})\n",
    "    plt.tight_layout()\n",
    "    plt.show()\n",
    "    if pp != None:\n",
    "        # bbox_inches helps keep the figure from being cut off\n",
    "        pp.savefig(fig, bbox_inches = \"tight\")\n",
    "    plt.close()\n",
    "\n",
    "\n",
    "plot_data = data.rename(\n",
    "    columns = {key:key.replace(\" \", \"\\n\") for key in data.keys()})\n",
    "formatted_scatter_matrix(plot_data, pp, dim = 15)\n",
    "\n",
    "# closes the pdf so it can be opened without corrupting\n",
    "pp.close()"
   ]
  },
  {
   "cell_type": "code",
   "execution_count": null,
   "id": "3674be84-9efc-4668-be32-78b7b9bffa76",
   "metadata": {},
   "outputs": [],
   "source": []
  }
 ],
 "metadata": {
  "kernelspec": {
   "display_name": "Python 3 (ipykernel)",
   "language": "python",
   "name": "python3"
  },
  "language_info": {
   "codemirror_mode": {
    "name": "ipython",
    "version": 3
   },
   "file_extension": ".py",
   "mimetype": "text/x-python",
   "name": "python",
   "nbconvert_exporter": "python",
   "pygments_lexer": "ipython3",
   "version": "3.9.13"
  }
 },
 "nbformat": 4,
 "nbformat_minor": 5
}
