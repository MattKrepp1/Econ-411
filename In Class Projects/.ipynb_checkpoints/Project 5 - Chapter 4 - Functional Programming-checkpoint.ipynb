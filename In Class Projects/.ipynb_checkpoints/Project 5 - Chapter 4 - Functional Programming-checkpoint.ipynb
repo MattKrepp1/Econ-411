{
 "cells": [
  {
   "cell_type": "markdown",
   "id": "a816a03d-5978-42c3-83f0-92647babd71c",
   "metadata": {},
   "source": [
    "# Chapter 4: Functional Programming: Rudimentary Statistics and Analysis"
   ]
  },
  {
   "cell_type": "code",
   "execution_count": null,
   "id": "c7058ec8-bd03-491b-ad5b-b957f0cfbf8f",
   "metadata": {},
   "outputs": [],
   "source": []
  },
  {
   "cell_type": "code",
   "execution_count": null,
   "id": "e34ba073-93c4-4108-b304-496615b1b3da",
   "metadata": {},
   "outputs": [],
   "source": [
    "def function_name(object1, object2, ..., objectn):\n",
    "    <operations>"
   ]
  },
  {
   "cell_type": "code",
   "execution_count": null,
   "id": "c214548a-f734-4e7f-9774-8cdc458e4ae8",
   "metadata": {},
   "outputs": [],
   "source": []
  },
  {
   "cell_type": "code",
   "execution_count": 8,
   "id": "a5d17aae-8536-4ab8-b0c1-d73e6b48b471",
   "metadata": {},
   "outputs": [
    {
     "name": "stdout",
     "output_type": "stream",
     "text": [
      "total\t value\n",
      "0 \t 0\n",
      "1 \t 1\n",
      "3 \t 2\n",
      "6 \t 3\n",
      "10 \t 4\n",
      "15 \t 5\n",
      "21 \t 6\n",
      "28 \t 7\n",
      "36 \t 8\n",
      "45 \t 9\n",
      "final total: 45\n"
     ]
    }
   ],
   "source": [
    "n = 0\n",
    "total = 0\n",
    "values = [i for i in range(10)]\n",
    "\n",
    "print(\"total\\t\", \"value\")\n",
    "for value in values:\n",
    "    total += value\n",
    "    print(total, \"\\t\", value)\n",
    "    \n",
    "print(\"final total:\", total)"
   ]
  },
  {
   "cell_type": "code",
   "execution_count": 9,
   "id": "8deede1b-7634-4920-bfe6-c1bc0cc33ac3",
   "metadata": {
    "collapsed": true,
    "jupyter": {
     "outputs_hidden": true
    },
    "tags": []
   },
   "outputs": [
    {
     "name": "stdout",
     "output_type": "stream",
     "text": [
      "total\t value\n",
      "0 \t 0\n",
      "2 \t 2\n",
      "6 \t 4\n",
      "12 \t 6\n",
      "20 \t 8\n",
      "30 \t 10\n",
      "42 \t 12\n",
      "56 \t 14\n",
      "72 \t 16\n",
      "90 \t 18\n",
      "110 \t 20\n",
      "132 \t 22\n",
      "156 \t 24\n",
      "182 \t 26\n",
      "210 \t 28\n",
      "240 \t 30\n",
      "272 \t 32\n",
      "306 \t 34\n",
      "342 \t 36\n",
      "380 \t 38\n",
      "420 \t 40\n",
      "462 \t 42\n",
      "506 \t 44\n",
      "552 \t 46\n",
      "600 \t 48\n",
      "650 \t 50\n",
      "702 \t 52\n",
      "756 \t 54\n",
      "812 \t 56\n",
      "870 \t 58\n",
      "930 \t 60\n",
      "992 \t 62\n",
      "1056 \t 64\n",
      "1122 \t 66\n",
      "1190 \t 68\n",
      "1260 \t 70\n",
      "1332 \t 72\n",
      "1406 \t 74\n",
      "1482 \t 76\n",
      "1560 \t 78\n",
      "1640 \t 80\n",
      "1722 \t 82\n",
      "1806 \t 84\n",
      "1892 \t 86\n",
      "1980 \t 88\n",
      "2070 \t 90\n",
      "2162 \t 92\n",
      "2256 \t 94\n",
      "2352 \t 96\n",
      "2450 \t 98\n",
      "2550 \t 100\n",
      "2652 \t 102\n",
      "2756 \t 104\n",
      "2862 \t 106\n",
      "2970 \t 108\n",
      "3080 \t 110\n",
      "3192 \t 112\n",
      "3306 \t 114\n",
      "3422 \t 116\n",
      "3540 \t 118\n",
      "3660 \t 120\n",
      "3782 \t 122\n",
      "3906 \t 124\n",
      "4032 \t 126\n",
      "4160 \t 128\n",
      "4290 \t 130\n",
      "4422 \t 132\n",
      "4556 \t 134\n",
      "4692 \t 136\n",
      "4830 \t 138\n",
      "4970 \t 140\n",
      "5112 \t 142\n",
      "5256 \t 144\n",
      "5402 \t 146\n",
      "5550 \t 148\n",
      "5700 \t 150\n",
      "5852 \t 152\n",
      "6006 \t 154\n",
      "6162 \t 156\n",
      "6320 \t 158\n",
      "6480 \t 160\n",
      "6642 \t 162\n",
      "6806 \t 164\n",
      "6972 \t 166\n",
      "7140 \t 168\n",
      "7310 \t 170\n",
      "7482 \t 172\n",
      "7656 \t 174\n",
      "7832 \t 176\n",
      "8010 \t 178\n",
      "8190 \t 180\n",
      "8372 \t 182\n",
      "8556 \t 184\n",
      "8742 \t 186\n",
      "8930 \t 188\n",
      "9120 \t 190\n",
      "9312 \t 192\n",
      "9506 \t 194\n",
      "9702 \t 196\n",
      "9900 \t 198\n",
      "10100 \t 200\n",
      "10302 \t 202\n",
      "10506 \t 204\n",
      "10712 \t 206\n",
      "10920 \t 208\n",
      "11130 \t 210\n",
      "11342 \t 212\n",
      "11556 \t 214\n",
      "11772 \t 216\n",
      "11990 \t 218\n",
      "12210 \t 220\n",
      "12432 \t 222\n",
      "12656 \t 224\n",
      "12882 \t 226\n",
      "13110 \t 228\n",
      "13340 \t 230\n",
      "13572 \t 232\n",
      "13806 \t 234\n",
      "14042 \t 236\n",
      "14280 \t 238\n",
      "14520 \t 240\n",
      "14762 \t 242\n",
      "15006 \t 244\n",
      "15252 \t 246\n",
      "15500 \t 248\n",
      "15750 \t 250\n",
      "16002 \t 252\n",
      "16256 \t 254\n",
      "16512 \t 256\n",
      "16770 \t 258\n",
      "17030 \t 260\n",
      "17292 \t 262\n",
      "17556 \t 264\n",
      "17822 \t 266\n",
      "18090 \t 268\n",
      "18360 \t 270\n",
      "18632 \t 272\n",
      "18906 \t 274\n",
      "19182 \t 276\n",
      "19460 \t 278\n",
      "19740 \t 280\n",
      "20022 \t 282\n",
      "20306 \t 284\n",
      "20592 \t 286\n",
      "20880 \t 288\n",
      "21170 \t 290\n",
      "21462 \t 292\n",
      "21756 \t 294\n",
      "22052 \t 296\n",
      "22350 \t 298\n",
      "22650 \t 300\n",
      "22952 \t 302\n",
      "23256 \t 304\n",
      "23562 \t 306\n",
      "23870 \t 308\n",
      "24180 \t 310\n",
      "24492 \t 312\n",
      "24806 \t 314\n",
      "25122 \t 316\n",
      "25440 \t 318\n",
      "25760 \t 320\n",
      "26082 \t 322\n",
      "26406 \t 324\n",
      "26732 \t 326\n",
      "27060 \t 328\n",
      "27390 \t 330\n",
      "27722 \t 332\n",
      "28056 \t 334\n",
      "28392 \t 336\n",
      "28730 \t 338\n",
      "29070 \t 340\n",
      "29412 \t 342\n",
      "29756 \t 344\n",
      "30102 \t 346\n",
      "30450 \t 348\n",
      "30800 \t 350\n",
      "31152 \t 352\n",
      "31506 \t 354\n",
      "31862 \t 356\n",
      "32220 \t 358\n",
      "32580 \t 360\n",
      "32942 \t 362\n",
      "33306 \t 364\n",
      "33672 \t 366\n",
      "34040 \t 368\n",
      "34410 \t 370\n",
      "34782 \t 372\n",
      "35156 \t 374\n",
      "35532 \t 376\n",
      "35910 \t 378\n",
      "36290 \t 380\n",
      "36672 \t 382\n",
      "37056 \t 384\n",
      "37442 \t 386\n",
      "37830 \t 388\n",
      "38220 \t 390\n",
      "38612 \t 392\n",
      "39006 \t 394\n",
      "39402 \t 396\n",
      "39800 \t 398\n",
      "40200 \t 400\n",
      "40602 \t 402\n",
      "41006 \t 404\n",
      "41412 \t 406\n",
      "41820 \t 408\n",
      "42230 \t 410\n",
      "42642 \t 412\n",
      "43056 \t 414\n",
      "43472 \t 416\n",
      "43890 \t 418\n",
      "44310 \t 420\n",
      "44732 \t 422\n",
      "45156 \t 424\n",
      "45582 \t 426\n",
      "46010 \t 428\n",
      "46440 \t 430\n",
      "46872 \t 432\n",
      "47306 \t 434\n",
      "47742 \t 436\n",
      "48180 \t 438\n",
      "48620 \t 440\n",
      "49062 \t 442\n",
      "49506 \t 444\n",
      "49952 \t 446\n",
      "50400 \t 448\n",
      "50850 \t 450\n",
      "51302 \t 452\n",
      "51756 \t 454\n",
      "52212 \t 456\n",
      "52670 \t 458\n",
      "53130 \t 460\n",
      "53592 \t 462\n",
      "54056 \t 464\n",
      "54522 \t 466\n",
      "54990 \t 468\n",
      "55460 \t 470\n",
      "55932 \t 472\n",
      "56406 \t 474\n",
      "56882 \t 476\n",
      "57360 \t 478\n",
      "57840 \t 480\n",
      "58322 \t 482\n",
      "58806 \t 484\n",
      "59292 \t 486\n",
      "59780 \t 488\n",
      "60270 \t 490\n",
      "60762 \t 492\n",
      "61256 \t 494\n",
      "61752 \t 496\n",
      "62250 \t 498\n",
      "62750 \t 500\n",
      "63252 \t 502\n",
      "63756 \t 504\n",
      "64262 \t 506\n",
      "64770 \t 508\n",
      "65280 \t 510\n",
      "65792 \t 512\n",
      "66306 \t 514\n",
      "66822 \t 516\n",
      "67340 \t 518\n",
      "67860 \t 520\n",
      "68382 \t 522\n",
      "68906 \t 524\n",
      "69432 \t 526\n",
      "69960 \t 528\n",
      "70490 \t 530\n",
      "71022 \t 532\n",
      "71556 \t 534\n",
      "72092 \t 536\n",
      "72630 \t 538\n",
      "73170 \t 540\n",
      "73712 \t 542\n",
      "74256 \t 544\n",
      "74802 \t 546\n",
      "75350 \t 548\n",
      "75900 \t 550\n",
      "76452 \t 552\n",
      "77006 \t 554\n",
      "77562 \t 556\n",
      "78120 \t 558\n",
      "78680 \t 560\n",
      "79242 \t 562\n",
      "79806 \t 564\n",
      "80372 \t 566\n",
      "80940 \t 568\n",
      "81510 \t 570\n",
      "82082 \t 572\n",
      "82656 \t 574\n",
      "83232 \t 576\n",
      "83810 \t 578\n",
      "84390 \t 580\n",
      "84972 \t 582\n",
      "85556 \t 584\n",
      "86142 \t 586\n",
      "86730 \t 588\n",
      "87320 \t 590\n",
      "87912 \t 592\n",
      "88506 \t 594\n",
      "89102 \t 596\n",
      "89700 \t 598\n",
      "90300 \t 600\n",
      "90902 \t 602\n",
      "91506 \t 604\n",
      "92112 \t 606\n",
      "92720 \t 608\n",
      "93330 \t 610\n",
      "93942 \t 612\n",
      "94556 \t 614\n",
      "95172 \t 616\n",
      "95790 \t 618\n",
      "96410 \t 620\n",
      "97032 \t 622\n",
      "97656 \t 624\n",
      "98282 \t 626\n",
      "98910 \t 628\n",
      "99540 \t 630\n",
      "100172 \t 632\n",
      "100806 \t 634\n",
      "101442 \t 636\n",
      "102080 \t 638\n",
      "102720 \t 640\n",
      "103362 \t 642\n",
      "104006 \t 644\n",
      "104652 \t 646\n",
      "105300 \t 648\n",
      "105950 \t 650\n",
      "106602 \t 652\n",
      "107256 \t 654\n",
      "107912 \t 656\n",
      "108570 \t 658\n",
      "109230 \t 660\n",
      "109892 \t 662\n",
      "110556 \t 664\n",
      "111222 \t 666\n",
      "111890 \t 668\n",
      "112560 \t 670\n",
      "113232 \t 672\n",
      "113906 \t 674\n",
      "114582 \t 676\n",
      "115260 \t 678\n",
      "115940 \t 680\n",
      "116622 \t 682\n",
      "117306 \t 684\n",
      "117992 \t 686\n",
      "118680 \t 688\n",
      "119370 \t 690\n",
      "120062 \t 692\n",
      "120756 \t 694\n",
      "121452 \t 696\n",
      "122150 \t 698\n",
      "122850 \t 700\n",
      "123552 \t 702\n",
      "124256 \t 704\n",
      "124962 \t 706\n",
      "125670 \t 708\n",
      "126380 \t 710\n",
      "127092 \t 712\n",
      "127806 \t 714\n",
      "128522 \t 716\n",
      "129240 \t 718\n",
      "129960 \t 720\n",
      "130682 \t 722\n",
      "131406 \t 724\n",
      "132132 \t 726\n",
      "132860 \t 728\n",
      "133590 \t 730\n",
      "134322 \t 732\n",
      "135056 \t 734\n",
      "135792 \t 736\n",
      "136530 \t 738\n",
      "137270 \t 740\n",
      "138012 \t 742\n",
      "138756 \t 744\n",
      "139502 \t 746\n",
      "140250 \t 748\n",
      "141000 \t 750\n",
      "141752 \t 752\n",
      "142506 \t 754\n",
      "143262 \t 756\n",
      "144020 \t 758\n",
      "144780 \t 760\n",
      "145542 \t 762\n",
      "146306 \t 764\n",
      "147072 \t 766\n",
      "147840 \t 768\n",
      "148610 \t 770\n",
      "149382 \t 772\n",
      "150156 \t 774\n",
      "150932 \t 776\n",
      "151710 \t 778\n",
      "152490 \t 780\n",
      "153272 \t 782\n",
      "154056 \t 784\n",
      "154842 \t 786\n",
      "155630 \t 788\n",
      "156420 \t 790\n",
      "157212 \t 792\n",
      "158006 \t 794\n",
      "158802 \t 796\n",
      "159600 \t 798\n",
      "160400 \t 800\n",
      "161202 \t 802\n",
      "162006 \t 804\n",
      "162812 \t 806\n",
      "163620 \t 808\n",
      "164430 \t 810\n",
      "165242 \t 812\n",
      "166056 \t 814\n",
      "166872 \t 816\n",
      "167690 \t 818\n",
      "168510 \t 820\n",
      "169332 \t 822\n",
      "170156 \t 824\n",
      "170982 \t 826\n",
      "171810 \t 828\n",
      "172640 \t 830\n",
      "173472 \t 832\n",
      "174306 \t 834\n",
      "175142 \t 836\n",
      "175980 \t 838\n",
      "176820 \t 840\n",
      "177662 \t 842\n",
      "178506 \t 844\n",
      "179352 \t 846\n",
      "180200 \t 848\n",
      "181050 \t 850\n",
      "181902 \t 852\n",
      "182756 \t 854\n",
      "183612 \t 856\n",
      "184470 \t 858\n",
      "185330 \t 860\n",
      "186192 \t 862\n",
      "187056 \t 864\n",
      "187922 \t 866\n",
      "188790 \t 868\n",
      "189660 \t 870\n",
      "190532 \t 872\n",
      "191406 \t 874\n",
      "192282 \t 876\n",
      "193160 \t 878\n",
      "194040 \t 880\n",
      "194922 \t 882\n",
      "195806 \t 884\n",
      "196692 \t 886\n",
      "197580 \t 888\n",
      "198470 \t 890\n",
      "199362 \t 892\n",
      "200256 \t 894\n",
      "201152 \t 896\n",
      "202050 \t 898\n",
      "202950 \t 900\n",
      "203852 \t 902\n",
      "204756 \t 904\n",
      "205662 \t 906\n",
      "206570 \t 908\n",
      "207480 \t 910\n",
      "208392 \t 912\n",
      "209306 \t 914\n",
      "210222 \t 916\n",
      "211140 \t 918\n",
      "212060 \t 920\n",
      "212982 \t 922\n",
      "213906 \t 924\n",
      "214832 \t 926\n",
      "215760 \t 928\n",
      "216690 \t 930\n",
      "217622 \t 932\n",
      "218556 \t 934\n",
      "219492 \t 936\n",
      "220430 \t 938\n",
      "221370 \t 940\n",
      "222312 \t 942\n",
      "223256 \t 944\n",
      "224202 \t 946\n",
      "225150 \t 948\n",
      "226100 \t 950\n",
      "227052 \t 952\n",
      "228006 \t 954\n",
      "228962 \t 956\n",
      "229920 \t 958\n",
      "230880 \t 960\n",
      "231842 \t 962\n",
      "232806 \t 964\n",
      "233772 \t 966\n",
      "234740 \t 968\n",
      "235710 \t 970\n",
      "236682 \t 972\n",
      "237656 \t 974\n",
      "238632 \t 976\n",
      "239610 \t 978\n",
      "240590 \t 980\n",
      "241572 \t 982\n",
      "242556 \t 984\n",
      "243542 \t 986\n",
      "244530 \t 988\n",
      "245520 \t 990\n",
      "246512 \t 992\n",
      "247506 \t 994\n",
      "248502 \t 996\n",
      "249500 \t 998\n"
     ]
    }
   ],
   "source": [
    "# Bad Practice to copy and paste old code\n",
    "total = 0\n",
    "values = [i for i in range(0,1000,2)]\n",
    "print(\"total\\t\", \"value\")\n",
    "for value in values:\n",
    "    total += value\n",
    "    print(total, \"\\t\", value)"
   ]
  },
  {
   "cell_type": "code",
   "execution_count": 13,
   "id": "0580e146-74fa-4ba4-a413-da3d56384e1c",
   "metadata": {},
   "outputs": [
    {
     "data": {
      "text/plain": [
       "249500"
      ]
     },
     "execution_count": 13,
     "metadata": {},
     "output_type": "execute_result"
    }
   ],
   "source": [
    "def total(list):\n",
    "    total_ = 0\n",
    "    # in original he used the index of the list \n",
    "    # n = len(list)\n",
    "    # for i in range(n)\n",
    "    for val in list:\n",
    "        total_ += val\n",
    "    return total_\n",
    "total(values)"
   ]
  },
  {
   "cell_type": "code",
   "execution_count": 12,
   "id": "a4363f56-28bd-4e72-8e89-d50070072b08",
   "metadata": {},
   "outputs": [
    {
     "data": {
      "text/plain": [
       "932984"
      ]
     },
     "execution_count": 12,
     "metadata": {},
     "output_type": "execute_result"
    }
   ],
   "source": [
    "total([i for i in range(-1000, 10000, 53)])"
   ]
  },
  {
   "cell_type": "code",
   "execution_count": 17,
   "id": "4805e9e0-3918-410e-a06f-af39574dc350",
   "metadata": {},
   "outputs": [
    {
     "data": {
      "text/plain": [
       "(165, 416)"
      ]
     },
     "execution_count": 17,
     "metadata": {},
     "output_type": "execute_result"
    }
   ],
   "source": [
    "import random\n",
    "X1 = [3, 6, 9, 12, 15, 18, 21, 24, 27, 30]\n",
    "X2 = [random.randint(0,100) for i in range(10)]\n",
    "total(X1), total(X2)"
   ]
  },
  {
   "cell_type": "markdown",
   "id": "efa900a3-885c-447f-b30a-609d1279f1fc",
   "metadata": {},
   "source": [
    "### Mean"
   ]
  },
  {
   "cell_type": "code",
   "execution_count": null,
   "id": "d52ba119-d2cc-4ad6-add0-5cfea5cb8524",
   "metadata": {},
   "outputs": [],
   "source": []
  },
  {
   "cell_type": "code",
   "execution_count": 18,
   "id": "0f33f5ef-5a08-4b3d-8089-faf457db4b99",
   "metadata": {},
   "outputs": [
    {
     "data": {
      "text/plain": [
       "(16.5, 41.6)"
      ]
     },
     "execution_count": 18,
     "metadata": {},
     "output_type": "execute_result"
    }
   ],
   "source": [
    "def mean(list):\n",
    "    n = len(list)\n",
    "    mean_ = total(list) / n\n",
    "    return mean_\n",
    "mean(X1), mean(X2)"
   ]
  },
  {
   "cell_type": "markdown",
   "id": "bb03fca9-fd16-4f05-b50e-73c07f917376",
   "metadata": {},
   "source": [
    "Now lets build the rest of the summary statistical fuctions\n",
    "\n",
    "1. median\n",
    "2. mode\n",
    "3. variance\n",
    "4. standard variation\n",
    "5. standard error\n",
    "6. covariance\n",
    "7. correlation"
   ]
  },
  {
   "cell_type": "markdown",
   "id": "2f82e9fe-7722-4db7-84c3-43e0f93d3202",
   "metadata": {},
   "source": [
    "### Median"
   ]
  },
  {
   "cell_type": "code",
   "execution_count": 33,
   "id": "73f20f66-928c-4750-a1a9-17fc8a912735",
   "metadata": {},
   "outputs": [
    {
     "name": "stdout",
     "output_type": "stream",
     "text": [
      "[3, 6, 9, 12, 15, 18, 21, 24, 27, 30]\n"
     ]
    },
    {
     "data": {
      "text/plain": [
       "16.5"
      ]
     },
     "execution_count": 33,
     "metadata": {},
     "output_type": "execute_result"
    }
   ],
   "source": [
    "def median(list):\n",
    "    n = len(list)\n",
    "    list = sorted(list)\n",
    "    \n",
    "    \n",
    "    ## two cases: \n",
    "    ## lists of odds lengths\n",
    "    ## i % j checks for remainder after dividing i by j\n",
    "    if n % 2!= 0:\n",
    "        middle_index = int((n - 1) / 2)\n",
    "        median_ = list[middle_index]\n",
    "    \n",
    "    ## list of even lengths\n",
    "    else:\n",
    "        upper_middle_index = int(n / 2)\n",
    "        lower_middle_index = upper_middle_index - 1\n",
    "        # pass slice with two middle values to mean()\n",
    "        median_ = mean(list[lower_middle_index: upper_middle_index + 1])\n",
    "    return median_\n",
    "\n",
    "print(X1)\n",
    "median(X1)"
   ]
  },
  {
   "cell_type": "code",
   "execution_count": 34,
   "id": "6b74e9de-ba66-4efa-bcb2-20750eec95bf",
   "metadata": {},
   "outputs": [
    {
     "data": {
      "text/plain": [
       "15"
      ]
     },
     "execution_count": 34,
     "metadata": {},
     "output_type": "execute_result"
    }
   ],
   "source": [
    "# this shows what would happen with an odd list\n",
    "median(X1[:-1])"
   ]
  },
  {
   "cell_type": "code",
   "execution_count": 20,
   "id": "386c2534-4945-4a05-bffa-569229a37c32",
   "metadata": {},
   "outputs": [
    {
     "data": {
      "text/plain": [
       "[0, 4, 20, 21, 23, 62, 64, 65, 65, 92]"
      ]
     },
     "execution_count": 20,
     "metadata": {},
     "output_type": "execute_result"
    }
   ],
   "source": [
    "sorted(X2)"
   ]
  },
  {
   "cell_type": "markdown",
   "id": "3455a437-8573-4bb8-867b-4154c8076ef8",
   "metadata": {},
   "source": [
    "### Mode"
   ]
  },
  {
   "cell_type": "code",
   "execution_count": 42,
   "id": "26568184-497e-484c-8f61-b4ea9af9c349",
   "metadata": {},
   "outputs": [
    {
     "data": {
      "text/plain": [
       "[1, 5]"
      ]
     },
     "execution_count": 42,
     "metadata": {},
     "output_type": "execute_result"
    }
   ],
   "source": [
    "def mode(list):\n",
    "    count_dct = {}\n",
    "# create entries with 0\n",
    "    for key in list:\n",
    "        count_dct[key] = 0\n",
    "# add up each occurance\n",
    "    for key in list:\n",
    "        count_dct[key] += 1\n",
    "# calculate max count up front\n",
    "    max_count = max(count_dct.values())\n",
    "    mode_ = []\n",
    "# now we can compare each count to the max count\n",
    "    for key, count in count_dct.items():\n",
    "        if count == max_count:\n",
    "            mode_.append(key)\n",
    "            \n",
    "    \n",
    "    return mode_\n",
    "\n",
    "\n",
    "list = [1,1,1,1,1,2,3,4,5,5,5,5,5,1000,1000]\n",
    "mode(list)"
   ]
  },
  {
   "cell_type": "markdown",
   "id": "43ee5da7-912b-4bc6-b75c-f134a7fdd375",
   "metadata": {},
   "source": [
    "## Variance\n",
    "\n",
    "**********"
   ]
  },
  {
   "cell_type": "code",
   "execution_count": 47,
   "id": "d3c6ec32-08ca-4a94-af77-bb09db5e0fc3",
   "metadata": {},
   "outputs": [
    {
     "data": {
      "text/plain": [
       "(82.5, 74.25)"
      ]
     },
     "execution_count": 47,
     "metadata": {},
     "output_type": "execute_result"
    }
   ],
   "source": [
    "def variance(list, sample = True):\n",
    "    list_mean = mean(list)\n",
    "    n = len(list)\n",
    "    DoF = n - 1\n",
    "    sum_sq_diff = 0\n",
    "    \n",
    "    for val in list:\n",
    "        diff = val - list_mean\n",
    "        sum_sq_diff += (diff) ** 2\n",
    "        ## print(val, list_mean, diff ** 2, sum_sq_diff)\n",
    "    if sample == False:\n",
    "        variance_ = sum_sq_diff / n\n",
    "    else:\n",
    "        variance_ = sum_sq_diff / DoF\n",
    "    return variance_\n",
    "\n",
    "variance(X1, sample = True), variance(X1, sample = False)"
   ]
  },
  {
   "cell_type": "code",
   "execution_count": 48,
   "id": "111f9ba4-0ecf-46dd-87cf-26fca109d25a",
   "metadata": {},
   "outputs": [
    {
     "data": {
      "text/plain": [
       "(992.7111111111111, 893.4399999999999)"
      ]
     },
     "execution_count": 48,
     "metadata": {},
     "output_type": "execute_result"
    }
   ],
   "source": [
    "variance(X2, sample = True), variance(X2, sample = False)"
   ]
  },
  {
   "cell_type": "code",
   "execution_count": null,
   "id": "ce623a1a-35d6-447d-b294-66f4d3f62936",
   "metadata": {},
   "outputs": [],
   "source": []
  },
  {
   "cell_type": "code",
   "execution_count": 49,
   "id": "5529ff7e-5e1a-417c-bc4a-599d0eda0964",
   "metadata": {},
   "outputs": [
    {
     "data": {
      "text/plain": [
       "(9.082951062292475, 8.616843969807043)"
      ]
     },
     "execution_count": 49,
     "metadata": {},
     "output_type": "execute_result"
    }
   ],
   "source": [
    "def SD(list, sample = True):\n",
    "    SD_ = variance(list, sample) ** (1/2)\n",
    "    return SD_\n",
    "SD(X1, sample = True), SD(X1, sample = False)"
   ]
  },
  {
   "cell_type": "code",
   "execution_count": 50,
   "id": "c4bd2d3f-1f16-4506-94db-6228da69d129",
   "metadata": {},
   "outputs": [
    {
     "data": {
      "text/plain": [
       "(31.50731837384945, 29.890466707631045)"
      ]
     },
     "execution_count": 50,
     "metadata": {},
     "output_type": "execute_result"
    }
   ],
   "source": [
    "SD(X2, sample = True), SD(X2, sample = False)"
   ]
  },
  {
   "cell_type": "markdown",
   "id": "c177ea33-6be5-4bf0-9178-4ecd5eb0846c",
   "metadata": {},
   "source": [
    "### Standard Error"
   ]
  },
  {
   "cell_type": "code",
   "execution_count": 53,
   "id": "f1537ffa-596d-4121-8916-ea33a5e992dc",
   "metadata": {},
   "outputs": [],
   "source": [
    "def STE(list, sample = True):\n",
    "    n = len(list)\n",
    "    se = SD(list, sample) / n ** (1/2)\n",
    "    \n",
    "    return se"
   ]
  },
  {
   "cell_type": "code",
   "execution_count": 54,
   "id": "c68b54b3-d902-48a9-8987-585c8e88b85d",
   "metadata": {},
   "outputs": [
    {
     "data": {
      "text/plain": [
       "(9.082951062292475, 2.872281323269014)"
      ]
     },
     "execution_count": 54,
     "metadata": {},
     "output_type": "execute_result"
    }
   ],
   "source": [
    "SD(X1, sample = True), STE(X1, sample = True)"
   ]
  },
  {
   "cell_type": "code",
   "execution_count": 55,
   "id": "c0193700-e913-47d8-ada3-6e5986234870",
   "metadata": {},
   "outputs": [
    {
     "data": {
      "text/plain": [
       "(31.50731837384945, 9.963488902543682)"
      ]
     },
     "execution_count": 55,
     "metadata": {},
     "output_type": "execute_result"
    }
   ],
   "source": [
    "SD(X2, sample = True), STE(X2, sample = True)"
   ]
  },
  {
   "cell_type": "markdown",
   "id": "81a93c1e-8d7c-41e2-99cf-67b900279ec3",
   "metadata": {},
   "source": [
    "### Covariance"
   ]
  },
  {
   "cell_type": "code",
   "execution_count": 62,
   "id": "6d9ec915-4220-4d25-97bb-e59eaaf5a4c4",
   "metadata": {},
   "outputs": [
    {
     "data": {
      "text/plain": [
       "-110.33333333333331"
      ]
     },
     "execution_count": 62,
     "metadata": {},
     "output_type": "execute_result"
    }
   ],
   "source": [
    "def covariance(list1, list2, sample = True):\n",
    "    mean1 = mean(list1)\n",
    "    mean2 = mean(list2)\n",
    "    \n",
    "    cov = 0\n",
    "    n1 = len(list1)\n",
    "    n2 = len(list2)\n",
    "    if n1 == n2:\n",
    "        n = n1\n",
    "        # sum the product of the differences\n",
    "        for i in range(n):\n",
    "            cov += (list1[i] - mean1) * (list2[i] - mean2)\n",
    "        if sample == False:\n",
    "            cov = cov / n\n",
    "        else:\n",
    "            cov = cov / (n - 1)\n",
    "    else:\n",
    "        print(\"List Lengths are not equal\")\n",
    "        print(\"List 1\", n1)\n",
    "        print(\"List 2\", n2)\n",
    "    \n",
    "    return cov\n",
    "covariance(X1, X2, sample = True)"
   ]
  },
  {
   "cell_type": "code",
   "execution_count": 63,
   "id": "ee3f621f-1989-4552-8f4a-0f890afde59e",
   "metadata": {},
   "outputs": [
    {
     "name": "stdout",
     "output_type": "stream",
     "text": [
      "List Lengths are not equal\n",
      "List 1 9\n",
      "List 2 10\n"
     ]
    },
    {
     "data": {
      "text/plain": [
       "0"
      ]
     },
     "execution_count": 63,
     "metadata": {},
     "output_type": "execute_result"
    }
   ],
   "source": [
    "covariance(X1[:-1], X2)"
   ]
  },
  {
   "cell_type": "code",
   "execution_count": null,
   "id": "43c817ae-4cf2-4594-8588-0b7e466e28b3",
   "metadata": {},
   "outputs": [],
   "source": []
  },
  {
   "cell_type": "code",
   "execution_count": 64,
   "id": "8efb52ae-45db-4513-b32c-2ae269af4ed1",
   "metadata": {},
   "outputs": [
    {
     "data": {
      "text/plain": [
       "-0.385539006031148"
      ]
     },
     "execution_count": 64,
     "metadata": {},
     "output_type": "execute_result"
    }
   ],
   "source": [
    "def correlation(list1, list2):\n",
    "    cov = covariance(list1, list2)\n",
    "    SD1 = SD(list1)\n",
    "    SD2 = SD(list2)\n",
    "    corr = cov / (SD1 * SD2)\n",
    "    \n",
    "    return corr\n",
    "correlation(X1, X2)"
   ]
  },
  {
   "cell_type": "code",
   "execution_count": 65,
   "id": "2d2631b6-90df-4dcd-b439-c51d8476b9e1",
   "metadata": {},
   "outputs": [
    {
     "data": {
      "text/plain": [
       "-1.0"
      ]
     },
     "execution_count": 65,
     "metadata": {},
     "output_type": "execute_result"
    }
   ],
   "source": [
    "X3 = [x * -0.5 for x in X1]\n",
    "correlation(X1, X3)"
   ]
  },
  {
   "cell_type": "code",
   "execution_count": 66,
   "id": "15b5a2a7-e574-4cdf-a78c-a9b6d505ae92",
   "metadata": {},
   "outputs": [
    {
     "name": "stdout",
     "output_type": "stream",
     "text": [
      "[3, 6, 9, 12, 15, 18, 21, 24, 27, 30] [92, 64, 23, 65, 0, 20, 62, 21, 4, 65]\n"
     ]
    }
   ],
   "source": [
    "print(X1, X2)"
   ]
  },
  {
   "cell_type": "code",
   "execution_count": null,
   "id": "3ee23d9d-a5f7-4e7b-96c3-318cc48d4a52",
   "metadata": {},
   "outputs": [],
   "source": []
  },
  {
   "cell_type": "code",
   "execution_count": 69,
   "id": "39a868d9-aa9b-4b88-97ad-bf567ebe7b53",
   "metadata": {},
   "outputs": [
    {
     "data": {
      "text/plain": [
       "0.0"
      ]
     },
     "execution_count": 69,
     "metadata": {},
     "output_type": "execute_result"
    }
   ],
   "source": [
    "def skewness(list, sample = True):\n",
    "    mean_ = mean(list)\n",
    "    SD_ = SD(list, sample)\n",
    "    skew = 0\n",
    "    n = len(list)\n",
    "    for val in list:\n",
    "        skew += (val - mean_) ** 3\n",
    "    skew = skew / (n * SD_ ** 3) if not sample else\\\n",
    "        n * skew / ((n - 1) / (n - 2) * SD_ ** 3)\n",
    "    return skew\n",
    "\n",
    "skewness(X1)"
   ]
  },
  {
   "cell_type": "code",
   "execution_count": 70,
   "id": "6d6b7b22-640e-4c77-b5ff-feb0845c4150",
   "metadata": {},
   "outputs": [
    {
     "data": {
      "text/plain": [
       "6.5295922760650384"
      ]
     },
     "execution_count": 70,
     "metadata": {},
     "output_type": "execute_result"
    }
   ],
   "source": [
    "skewness(X2)"
   ]
  },
  {
   "cell_type": "code",
   "execution_count": null,
   "id": "1c8e77b8-2435-43e5-9b0b-b372d1860c93",
   "metadata": {},
   "outputs": [],
   "source": []
  },
  {
   "cell_type": "code",
   "execution_count": 87,
   "id": "8c9f6161-b1b8-40f3-85be-517c2b1ace99",
   "metadata": {},
   "outputs": [
    {
     "data": {
      "text/plain": [
       "1.7757575757575759"
      ]
     },
     "execution_count": 87,
     "metadata": {},
     "output_type": "execute_result"
    }
   ],
   "source": [
    "def kurtosis(list, sample = True):\n",
    "    mean_ = mean(list)\n",
    "    kurt = 0 \n",
    "    SD_ = SD(list, sample)\n",
    "    n = len(list)\n",
    "    for val in list:\n",
    "        kurt += (val - mean_) ** 4\n",
    "    kurt = kurt / (n * SD_ ** 4) if sample == False else n * (n + 1) * kurt / \\\n",
    "        ((n - 1) * (n - 2) * (n - 3) * (SD_ ** 4) - (3 *(n - 1) ** 2))\n",
    "    \n",
    "    return kurt\n",
    "\n",
    "kurtosis(X1, sample = False)"
   ]
  },
  {
   "cell_type": "code",
   "execution_count": 85,
   "id": "a00460fd-3142-4f68-94ff-102d2c112104",
   "metadata": {},
   "outputs": [
    {
     "data": {
      "text/plain": [
       "1.627091225678823"
      ]
     },
     "execution_count": 85,
     "metadata": {},
     "output_type": "execute_result"
    }
   ],
   "source": [
    "kurtosis(X2, sample = False)"
   ]
  },
  {
   "cell_type": "markdown",
   "id": "9ce80e4f-1776-4153-a0e0-b104105c48df",
   "metadata": {},
   "source": [
    "### Gather Statistics"
   ]
  },
  {
   "cell_type": "code",
   "execution_count": 83,
   "id": "683aec05-9a50-4d9b-ba29-b3aad6fdf8b3",
   "metadata": {},
   "outputs": [
    {
     "data": {
      "text/html": [
       "<div>\n",
       "<style scoped>\n",
       "    .dataframe tbody tr th:only-of-type {\n",
       "        vertical-align: middle;\n",
       "    }\n",
       "\n",
       "    .dataframe tbody tr th {\n",
       "        vertical-align: top;\n",
       "    }\n",
       "\n",
       "    .dataframe thead th {\n",
       "        text-align: right;\n",
       "    }\n",
       "</style>\n",
       "<table border=\"1\" class=\"dataframe\">\n",
       "  <thead>\n",
       "    <tr style=\"text-align: right;\">\n",
       "      <th></th>\n",
       "      <th>List1</th>\n",
       "      <th>List2</th>\n",
       "    </tr>\n",
       "  </thead>\n",
       "  <tbody>\n",
       "    <tr>\n",
       "      <th>mean</th>\n",
       "      <td>16.50</td>\n",
       "      <td>41.60</td>\n",
       "    </tr>\n",
       "    <tr>\n",
       "      <th>median</th>\n",
       "      <td>16.50</td>\n",
       "      <td>42.50</td>\n",
       "    </tr>\n",
       "    <tr>\n",
       "      <th>variance</th>\n",
       "      <td>82.50</td>\n",
       "      <td>992.71</td>\n",
       "    </tr>\n",
       "    <tr>\n",
       "      <th>S.D.</th>\n",
       "      <td>8.62</td>\n",
       "      <td>29.89</td>\n",
       "    </tr>\n",
       "    <tr>\n",
       "      <th>skewness</th>\n",
       "      <td>0.00</td>\n",
       "      <td>0.09</td>\n",
       "    </tr>\n",
       "    <tr>\n",
       "      <th>kurtosis</th>\n",
       "      <td>1.78</td>\n",
       "      <td>1.63</td>\n",
       "    </tr>\n",
       "  </tbody>\n",
       "</table>\n",
       "</div>"
      ],
      "text/plain": [
       "          List1   List2\n",
       "mean      16.50   41.60\n",
       "median    16.50   42.50\n",
       "variance  82.50  992.71\n",
       "S.D.       8.62   29.89\n",
       "skewness   0.00    0.09\n",
       "kurtosis   1.78    1.63"
      ]
     },
     "execution_count": 83,
     "metadata": {},
     "output_type": "execute_result"
    }
   ],
   "source": [
    "import pandas as pd\n",
    "def gather_statistics(df, sample = False, round_dig = 2):\n",
    "    dct = {key:{} for key in df}\n",
    "    for key, val in df.items():\n",
    "        val.dropna(inplace = True)\n",
    "        dct[key][\"mean\"] = round(mean(val), round_dig)\n",
    "        dct[key][\"median\"] = round(median(val), round_dig)\n",
    "        dct[key][\"variance\"] = round(variance(val), round_dig)\n",
    "        dct[key][\"S.D.\"] = round(SD(val, sample), round_dig)\n",
    "        dct[key][\"skewness\"] = round(skewness(val, sample), round_dig)\n",
    "        dct[key][\"kurtosis\"] = round(kurtosis(val, sample), round_dig)\n",
    "    stats_df = pd.DataFrame(dct)\n",
    "    return(stats_df)\n",
    "data = pd.DataFrame([X1,X2], index = [\"List1\", \"List2\"]).T\n",
    "gather_statistics(data, sample = False, round_dig = 2)"
   ]
  },
  {
   "cell_type": "markdown",
   "id": "7a18f297-0b8f-4d79-a011-4a84dc2f57d5",
   "metadata": {},
   "source": [
    "## Fraser Economic Freedom of the World "
   ]
  },
  {
   "cell_type": "code",
   "execution_count": 96,
   "id": "c2b62b9a-bec4-49f4-af13-1af489e2985e",
   "metadata": {},
   "outputs": [
    {
     "data": {
      "text/html": [
       "<div>\n",
       "<style scoped>\n",
       "    .dataframe tbody tr th:only-of-type {\n",
       "        vertical-align: middle;\n",
       "    }\n",
       "\n",
       "    .dataframe tbody tr th {\n",
       "        vertical-align: top;\n",
       "    }\n",
       "\n",
       "    .dataframe thead th {\n",
       "        text-align: right;\n",
       "    }\n",
       "</style>\n",
       "<table border=\"1\" class=\"dataframe\">\n",
       "  <thead>\n",
       "    <tr style=\"text-align: right;\">\n",
       "      <th></th>\n",
       "      <th></th>\n",
       "      <th>Unnamed: 0</th>\n",
       "      <th>ISO Code 2</th>\n",
       "      <th>Countries</th>\n",
       "      <th>Economic Freedom Summary Index</th>\n",
       "      <th>Rank</th>\n",
       "      <th>Quartile</th>\n",
       "      <th>1A Government Consumption</th>\n",
       "      <th>data</th>\n",
       "      <th>1B  Transfers and subsidies</th>\n",
       "      <th>data.1</th>\n",
       "      <th>...</th>\n",
       "      <th>Unnamed: 101</th>\n",
       "      <th>Unnamed: 102</th>\n",
       "      <th>Unnamed: 103</th>\n",
       "      <th>Unnamed: 104</th>\n",
       "      <th>Unnamed: 105</th>\n",
       "      <th>Unnamed: 106</th>\n",
       "      <th>Unnamed: 107</th>\n",
       "      <th>Unnamed: 108</th>\n",
       "      <th>Unnamed: 109</th>\n",
       "      <th>Unnamed: 110</th>\n",
       "    </tr>\n",
       "    <tr>\n",
       "      <th>ISO Code 3</th>\n",
       "      <th>Year</th>\n",
       "      <th></th>\n",
       "      <th></th>\n",
       "      <th></th>\n",
       "      <th></th>\n",
       "      <th></th>\n",
       "      <th></th>\n",
       "      <th></th>\n",
       "      <th></th>\n",
       "      <th></th>\n",
       "      <th></th>\n",
       "      <th></th>\n",
       "      <th></th>\n",
       "      <th></th>\n",
       "      <th></th>\n",
       "      <th></th>\n",
       "      <th></th>\n",
       "      <th></th>\n",
       "      <th></th>\n",
       "      <th></th>\n",
       "      <th></th>\n",
       "      <th></th>\n",
       "    </tr>\n",
       "  </thead>\n",
       "  <tbody>\n",
       "    <tr>\n",
       "      <th>ALB</th>\n",
       "      <th>2020</th>\n",
       "      <td>NaN</td>\n",
       "      <td>AL</td>\n",
       "      <td>Albania</td>\n",
       "      <td>7.64</td>\n",
       "      <td>26.0</td>\n",
       "      <td>1.0</td>\n",
       "      <td>8.026471</td>\n",
       "      <td>12.710000</td>\n",
       "      <td>6.978202</td>\n",
       "      <td>11.590000</td>\n",
       "      <td>...</td>\n",
       "      <td>2011.00</td>\n",
       "      <td>2012.00</td>\n",
       "      <td>2013.00</td>\n",
       "      <td>2014.00</td>\n",
       "      <td>2015.00</td>\n",
       "      <td>2016.0</td>\n",
       "      <td>2017.0</td>\n",
       "      <td>2018.0</td>\n",
       "      <td>2019.00</td>\n",
       "      <td>2020.00</td>\n",
       "    </tr>\n",
       "    <tr>\n",
       "      <th>DZA</th>\n",
       "      <th>2020</th>\n",
       "      <td>NaN</td>\n",
       "      <td>DZ</td>\n",
       "      <td>Algeria</td>\n",
       "      <td>5.12</td>\n",
       "      <td>157.0</td>\n",
       "      <td>4.0</td>\n",
       "      <td>3.102941</td>\n",
       "      <td>29.450000</td>\n",
       "      <td>7.817129</td>\n",
       "      <td>8.511137</td>\n",
       "      <td>...</td>\n",
       "      <td>153.00</td>\n",
       "      <td>153.00</td>\n",
       "      <td>157.00</td>\n",
       "      <td>159.00</td>\n",
       "      <td>159.00</td>\n",
       "      <td>162.0</td>\n",
       "      <td>162.0</td>\n",
       "      <td>162.0</td>\n",
       "      <td>165.00</td>\n",
       "      <td>165.00</td>\n",
       "    </tr>\n",
       "    <tr>\n",
       "      <th>AGO</th>\n",
       "      <th>2020</th>\n",
       "      <td>NaN</td>\n",
       "      <td>AO</td>\n",
       "      <td>Angola</td>\n",
       "      <td>5.91</td>\n",
       "      <td>138.0</td>\n",
       "      <td>4.0</td>\n",
       "      <td>7.700000</td>\n",
       "      <td>13.820000</td>\n",
       "      <td>9.702997</td>\n",
       "      <td>1.590000</td>\n",
       "      <td>...</td>\n",
       "      <td>38.25</td>\n",
       "      <td>38.25</td>\n",
       "      <td>39.25</td>\n",
       "      <td>39.75</td>\n",
       "      <td>39.75</td>\n",
       "      <td>40.5</td>\n",
       "      <td>40.5</td>\n",
       "      <td>40.5</td>\n",
       "      <td>41.25</td>\n",
       "      <td>41.25</td>\n",
       "    </tr>\n",
       "    <tr>\n",
       "      <th>ARG</th>\n",
       "      <th>2020</th>\n",
       "      <td>NaN</td>\n",
       "      <td>AR</td>\n",
       "      <td>Argentina</td>\n",
       "      <td>4.87</td>\n",
       "      <td>161.0</td>\n",
       "      <td>4.0</td>\n",
       "      <td>5.985294</td>\n",
       "      <td>19.650000</td>\n",
       "      <td>6.493188</td>\n",
       "      <td>13.370000</td>\n",
       "      <td>...</td>\n",
       "      <td>114.75</td>\n",
       "      <td>114.75</td>\n",
       "      <td>117.75</td>\n",
       "      <td>119.25</td>\n",
       "      <td>119.25</td>\n",
       "      <td>121.5</td>\n",
       "      <td>121.5</td>\n",
       "      <td>121.5</td>\n",
       "      <td>123.75</td>\n",
       "      <td>123.75</td>\n",
       "    </tr>\n",
       "    <tr>\n",
       "      <th>ARM</th>\n",
       "      <th>2020</th>\n",
       "      <td>NaN</td>\n",
       "      <td>AM</td>\n",
       "      <td>Armenia</td>\n",
       "      <td>7.84</td>\n",
       "      <td>11.0</td>\n",
       "      <td>1.0</td>\n",
       "      <td>6.605882</td>\n",
       "      <td>17.540000</td>\n",
       "      <td>7.223433</td>\n",
       "      <td>10.690000</td>\n",
       "      <td>...</td>\n",
       "      <td>76.50</td>\n",
       "      <td>76.50</td>\n",
       "      <td>78.50</td>\n",
       "      <td>79.50</td>\n",
       "      <td>79.50</td>\n",
       "      <td>81.0</td>\n",
       "      <td>81.0</td>\n",
       "      <td>81.0</td>\n",
       "      <td>82.50</td>\n",
       "      <td>82.50</td>\n",
       "    </tr>\n",
       "    <tr>\n",
       "      <th>...</th>\n",
       "      <th>...</th>\n",
       "      <td>...</td>\n",
       "      <td>...</td>\n",
       "      <td>...</td>\n",
       "      <td>...</td>\n",
       "      <td>...</td>\n",
       "      <td>...</td>\n",
       "      <td>...</td>\n",
       "      <td>...</td>\n",
       "      <td>...</td>\n",
       "      <td>...</td>\n",
       "      <td>...</td>\n",
       "      <td>...</td>\n",
       "      <td>...</td>\n",
       "      <td>...</td>\n",
       "      <td>...</td>\n",
       "      <td>...</td>\n",
       "      <td>...</td>\n",
       "      <td>...</td>\n",
       "      <td>...</td>\n",
       "      <td>...</td>\n",
       "      <td>...</td>\n",
       "    </tr>\n",
       "    <tr>\n",
       "      <th>VEN</th>\n",
       "      <th>1970</th>\n",
       "      <td>NaN</td>\n",
       "      <td>VE</td>\n",
       "      <td>Venezuela, RB</td>\n",
       "      <td>7.19</td>\n",
       "      <td>13.0</td>\n",
       "      <td>1.0</td>\n",
       "      <td>6.602003</td>\n",
       "      <td>17.553191</td>\n",
       "      <td>9.827430</td>\n",
       "      <td>1.133333</td>\n",
       "      <td>...</td>\n",
       "      <td>NaN</td>\n",
       "      <td>NaN</td>\n",
       "      <td>NaN</td>\n",
       "      <td>NaN</td>\n",
       "      <td>NaN</td>\n",
       "      <td>NaN</td>\n",
       "      <td>NaN</td>\n",
       "      <td>NaN</td>\n",
       "      <td>NaN</td>\n",
       "      <td>NaN</td>\n",
       "    </tr>\n",
       "    <tr>\n",
       "      <th>VNM</th>\n",
       "      <th>1970</th>\n",
       "      <td>NaN</td>\n",
       "      <td>VN</td>\n",
       "      <td>Vietnam</td>\n",
       "      <td>NaN</td>\n",
       "      <td>NaN</td>\n",
       "      <td>NaN</td>\n",
       "      <td>NaN</td>\n",
       "      <td>NaN</td>\n",
       "      <td>NaN</td>\n",
       "      <td>NaN</td>\n",
       "      <td>...</td>\n",
       "      <td>NaN</td>\n",
       "      <td>NaN</td>\n",
       "      <td>NaN</td>\n",
       "      <td>NaN</td>\n",
       "      <td>NaN</td>\n",
       "      <td>NaN</td>\n",
       "      <td>NaN</td>\n",
       "      <td>NaN</td>\n",
       "      <td>NaN</td>\n",
       "      <td>NaN</td>\n",
       "    </tr>\n",
       "    <tr>\n",
       "      <th>YEM</th>\n",
       "      <th>1970</th>\n",
       "      <td>NaN</td>\n",
       "      <td>YE</td>\n",
       "      <td>Yemen, Rep.</td>\n",
       "      <td>NaN</td>\n",
       "      <td>NaN</td>\n",
       "      <td>NaN</td>\n",
       "      <td>NaN</td>\n",
       "      <td>NaN</td>\n",
       "      <td>NaN</td>\n",
       "      <td>NaN</td>\n",
       "      <td>...</td>\n",
       "      <td>NaN</td>\n",
       "      <td>NaN</td>\n",
       "      <td>NaN</td>\n",
       "      <td>NaN</td>\n",
       "      <td>NaN</td>\n",
       "      <td>NaN</td>\n",
       "      <td>NaN</td>\n",
       "      <td>NaN</td>\n",
       "      <td>NaN</td>\n",
       "      <td>NaN</td>\n",
       "    </tr>\n",
       "    <tr>\n",
       "      <th>ZMB</th>\n",
       "      <th>1970</th>\n",
       "      <td>NaN</td>\n",
       "      <td>ZM</td>\n",
       "      <td>Zambia</td>\n",
       "      <td>5.33</td>\n",
       "      <td>54.0</td>\n",
       "      <td>3.0</td>\n",
       "      <td>3.448131</td>\n",
       "      <td>28.276353</td>\n",
       "      <td>9.105430</td>\n",
       "      <td>3.783070</td>\n",
       "      <td>...</td>\n",
       "      <td>NaN</td>\n",
       "      <td>NaN</td>\n",
       "      <td>NaN</td>\n",
       "      <td>NaN</td>\n",
       "      <td>NaN</td>\n",
       "      <td>NaN</td>\n",
       "      <td>NaN</td>\n",
       "      <td>NaN</td>\n",
       "      <td>NaN</td>\n",
       "      <td>NaN</td>\n",
       "    </tr>\n",
       "    <tr>\n",
       "      <th>ZWE</th>\n",
       "      <th>1970</th>\n",
       "      <td>NaN</td>\n",
       "      <td>ZW</td>\n",
       "      <td>Zimbabwe</td>\n",
       "      <td>NaN</td>\n",
       "      <td>NaN</td>\n",
       "      <td>NaN</td>\n",
       "      <td>7.806922</td>\n",
       "      <td>13.456464</td>\n",
       "      <td>NaN</td>\n",
       "      <td>NaN</td>\n",
       "      <td>...</td>\n",
       "      <td>NaN</td>\n",
       "      <td>NaN</td>\n",
       "      <td>NaN</td>\n",
       "      <td>NaN</td>\n",
       "      <td>NaN</td>\n",
       "      <td>NaN</td>\n",
       "      <td>NaN</td>\n",
       "      <td>NaN</td>\n",
       "      <td>NaN</td>\n",
       "      <td>NaN</td>\n",
       "    </tr>\n",
       "  </tbody>\n",
       "</table>\n",
       "<p>4455 rows × 109 columns</p>\n",
       "</div>"
      ],
      "text/plain": [
       "                 Unnamed: 0 ISO Code 2      Countries  \\\n",
       "ISO Code 3 Year                                         \n",
       "ALB        2020         NaN         AL        Albania   \n",
       "DZA        2020         NaN         DZ        Algeria   \n",
       "AGO        2020         NaN         AO         Angola   \n",
       "ARG        2020         NaN         AR      Argentina   \n",
       "ARM        2020         NaN         AM        Armenia   \n",
       "...                     ...        ...            ...   \n",
       "VEN        1970         NaN         VE  Venezuela, RB   \n",
       "VNM        1970         NaN         VN        Vietnam   \n",
       "YEM        1970         NaN         YE    Yemen, Rep.   \n",
       "ZMB        1970         NaN         ZM         Zambia   \n",
       "ZWE        1970         NaN         ZW       Zimbabwe   \n",
       "\n",
       "                 Economic Freedom Summary Index   Rank  Quartile  \\\n",
       "ISO Code 3 Year                                                    \n",
       "ALB        2020                            7.64   26.0       1.0   \n",
       "DZA        2020                            5.12  157.0       4.0   \n",
       "AGO        2020                            5.91  138.0       4.0   \n",
       "ARG        2020                            4.87  161.0       4.0   \n",
       "ARM        2020                            7.84   11.0       1.0   \n",
       "...                                         ...    ...       ...   \n",
       "VEN        1970                            7.19   13.0       1.0   \n",
       "VNM        1970                             NaN    NaN       NaN   \n",
       "YEM        1970                             NaN    NaN       NaN   \n",
       "ZMB        1970                            5.33   54.0       3.0   \n",
       "ZWE        1970                             NaN    NaN       NaN   \n",
       "\n",
       "                 1A Government Consumption       data  \\\n",
       "ISO Code 3 Year                                         \n",
       "ALB        2020                   8.026471  12.710000   \n",
       "DZA        2020                   3.102941  29.450000   \n",
       "AGO        2020                   7.700000  13.820000   \n",
       "ARG        2020                   5.985294  19.650000   \n",
       "ARM        2020                   6.605882  17.540000   \n",
       "...                                    ...        ...   \n",
       "VEN        1970                   6.602003  17.553191   \n",
       "VNM        1970                        NaN        NaN   \n",
       "YEM        1970                        NaN        NaN   \n",
       "ZMB        1970                   3.448131  28.276353   \n",
       "ZWE        1970                   7.806922  13.456464   \n",
       "\n",
       "                 1B  Transfers and subsidies     data.1  ...  Unnamed: 101  \\\n",
       "ISO Code 3 Year                                          ...                 \n",
       "ALB        2020                     6.978202  11.590000  ...       2011.00   \n",
       "DZA        2020                     7.817129   8.511137  ...        153.00   \n",
       "AGO        2020                     9.702997   1.590000  ...         38.25   \n",
       "ARG        2020                     6.493188  13.370000  ...        114.75   \n",
       "ARM        2020                     7.223433  10.690000  ...         76.50   \n",
       "...                                      ...        ...  ...           ...   \n",
       "VEN        1970                     9.827430   1.133333  ...           NaN   \n",
       "VNM        1970                          NaN        NaN  ...           NaN   \n",
       "YEM        1970                          NaN        NaN  ...           NaN   \n",
       "ZMB        1970                     9.105430   3.783070  ...           NaN   \n",
       "ZWE        1970                          NaN        NaN  ...           NaN   \n",
       "\n",
       "                 Unnamed: 102  Unnamed: 103 Unnamed: 104  Unnamed: 105  \\\n",
       "ISO Code 3 Year                                                          \n",
       "ALB        2020       2012.00       2013.00      2014.00       2015.00   \n",
       "DZA        2020        153.00        157.00       159.00        159.00   \n",
       "AGO        2020         38.25         39.25        39.75         39.75   \n",
       "ARG        2020        114.75        117.75       119.25        119.25   \n",
       "ARM        2020         76.50         78.50        79.50         79.50   \n",
       "...                       ...           ...          ...           ...   \n",
       "VEN        1970           NaN           NaN          NaN           NaN   \n",
       "VNM        1970           NaN           NaN          NaN           NaN   \n",
       "YEM        1970           NaN           NaN          NaN           NaN   \n",
       "ZMB        1970           NaN           NaN          NaN           NaN   \n",
       "ZWE        1970           NaN           NaN          NaN           NaN   \n",
       "\n",
       "                Unnamed: 106  Unnamed: 107  Unnamed: 108  Unnamed: 109  \\\n",
       "ISO Code 3 Year                                                          \n",
       "ALB        2020       2016.0        2017.0        2018.0       2019.00   \n",
       "DZA        2020        162.0         162.0         162.0        165.00   \n",
       "AGO        2020         40.5          40.5          40.5         41.25   \n",
       "ARG        2020        121.5         121.5         121.5        123.75   \n",
       "ARM        2020         81.0          81.0          81.0         82.50   \n",
       "...                      ...           ...           ...           ...   \n",
       "VEN        1970          NaN           NaN           NaN           NaN   \n",
       "VNM        1970          NaN           NaN           NaN           NaN   \n",
       "YEM        1970          NaN           NaN           NaN           NaN   \n",
       "ZMB        1970          NaN           NaN           NaN           NaN   \n",
       "ZWE        1970          NaN           NaN           NaN           NaN   \n",
       "\n",
       "                 Unnamed: 110  \n",
       "ISO Code 3 Year                \n",
       "ALB        2020       2020.00  \n",
       "DZA        2020        165.00  \n",
       "AGO        2020         41.25  \n",
       "ARG        2020        123.75  \n",
       "ARM        2020         82.50  \n",
       "...                       ...  \n",
       "VEN        1970           NaN  \n",
       "VNM        1970           NaN  \n",
       "YEM        1970           NaN  \n",
       "ZMB        1970           NaN  \n",
       "ZWE        1970           NaN  \n",
       "\n",
       "[4455 rows x 109 columns]"
      ]
     },
     "execution_count": 96,
     "metadata": {},
     "output_type": "execute_result"
    }
   ],
   "source": [
    "filename = \"fraser.xlsx\"\n",
    "data = pd.read_excel(filename, header = [4],\n",
    "                    index_col = [3,1])\n",
    "data"
   ]
  },
  {
   "cell_type": "code",
   "execution_count": null,
   "id": "780ac784-2329-463d-b743-9ee8f75e2ae1",
   "metadata": {},
   "outputs": [],
   "source": [
    "data = pd.read_excel(filename, \n",
    "                     sheet_name = \"EFW Panel Data 2022 Report\")\n",
    "rename = {\"Panel Data Summary Index\":\"Summary\",\n",
    "          \"Area 1\":\"Size of Government\",\n",
    "          \"Area 2\":\"Legal System and Property Rights\",\n",
    "          \"Area 3\":\"Sound Money\",\n",
    "          \"Area 4\":\"Freedom\n",
    "data"
   ]
  }
 ],
 "metadata": {
  "kernelspec": {
   "display_name": "Python 3 (ipykernel)",
   "language": "python",
   "name": "python3"
  },
  "language_info": {
   "codemirror_mode": {
    "name": "ipython",
    "version": 3
   },
   "file_extension": ".py",
   "mimetype": "text/x-python",
   "name": "python",
   "nbconvert_exporter": "python",
   "pygments_lexer": "ipython3",
   "version": "3.9.13"
  }
 },
 "nbformat": 4,
 "nbformat_minor": 5
}
