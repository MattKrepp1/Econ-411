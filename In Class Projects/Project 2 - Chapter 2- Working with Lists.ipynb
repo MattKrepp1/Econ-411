{
 "cells": [
  {
   "cell_type": "markdown",
   "id": "d2b0f44f-0247-4136-b7eb-eef13ee37c4e",
   "metadata": {},
   "source": [
    "Working with Lists\n",
    "\n",
    "New Concepts\tDescription\n",
    "Dynamic List\tA dynamic list is encapsulated by brackets ([]). A list is mutable. Elements can be added to or deleted from a list on the fly.\n",
    "List Concatenation\tTwo lists can be joined together in the same manner that strings are concatenated.\n",
    "List Indexing\tLists are indexed with the first element being indexed as zero and the last element as the length of (number of elements in) the list less one. Indexes are called using brackets – i.e., lst[0] calls the 0th element in the list.\n",
    "In later chapters, we will combine lists with dictionaries to essential data structures. We will also work with more efficient and convenient data structures using the numpy and pandas libraries.\n",
    "\n",
    "Below we make our first lists. One will be empty. Another will contain integers. Another will have floats. Another strings. Another will mix these:"
   ]
  },
  {
   "cell_type": "code",
   "execution_count": 1,
   "id": "197a151e-afc7-436a-8f58-9e5421fbb5b4",
   "metadata": {},
   "outputs": [
    {
     "data": {
      "text/plain": [
       "([], list)"
      ]
     },
     "execution_count": 1,
     "metadata": {},
     "output_type": "execute_result"
    }
   ],
   "source": [
    "empty_list = []\n",
    "empty_list, type(empty_list)"
   ]
  },
  {
   "cell_type": "code",
   "execution_count": 2,
   "id": "26c6a5ae-8522-4616-ba55-17709a6081bb",
   "metadata": {},
   "outputs": [
    {
     "data": {
      "text/plain": [
       "([1, 2, 3, 4, 5], list)"
      ]
     },
     "execution_count": 2,
     "metadata": {},
     "output_type": "execute_result"
    }
   ],
   "source": [
    "int_list = [1,2,3,4,5]\n",
    "int_list, type(int_list)"
   ]
  },
  {
   "cell_type": "code",
   "execution_count": 3,
   "id": "1f29e00e-4e61-4eb6-b1ee-b27b576c7817",
   "metadata": {},
   "outputs": [
    {
     "data": {
      "text/plain": [
       "([1.0, 2.0, 3.0, 4.0, 5.0], list)"
      ]
     },
     "execution_count": 3,
     "metadata": {},
     "output_type": "execute_result"
    }
   ],
   "source": [
    "float_list = [1.,2.,3.,4.,5.]\n",
    "float_list, type(float_list)"
   ]
  },
  {
   "cell_type": "code",
   "execution_count": 4,
   "id": "45d5b9ef-c17b-40f6-9f25-59d8633dc839",
   "metadata": {},
   "outputs": [
    {
     "data": {
      "text/plain": [
       "(['many words', 'impoverished meaning'], list)"
      ]
     },
     "execution_count": 4,
     "metadata": {},
     "output_type": "execute_result"
    }
   ],
   "source": [
    "string_list = [\"many words\", \"impoverished meaning\"]\n",
    "string_list, type(string_list)"
   ]
  },
  {
   "cell_type": "code",
   "execution_count": 5,
   "id": "ccc3c7d9-a74f-4eb3-93ba-f85b2bdb0a86",
   "metadata": {},
   "outputs": [
    {
     "data": {
      "text/plain": [
       "([1, 2.0, 'mix it up'], list)"
      ]
     },
     "execution_count": 5,
     "metadata": {},
     "output_type": "execute_result"
    }
   ],
   "source": [
    "mixed_list = [1, 2.0, 'mix it up']\n",
    "mixed_list, type(mixed_list)"
   ]
  },
  {
   "cell_type": "markdown",
   "id": "fcc40e41-58a6-40e0-a168-9340c830d5a6",
   "metadata": {},
   "source": [
    "## Concatenating Lists"
   ]
  },
  {
   "cell_type": "code",
   "execution_count": 6,
   "id": "affc5624-9689-4c06-ac48-cc0ae2d2c800",
   "metadata": {},
   "outputs": [
    {
     "data": {
      "text/plain": [
       "[1, 2]"
      ]
     },
     "execution_count": 6,
     "metadata": {},
     "output_type": "execute_result"
    }
   ],
   "source": [
    "[1] + [2]"
   ]
  },
  {
   "cell_type": "code",
   "execution_count": 7,
   "id": "4d40d24a-a62f-4dd4-8df1-70d9812b3d2f",
   "metadata": {},
   "outputs": [
    {
     "data": {
      "text/plain": [
       "[1, 2]"
      ]
     },
     "execution_count": 7,
     "metadata": {},
     "output_type": "execute_result"
    }
   ],
   "source": [
    "list1 = [1]\n",
    "list2 = [2]\n",
    "join_lists = list1 + list2\n",
    "join_lists"
   ]
  },
  {
   "cell_type": "code",
   "execution_count": 8,
   "id": "2f0ffe77-861a-4dc9-96cc-2e93b3986205",
   "metadata": {},
   "outputs": [
    {
     "data": {
      "text/plain": [
       "'12'"
      ]
     },
     "execution_count": 8,
     "metadata": {},
     "output_type": "execute_result"
    }
   ],
   "source": [
    "## similar to concatenating strings\n",
    "str1 = \"1\"\n",
    "str2 = \"2\"\n",
    "join_strs = str1 + str2\n",
    "join_strs"
   ]
  },
  {
   "cell_type": "markdown",
   "id": "3fa80584-81cb-4bb7-b3ad-8a98c42f1d97",
   "metadata": {},
   "source": [
    "## For Loops and Range\n",
    "\n",
    "New Concepts\tDescription\n",
    "Dynamic List\tA dynamic list is encapsulated by brackets ([]). A list is mutable. Elements can be added to or deleted from a list on the fly.\n",
    "List Concatenation\tTwo lists can be joined together in the same manner that strings are concatenated.\n",
    "List Indexing\tLists are indexed with the first element being indexed as zero and the last element as the length of (number of elements in) the list less one. Indexes are called using brackets – i.e., lst[0] calls the 0th element in the list.\n",
    "In later chapters, we will combine lists with dictionaries to essential data structures. We will also work with more efficient and convenient data structures using the numpy and pandas libraries.\n",
    "\n",
    "a for loop using in range will cycle through variable i from integer j to k - 1 by increments of 1\n",
    "**for i in range (j,k,l)**"
   ]
  },
  {
   "cell_type": "code",
   "execution_count": 9,
   "id": "042508ab-d0fb-40e2-9e49-74f234f5f8d2",
   "metadata": {
    "tags": []
   },
   "outputs": [
    {
     "name": "stdout",
     "output_type": "stream",
     "text": [
      "1\n",
      "2\n",
      "3\n",
      "4\n",
      "5\n",
      "6\n",
      "7\n",
      "8\n",
      "9\n",
      "10\n",
      "11\n",
      "12\n",
      "13\n",
      "14\n",
      "15\n",
      "16\n",
      "17\n",
      "18\n",
      "19\n",
      "20\n",
      "21\n",
      "22\n",
      "23\n",
      "24\n",
      "25\n",
      "26\n",
      "27\n",
      "28\n",
      "29\n",
      "30\n",
      "31\n",
      "32\n",
      "33\n",
      "34\n",
      "35\n",
      "36\n",
      "37\n",
      "38\n",
      "39\n",
      "40\n",
      "41\n",
      "42\n",
      "43\n",
      "44\n",
      "45\n",
      "46\n",
      "47\n",
      "48\n",
      "49\n",
      "50\n",
      "51\n",
      "52\n",
      "53\n",
      "54\n",
      "55\n",
      "56\n",
      "57\n",
      "58\n",
      "59\n",
      "60\n",
      "61\n",
      "62\n",
      "63\n",
      "64\n",
      "65\n",
      "66\n",
      "67\n",
      "68\n",
      "69\n",
      "70\n",
      "71\n",
      "72\n",
      "73\n",
      "74\n",
      "75\n",
      "76\n",
      "77\n",
      "78\n",
      "79\n",
      "80\n",
      "81\n",
      "82\n",
      "83\n",
      "84\n",
      "85\n",
      "86\n",
      "87\n",
      "88\n",
      "89\n",
      "90\n",
      "91\n",
      "92\n",
      "93\n",
      "94\n",
      "95\n",
      "96\n",
      "97\n",
      "98\n",
      "99\n"
     ]
    }
   ],
   "source": [
    "for i in range (1, 10 ** 2):\n",
    "    print (i)"
   ]
  },
  {
   "cell_type": "code",
   "execution_count": 10,
   "id": "c09749cd-975b-453a-a4ca-da4aa8333e46",
   "metadata": {
    "tags": []
   },
   "outputs": [
    {
     "name": "stdout",
     "output_type": "stream",
     "text": [
      "1 1\n",
      "2 3\n",
      "3 6\n",
      "4 10\n",
      "5 15\n",
      "6 21\n",
      "7 28\n",
      "8 36\n",
      "9 45\n",
      "10 55\n",
      "11 66\n",
      "12 78\n",
      "13 91\n",
      "14 105\n",
      "15 120\n",
      "16 136\n",
      "17 153\n",
      "18 171\n",
      "19 190\n",
      "20 210\n",
      "21 231\n",
      "22 253\n",
      "23 276\n",
      "24 300\n",
      "25 325\n",
      "26 351\n",
      "27 378\n",
      "28 406\n",
      "29 435\n",
      "30 465\n",
      "31 496\n",
      "32 528\n",
      "33 561\n",
      "34 595\n",
      "35 630\n",
      "36 666\n",
      "37 703\n",
      "38 741\n",
      "39 780\n",
      "40 820\n",
      "41 861\n",
      "42 903\n",
      "43 946\n",
      "44 990\n",
      "45 1035\n",
      "46 1081\n",
      "47 1128\n",
      "48 1176\n",
      "49 1225\n",
      "50 1275\n",
      "51 1326\n",
      "52 1378\n",
      "53 1431\n",
      "54 1485\n",
      "55 1540\n",
      "56 1596\n",
      "57 1653\n",
      "58 1711\n",
      "59 1770\n",
      "60 1830\n",
      "61 1891\n",
      "62 1953\n",
      "63 2016\n",
      "64 2080\n",
      "65 2145\n",
      "66 2211\n",
      "67 2278\n",
      "68 2346\n",
      "69 2415\n",
      "70 2485\n",
      "71 2556\n",
      "72 2628\n",
      "73 2701\n",
      "74 2775\n",
      "75 2850\n",
      "76 2926\n",
      "77 3003\n",
      "78 3081\n",
      "79 3160\n",
      "80 3240\n",
      "81 3321\n",
      "82 3403\n",
      "83 3486\n",
      "84 3570\n",
      "85 3655\n",
      "86 3741\n",
      "87 3828\n",
      "88 3916\n",
      "89 4005\n",
      "90 4095\n",
      "91 4186\n",
      "92 4278\n",
      "93 4371\n",
      "94 4465\n",
      "95 4560\n",
      "96 4656\n",
      "97 4753\n",
      "98 4851\n",
      "99 4950\n",
      "100 5050\n"
     ]
    }
   ],
   "source": [
    "total = 0\n",
    "for i in range (1, 101):\n",
    "    total = total + i \n",
    "    print(i, total)"
   ]
  },
  {
   "cell_type": "code",
   "execution_count": 11,
   "id": "de2dc854-6394-41b1-830e-cbe742b1290f",
   "metadata": {},
   "outputs": [
    {
     "name": "stdout",
     "output_type": "stream",
     "text": [
      "1 1\n",
      "3 4\n",
      "5 9\n",
      "7 16\n",
      "9 25\n",
      "11 36\n",
      "13 49\n",
      "15 64\n",
      "17 81\n",
      "19 100\n",
      "21 121\n",
      "23 144\n",
      "25 169\n",
      "27 196\n",
      "29 225\n",
      "31 256\n",
      "33 289\n",
      "35 324\n",
      "37 361\n",
      "39 400\n",
      "41 441\n",
      "43 484\n",
      "45 529\n",
      "47 576\n",
      "49 625\n",
      "51 676\n",
      "53 729\n",
      "55 784\n",
      "57 841\n",
      "59 900\n",
      "61 961\n",
      "63 1024\n",
      "65 1089\n",
      "67 1156\n",
      "69 1225\n",
      "71 1296\n",
      "73 1369\n",
      "75 1444\n",
      "77 1521\n",
      "79 1600\n",
      "81 1681\n",
      "83 1764\n",
      "85 1849\n",
      "87 1936\n",
      "89 2025\n",
      "91 2116\n",
      "93 2209\n",
      "95 2304\n",
      "97 2401\n",
      "99 2500\n"
     ]
    }
   ],
   "source": [
    "total = 0 \n",
    "for i in range(1,101,2):\n",
    "    total = total + i\n",
    "    print(i,total)"
   ]
  },
  {
   "cell_type": "code",
   "execution_count": 12,
   "id": "9487e92c-76d2-4985-8731-ae18e9ea504c",
   "metadata": {},
   "outputs": [
    {
     "name": "stdout",
     "output_type": "stream",
     "text": [
      "538\n",
      "342\n",
      "6\n",
      "435\n",
      "543\n",
      "j False\n",
      "h False\n",
      "t False\n",
      "i False\n",
      "4 False\n",
      "k True\n",
      "3 False\n",
      "h False\n",
      "2 False\n",
      "u False\n",
      "3 False\n",
      "i False\n"
     ]
    }
   ],
   "source": [
    "list1 = [538,342,6,435,543]\n",
    "str1 = \"jhti4k3h2u3i\"\n",
    "\n",
    "for val in list1:\n",
    "    print(val)\n",
    "    \n",
    "for string in str1:\n",
    "    print(string, string == \"k\")"
   ]
  },
  {
   "cell_type": "code",
   "execution_count": 13,
   "id": "df8e97ee-87f5-4dec-8331-fb3a37b3b974",
   "metadata": {},
   "outputs": [
    {
     "data": {
      "text/plain": [
       "[1, 2, 3, 4]"
      ]
     },
     "execution_count": 13,
     "metadata": {},
     "output_type": "execute_result"
    }
   ],
   "source": [
    "list1 = [1,2]\n",
    "list2 = [3,4]\n",
    "list1 + list2"
   ]
  },
  {
   "cell_type": "markdown",
   "id": "01e8bb29-a662-45a3-a866-4e092efbbcf2",
   "metadata": {},
   "source": [
    "## More on Range Fuction"
   ]
  },
  {
   "cell_type": "code",
   "execution_count": 14,
   "id": "4e3eb42f-d0c6-47a9-9004-7afbc651f039",
   "metadata": {},
   "outputs": [
    {
     "name": "stdout",
     "output_type": "stream",
     "text": [
      "0\n",
      "2\n",
      "4\n",
      "6\n",
      "8\n",
      "[0, 2, 4, 6, 8]\n"
     ]
    }
   ],
   "source": [
    "## Create a list by appending values to the list\n",
    "list1 = []\n",
    "for i in range (0,9,2):\n",
    "    print(i)\n",
    "    list1.append(i)\n",
    "\n",
    "print(list1)"
   ]
  },
  {
   "cell_type": "code",
   "execution_count": 15,
   "id": "31517318-73b9-488d-902a-edd37ffee651",
   "metadata": {},
   "outputs": [
    {
     "data": {
      "text/plain": [
       "[0, 1, 2, 3, 4, 5, 6, 7, 8]"
      ]
     },
     "execution_count": 15,
     "metadata": {},
     "output_type": "execute_result"
    }
   ],
   "source": [
    "## Create a list by passing range (i,j,l)\n",
    "## More efficient alternative to using append within a far loop\n",
    "list2 = list(range(0,9,1))\n",
    "list2"
   ]
  },
  {
   "cell_type": "code",
   "execution_count": 16,
   "id": "f79bc606-ddfb-4767-8893-a63984406dc1",
   "metadata": {},
   "outputs": [],
   "source": [
    "## Using len() with Range"
   ]
  },
  {
   "cell_type": "code",
   "execution_count": 17,
   "id": "c2af7631-7273-44b1-8320-2132c7b3b6fa",
   "metadata": {},
   "outputs": [
    {
     "name": "stdout",
     "output_type": "stream",
     "text": [
      "i val\n",
      "0 0\n",
      "1 1\n",
      "2 2\n",
      "3 3\n",
      "4 4\n",
      "5 5\n",
      "6 6\n",
      "7 7\n",
      "8 8\n"
     ]
    }
   ],
   "source": [
    "list2_len = len(list2)\n",
    "print(\"i\",\"val\")\n",
    "for i in range(list2_len):\n",
    "    print(i, list2[i])"
   ]
  },
  {
   "cell_type": "markdown",
   "id": "819559f5-2d88-4d36-a898-5eb1bc826827",
   "metadata": {},
   "source": [
    "### Nested for loop"
   ]
  },
  {
   "cell_type": "code",
   "execution_count": 18,
   "id": "b4199e55-d54f-4206-8503-5ccc8c12b495",
   "metadata": {},
   "outputs": [
    {
     "name": "stdout",
     "output_type": "stream",
     "text": [
      "i list\n",
      "1 [0, 1, 2, 3, 4, 5, 6, 7, 8]\n",
      "length: 9\n",
      "j val\n",
      "0 0\n",
      "1 1\n",
      "2 2\n",
      "3 3\n",
      "4 4\n",
      "5 5\n",
      "6 6\n",
      "7 7\n",
      "8 8\n",
      "2 [0, 2, 4, 6, 8]\n",
      "length: 5\n",
      "j val\n",
      "0 0\n",
      "1 2\n",
      "2 4\n",
      "3 6\n",
      "4 8\n",
      "3 [0, 3, 6]\n",
      "length: 3\n",
      "j val\n",
      "0 0\n",
      "1 3\n",
      "2 6\n",
      "4 [0, 4, 8]\n",
      "length: 3\n",
      "j val\n",
      "0 0\n",
      "1 4\n",
      "2 8\n",
      "5 [0, 5]\n",
      "length: 2\n",
      "j val\n",
      "0 0\n",
      "1 5\n"
     ]
    }
   ],
   "source": [
    "print(\"i\",\"list\")\n",
    "\n",
    "# Create a new list2 according to the inerval values called by the for loop\n",
    "for interval in range(1,6):\n",
    "    list2 = list(range(0,9, interval))\n",
    "    print(interval,list2)\n",
    "    list2_len = len(list2)\n",
    "    print(\"length:\", list2_len)\n",
    "    print(\"j\", \"val\")\n",
    "\n",
    "    for j in range (list2_len):\n",
    "        print(j, list2[j])"
   ]
  },
  {
   "cell_type": "markdown",
   "id": "6f145eb1-a6a3-4ad2-b974-bcc7f996886b",
   "metadata": {},
   "source": [
    "## If Statements and Boolean Variables"
   ]
  },
  {
   "cell_type": "code",
   "execution_count": 19,
   "id": "38c0bb5a-f9db-4ed0-a9c4-311ff9d0b50c",
   "metadata": {},
   "outputs": [
    {
     "name": "stdout",
     "output_type": "stream",
     "text": [
      "True\n",
      "False\n",
      "0\n",
      "1\n"
     ]
    }
   ],
   "source": [
    "# Boolean\n",
    "print(True)\n",
    "print(False)\n",
    "print(True * False)\n",
    "print(True * True)\n"
   ]
  },
  {
   "cell_type": "code",
   "execution_count": 20,
   "id": "696479a3-0e34-4155-9b89-65cace04622f",
   "metadata": {},
   "outputs": [
    {
     "name": "stdout",
     "output_type": "stream",
     "text": [
      "True\n",
      "False\n",
      "if boolean2 is False, then you just printed this text. If not, then nothing happened\n"
     ]
    }
   ],
   "source": [
    "boolean = True\n",
    "if boolean: # if boolean = true\n",
    "    print(boolean)\n",
    "    \n",
    "boolean2 = False\n",
    "if boolean2 == False: #if boolean2 == True\n",
    "    print(boolean2)\n",
    "    print(\"if boolean2 is False, then you just printed this text. If not, then nothing happened\")"
   ]
  },
  {
   "cell_type": "code",
   "execution_count": 21,
   "id": "dcf5f94c-2832-4f06-93c0-1655c398f16f",
   "metadata": {},
   "outputs": [
    {
     "data": {
      "text/plain": [
       "True"
      ]
     },
     "execution_count": 21,
     "metadata": {},
     "output_type": "execute_result"
    }
   ],
   "source": [
    "False == False"
   ]
  },
  {
   "cell_type": "code",
   "execution_count": 22,
   "id": "98aff832-8c1e-4e5f-ad88-1a427a623d46",
   "metadata": {},
   "outputs": [
    {
     "data": {
      "text/plain": [
       "True"
      ]
     },
     "execution_count": 22,
     "metadata": {},
     "output_type": "execute_result"
    }
   ],
   "source": [
    "1 == True"
   ]
  },
  {
   "cell_type": "code",
   "execution_count": 23,
   "id": "1c4dc954-0965-4395-8bb3-912d6aa0ddd6",
   "metadata": {},
   "outputs": [
    {
     "data": {
      "text/plain": [
       "False"
      ]
     },
     "execution_count": 23,
     "metadata": {},
     "output_type": "execute_result"
    }
   ],
   "source": [
    "# != is \"not equal to\"\n",
    "1 != True"
   ]
  },
  {
   "cell_type": "markdown",
   "id": "a7939a01-eb04-42c3-b330-178ed7b654e4",
   "metadata": {},
   "source": [
    "## Use a boolean variable to track the appearance of the word \"ate\""
   ]
  },
  {
   "cell_type": "code",
   "execution_count": 24,
   "id": "fc03e297-06cf-40cd-a078-c1dca6dcfdb8",
   "metadata": {},
   "outputs": [
    {
     "name": "stdout",
     "output_type": "stream",
     "text": [
      "0 The\n",
      "Is the word The \"ate\"?: False\n",
      "1 dog\n",
      "Is the word dog \"ate\"?: False\n",
      "2 ate\n",
      "Is the word ate \"ate\"?: True\n",
      "3 the\n",
      "Is the word the \"ate\"?: False\n",
      "4 snow\n",
      "Is the word snow \"ate\"?: False\n",
      "5 and\n",
      "Is the word and \"ate\"?: False\n",
      "6 ate\n",
      "Is the word ate \"ate\"?: True\n",
      "7 his\n",
      "Is the word his \"ate\"?: False\n",
      "8 dog\n",
      "Is the word dog \"ate\"?: False\n",
      "9 food\n",
      "Is the word food \"ate\"?: False\n"
     ]
    },
    {
     "data": {
      "text/plain": [
       "[2, 6]"
      ]
     },
     "execution_count": 24,
     "metadata": {},
     "output_type": "execute_result"
    }
   ],
   "source": [
    "words = (\"The\",\"dog\",\"ate\",\"the\",\"snow\", \"and\", \"ate\", \"his\", \"dog\", \"food\")\n",
    "# does the word \"ate\" appear in the list? If so, where?\n",
    "ate_index_list = []\n",
    "num_words = len(words)\n",
    "for i in range(num_words):\n",
    "# save the string at index i as word\n",
    "    word = words[i]\n",
    "    is_ate = word == \"ate\"\n",
    "    print(i, word)\n",
    "    print(\"Is the word\", word, \"\\\"ate\\\"?:\", is_ate)\n",
    "# is_ate is a boolean variable that tells whether or not the current word is \"ate\"\n",
    "    if is_ate:\n",
    "        ate_index_list.append(i)\n",
    "ate_index_list\n",
    "# if the word is \"ate\", then add the index to the list so that we can have an easy to reference record of the indices\n",
    "# where \"ate\" appears"
   ]
  },
  {
   "cell_type": "code",
   "execution_count": 25,
   "id": "57690737-effa-4461-8f73-bb4ce24da947",
   "metadata": {},
   "outputs": [
    {
     "data": {
      "text/plain": [
       "False"
      ]
     },
     "execution_count": 25,
     "metadata": {},
     "output_type": "execute_result"
    }
   ],
   "source": [
    "is_ate = word == \"ate\"\n",
    "is_ate"
   ]
  },
  {
   "cell_type": "markdown",
   "id": "e19a8d39-a05c-4a84-9841-81da5f51ee11",
   "metadata": {},
   "source": [
    "# if, else, and elif"
   ]
  },
  {
   "cell_type": "code",
   "execution_count": 26,
   "id": "fbf9f141-34d2-4b28-8911-b01c62d8a987",
   "metadata": {},
   "outputs": [
    {
     "name": "stdout",
     "output_type": "stream",
     "text": [
      "1 in the domain of 0 and 10\n",
      "6 in the domain of 0 and 10\n",
      "23 is greater than 10\n",
      "765432 is greater than 10\n",
      "432 is greater than 10\n",
      "1 in the domain of 0 and 10\n",
      "34 is greater than 10\n",
      "43 is greater than 10\n",
      "5 in the domain of 0 and 10\n",
      "7 in the domain of 0 and 10\n",
      "4 in the domain of 0 and 10\n",
      "-1 is negative\n",
      "-4 is negative\n",
      "8.5 in the domain of 0 and 10\n"
     ]
    }
   ],
   "source": [
    "random_numbers = [1,6,23,765432,432,1,34,43,5,7,4,-1,-4,\"8.5\"]\n",
    "\n",
    "# if the number is greater than 10\n",
    "greater_than_10 = []\n",
    "zero_to_10 = []\n",
    "negative_numbers = []\n",
    "\n",
    "for number in random_numbers:\n",
    "    # catches strings that might be in your list\n",
    "    if type(number) == str: number = float(number)\n",
    "    if number > 10:\n",
    "        print(number, \"is greater than 10\")\n",
    "        greater_than_10.append(number)\n",
    "    elif number >= 0:\n",
    "        print(number, \"in the domain of 0 and 10\")\n",
    "        zero_to_10.append(number)\n",
    "    else:\n",
    "        print(number, \"is negative\")\n",
    "        negative_numbers.append(number)"
   ]
  },
  {
   "cell_type": "code",
   "execution_count": 27,
   "id": "4de86967-f171-4dd7-a6c4-9c40a0630a7a",
   "metadata": {},
   "outputs": [
    {
     "ename": "NameError",
     "evalue": "name 'not_greater_than_10' is not defined",
     "output_type": "error",
     "traceback": [
      "\u001b[0;31m---------------------------------------------------------------------------\u001b[0m",
      "\u001b[0;31mNameError\u001b[0m                                 Traceback (most recent call last)",
      "\u001b[0;32m/var/folders/hz/vggy99z9791d4jlzyvlw3r9w0000gn/T/ipykernel_86150/4267442047.py\u001b[0m in \u001b[0;36m<module>\u001b[0;34m\u001b[0m\n\u001b[0;32m----> 1\u001b[0;31m \u001b[0mnot_greater_than_10\u001b[0m\u001b[0;34m\u001b[0m\u001b[0;34m\u001b[0m\u001b[0m\n\u001b[0m",
      "\u001b[0;31mNameError\u001b[0m: name 'not_greater_than_10' is not defined"
     ]
    }
   ],
   "source": [
    "not_greater_than_10"
   ]
  },
  {
   "cell_type": "code",
   "execution_count": null,
   "id": "98a49bbd-4619-438c-bd35-0e5cf152c5d4",
   "metadata": {},
   "outputs": [],
   "source": [
    "greater_than_10"
   ]
  },
  {
   "cell_type": "code",
   "execution_count": null,
   "id": "714b605a-0d2a-4401-bb0c-e13b90fbb35b",
   "metadata": {},
   "outputs": [],
   "source": [
    "greater_than_10, zero_to_10, negative_numbers"
   ]
  },
  {
   "cell_type": "code",
   "execution_count": null,
   "id": "afc28c17-7d1f-45eb-a658-276d367dd39c",
   "metadata": {},
   "outputs": [],
   "source": [
    "# use del to remove the ith element from list\n",
    "del greater_than_10[1]\n",
    "del zero_to_10[1]\n",
    "del negative_numbers[1]\n",
    "greater_than_10, zero_to_10, negative_numbers"
   ]
  },
  {
   "cell_type": "code",
   "execution_count": null,
   "id": "5ad314f3-a160-41fe-8b6a-936e08d3995a",
   "metadata": {},
   "outputs": [],
   "source": [
    "# passing -1 as a list index calls the last element in the list\n",
    "# passing -1 when using del list(i) will delete the last element in the list\n",
    "del greater_than_10[-1]\n",
    "del zero_to_10[-1]\n",
    "del negative_numbers[-1]\n",
    "greater_than_10, zero_to_10, negative_numbers"
   ]
  },
  {
   "cell_type": "markdown",
   "id": "d02f5926-c975-4174-ae20-feefc2726680",
   "metadata": {},
   "source": [
    "## Use lst.remove(val)"
   ]
  },
  {
   "cell_type": "code",
   "execution_count": null,
   "id": "3fddd28f-1d67-4dbd-8ff4-2fa7642c40e8",
   "metadata": {},
   "outputs": [],
   "source": [
    "# use lst.remove(val)\n",
    "# if you remove a value that appears twice in a list, then the first appearance of that value will be removed\n",
    "\n",
    "greater_than_10.remove (23)\n",
    "zero_to_10.remove (1)\n",
    "greater_than_10, zero_to_10"
   ]
  },
  {
   "cell_type": "markdown",
   "id": "0560e5f5-ffaa-43a4-93dc-689e56ac0a34",
   "metadata": {},
   "source": [
    "## Use list.pop\n"
   ]
  },
  {
   "cell_type": "code",
   "execution_count": null,
   "id": "09a5ea27-7165-4cb7-81df-2d6365d5eb6e",
   "metadata": {},
   "outputs": [],
   "source": [
    "last_val_in_list = greater_than_10.pop()\n",
    "greater_than_10, last_val_in_list"
   ]
  },
  {
   "cell_type": "markdown",
   "id": "a67ea4cd-0a76-4b09-810e-cc93449a6bf4",
   "metadata": {},
   "source": [
    "## Sorting Lists"
   ]
  },
  {
   "cell_type": "code",
   "execution_count": null,
   "id": "e8da782d-fb7f-4aef-85fe-a981b619bd9a",
   "metadata": {},
   "outputs": [],
   "source": [
    "# sorted(list) will sort a copy of list\n",
    "num_list = [1,4,2,5,543,22]\n",
    "num_list, sorted(num_list)"
   ]
  },
  {
   "cell_type": "code",
   "execution_count": null,
   "id": "646951f5-85f5-41e0-a77c-4a15826d2e05",
   "metadata": {},
   "outputs": [],
   "source": [
    "string_list = (\"A\", \"list\", \"of\", \"strings\", \"is\", \"in\", \"string_list\")\n",
    "string_list, sorted(string_list)"
   ]
  },
  {
   "cell_type": "code",
   "execution_count": null,
   "id": "7c2fa89d-74bc-4d26-b058-8847906ad177",
   "metadata": {},
   "outputs": [],
   "source": [
    "#lst.sort will sort the original list object\n",
    "num_list.sort()\n",
    "num_list"
   ]
  },
  {
   "cell_type": "code",
   "execution_count": null,
   "id": "79662f6f-72f0-482e-b86f-ad7f6249db58",
   "metadata": {},
   "outputs": [],
   "source": [
    "# sorting mixed lists will generate an error\n",
    "# you cannot compare strings and numerical values\n",
    "sorted(num_list + string_list)"
   ]
  },
  {
   "cell_type": "markdown",
   "id": "9769f57b-8d0e-41a4-b928-80055dfa6748",
   "metadata": {},
   "source": [
    "## List Slices"
   ]
  },
  {
   "cell_type": "code",
   "execution_count": null,
   "id": "25ad7506-739a-474f-b0c2-facf8f507e00",
   "metadata": {},
   "outputs": [],
   "source": [
    "# a slice of a list takes a subset of values from a list\n",
    "lst = [1,2,3,4,5,6,6,7]\n",
    "# compare full list to sliced list\n",
    "lst, lst[2:5]"
   ]
  },
  {
   "cell_type": "code",
   "execution_count": null,
   "id": "c7d293af-1283-43cb-8fc8-b174306b1282",
   "metadata": {},
   "outputs": [],
   "source": [
    "# count through the index by twos\n",
    "lst, lst[0:-1:2]"
   ]
  },
  {
   "cell_type": "code",
   "execution_count": null,
   "id": "d63f31ab-a586-471e-9135-bb2978a68683",
   "metadata": {},
   "outputs": [],
   "source": [
    "# implicit start and end index values\n",
    "lst, lst[::2]"
   ]
  },
  {
   "cell_type": "markdown",
   "id": "24bd7491-028c-4223-8084-22a03bd0b3e6",
   "metadata": {},
   "source": [
    "## Lists and Generator Functions"
   ]
  },
  {
   "cell_type": "code",
   "execution_count": null,
   "id": "34c94793-5f02-4f07-8906-90cb846e7236",
   "metadata": {},
   "outputs": [],
   "source": [
    "## save a generator fuction without creating a list\n",
    "generator = (i for i in range(20))\n",
    "print(generator)"
   ]
  },
  {
   "cell_type": "code",
   "execution_count": null,
   "id": "a115a8f3-ce93-49a8-bb72-db0f2cabe362",
   "metadata": {},
   "outputs": [],
   "source": [
    "list1 = list(generator)\n",
    "list1"
   ]
  },
  {
   "cell_type": "code",
   "execution_count": null,
   "id": "ea7ff0e4-e141-4489-8df6-bc3393711218",
   "metadata": {},
   "outputs": [],
   "source": [
    "list2 = [2 * i for i in range(20)]\n",
    "list2"
   ]
  },
  {
   "cell_type": "code",
   "execution_count": null,
   "id": "845d9245-86bf-4a8e-b259-82148f25f160",
   "metadata": {},
   "outputs": [],
   "source": []
  }
 ],
 "metadata": {
  "kernelspec": {
   "display_name": "Python 3 (ipykernel)",
   "language": "python",
   "name": "python3"
  },
  "language_info": {
   "codemirror_mode": {
    "name": "ipython",
    "version": 3
   },
   "file_extension": ".py",
   "mimetype": "text/x-python",
   "name": "python",
   "nbconvert_exporter": "python",
   "pygments_lexer": "ipython3",
   "version": "3.9.13"
  }
 },
 "nbformat": 4,
 "nbformat_minor": 5
}
