{
 "cells": [
  {
   "cell_type": "markdown",
   "id": "4a8b9e09-2400-4662-917c-306b55f0ab28",
   "metadata": {},
   "source": [
    "### My plan for the course project is to create a model that condenses all of the value provided by each Major League starting pitcher per year into one number. This is already a popular concept for position players using a statistic called WAR (Wins Above Replacement) and while there is a pitching adaptation of it, I think it would be beneficial to create a separate statistic for only starting pitchers. My reasoning for this is that position players and pitchers have very different jobs and I often find pitching WAR to have significant limitations. This will likely be a very challenging model to build with the number of variables involved and my own lack of experience with Python, but I think this would be a useful and beneficial project for me. After graduation, I plan to work in sports (specifically baseball) and I think having a background in predictive (or in this case descriptive) modeling would help me achieve that goal. It’s possible that a software designed around regressions (such as JMP) would be better for this task, but I’m hopeful that I will be able to find a way to build it in Python. I’ve included a dataset from Baseball Reference that includes statistics of all starting pitchers from the 2022 season. Using this resource, I can access further stats or information that I may need."
   ]
  },
  {
   "cell_type": "code",
   "execution_count": null,
   "id": "0177d1d2-969a-41f0-a134-4ee1d442b90f",
   "metadata": {},
   "outputs": [],
   "source": []
  }
 ],
 "metadata": {
  "kernelspec": {
   "display_name": "Python 3 (ipykernel)",
   "language": "python",
   "name": "python3"
  },
  "language_info": {
   "codemirror_mode": {
    "name": "ipython",
    "version": 3
   },
   "file_extension": ".py",
   "mimetype": "text/x-python",
   "name": "python",
   "nbconvert_exporter": "python",
   "pygments_lexer": "ipython3",
   "version": "3.9.13"
  }
 },
 "nbformat": 4,
 "nbformat_minor": 5
}
